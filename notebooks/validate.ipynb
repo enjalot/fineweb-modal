{
 "cells": [
  {
   "cell_type": "code",
   "execution_count": 2,
   "metadata": {},
   "outputs": [
    {
     "name": "stderr",
     "output_type": "stream",
     "text": [
      "/Users/enjalot/code/fineweb-modal/venv/lib/python3.11/site-packages/tqdm/auto.py:21: TqdmWarning: IProgress not found. Please update jupyter and ipywidgets. See https://ipywidgets.readthedocs.io/en/stable/user_install.html\n",
      "  from .autonotebook import tqdm as notebook_tqdm\n"
     ]
    }
   ],
   "source": [
    "import time\n",
    "# import tqdm\n",
    "from tqdm.notebook import tqdm  # Import the notebook version of tqdm\n",
    "\n",
    "from datasets import load_dataset\n",
    "import pandas as pd\n",
    "import numpy as np\n",
    "import huggingface_hub\n",
    "from huggingface_hub import HfFileSystem\n",
    "hffs = HfFileSystem()\n",
    "from concurrent.futures import ThreadPoolExecutor, as_completed\n",
    "\n",
    "import transformers\n",
    "transformers.logging.set_verbosity_error()\n",
    "from transformers import AutoTokenizer, AutoModel\n"
   ]
  },
  {
   "cell_type": "code",
   "execution_count": 3,
   "metadata": {},
   "outputs": [
    {
     "ename": "FileNotFoundError",
     "evalue": "[Errno 2] No such file or directory: './original-data-00000-of-00099.parquet'",
     "output_type": "error",
     "traceback": [
      "\u001b[0;31m---------------------------------------------------------------------------\u001b[0m",
      "\u001b[0;31mFileNotFoundError\u001b[0m                         Traceback (most recent call last)",
      "Cell \u001b[0;32mIn[3], line 1\u001b[0m\n\u001b[0;32m----> 1\u001b[0m df \u001b[38;5;241m=\u001b[39m \u001b[43mpd\u001b[49m\u001b[38;5;241;43m.\u001b[39;49m\u001b[43mread_parquet\u001b[49m\u001b[43m(\u001b[49m\u001b[38;5;124;43m\"\u001b[39;49m\u001b[38;5;124;43m./original-data-00000-of-00099.parquet\u001b[39;49m\u001b[38;5;124;43m\"\u001b[39;49m\u001b[43m)\u001b[49m\n",
      "File \u001b[0;32m~/code/fineweb-modal/venv/lib/python3.11/site-packages/pandas/io/parquet.py:667\u001b[0m, in \u001b[0;36mread_parquet\u001b[0;34m(path, engine, columns, storage_options, use_nullable_dtypes, dtype_backend, filesystem, filters, **kwargs)\u001b[0m\n\u001b[1;32m    664\u001b[0m     use_nullable_dtypes \u001b[38;5;241m=\u001b[39m \u001b[38;5;28;01mFalse\u001b[39;00m\n\u001b[1;32m    665\u001b[0m check_dtype_backend(dtype_backend)\n\u001b[0;32m--> 667\u001b[0m \u001b[38;5;28;01mreturn\u001b[39;00m \u001b[43mimpl\u001b[49m\u001b[38;5;241;43m.\u001b[39;49m\u001b[43mread\u001b[49m\u001b[43m(\u001b[49m\n\u001b[1;32m    668\u001b[0m \u001b[43m    \u001b[49m\u001b[43mpath\u001b[49m\u001b[43m,\u001b[49m\n\u001b[1;32m    669\u001b[0m \u001b[43m    \u001b[49m\u001b[43mcolumns\u001b[49m\u001b[38;5;241;43m=\u001b[39;49m\u001b[43mcolumns\u001b[49m\u001b[43m,\u001b[49m\n\u001b[1;32m    670\u001b[0m \u001b[43m    \u001b[49m\u001b[43mfilters\u001b[49m\u001b[38;5;241;43m=\u001b[39;49m\u001b[43mfilters\u001b[49m\u001b[43m,\u001b[49m\n\u001b[1;32m    671\u001b[0m \u001b[43m    \u001b[49m\u001b[43mstorage_options\u001b[49m\u001b[38;5;241;43m=\u001b[39;49m\u001b[43mstorage_options\u001b[49m\u001b[43m,\u001b[49m\n\u001b[1;32m    672\u001b[0m \u001b[43m    \u001b[49m\u001b[43muse_nullable_dtypes\u001b[49m\u001b[38;5;241;43m=\u001b[39;49m\u001b[43muse_nullable_dtypes\u001b[49m\u001b[43m,\u001b[49m\n\u001b[1;32m    673\u001b[0m \u001b[43m    \u001b[49m\u001b[43mdtype_backend\u001b[49m\u001b[38;5;241;43m=\u001b[39;49m\u001b[43mdtype_backend\u001b[49m\u001b[43m,\u001b[49m\n\u001b[1;32m    674\u001b[0m \u001b[43m    \u001b[49m\u001b[43mfilesystem\u001b[49m\u001b[38;5;241;43m=\u001b[39;49m\u001b[43mfilesystem\u001b[49m\u001b[43m,\u001b[49m\n\u001b[1;32m    675\u001b[0m \u001b[43m    \u001b[49m\u001b[38;5;241;43m*\u001b[39;49m\u001b[38;5;241;43m*\u001b[39;49m\u001b[43mkwargs\u001b[49m\u001b[43m,\u001b[49m\n\u001b[1;32m    676\u001b[0m \u001b[43m\u001b[49m\u001b[43m)\u001b[49m\n",
      "File \u001b[0;32m~/code/fineweb-modal/venv/lib/python3.11/site-packages/pandas/io/parquet.py:267\u001b[0m, in \u001b[0;36mPyArrowImpl.read\u001b[0;34m(self, path, columns, filters, use_nullable_dtypes, dtype_backend, storage_options, filesystem, **kwargs)\u001b[0m\n\u001b[1;32m    264\u001b[0m \u001b[38;5;28;01mif\u001b[39;00m manager \u001b[38;5;241m==\u001b[39m \u001b[38;5;124m\"\u001b[39m\u001b[38;5;124marray\u001b[39m\u001b[38;5;124m\"\u001b[39m:\n\u001b[1;32m    265\u001b[0m     to_pandas_kwargs[\u001b[38;5;124m\"\u001b[39m\u001b[38;5;124msplit_blocks\u001b[39m\u001b[38;5;124m\"\u001b[39m] \u001b[38;5;241m=\u001b[39m \u001b[38;5;28;01mTrue\u001b[39;00m  \u001b[38;5;66;03m# type: ignore[assignment]\u001b[39;00m\n\u001b[0;32m--> 267\u001b[0m path_or_handle, handles, filesystem \u001b[38;5;241m=\u001b[39m \u001b[43m_get_path_or_handle\u001b[49m\u001b[43m(\u001b[49m\n\u001b[1;32m    268\u001b[0m \u001b[43m    \u001b[49m\u001b[43mpath\u001b[49m\u001b[43m,\u001b[49m\n\u001b[1;32m    269\u001b[0m \u001b[43m    \u001b[49m\u001b[43mfilesystem\u001b[49m\u001b[43m,\u001b[49m\n\u001b[1;32m    270\u001b[0m \u001b[43m    \u001b[49m\u001b[43mstorage_options\u001b[49m\u001b[38;5;241;43m=\u001b[39;49m\u001b[43mstorage_options\u001b[49m\u001b[43m,\u001b[49m\n\u001b[1;32m    271\u001b[0m \u001b[43m    \u001b[49m\u001b[43mmode\u001b[49m\u001b[38;5;241;43m=\u001b[39;49m\u001b[38;5;124;43m\"\u001b[39;49m\u001b[38;5;124;43mrb\u001b[39;49m\u001b[38;5;124;43m\"\u001b[39;49m\u001b[43m,\u001b[49m\n\u001b[1;32m    272\u001b[0m \u001b[43m\u001b[49m\u001b[43m)\u001b[49m\n\u001b[1;32m    273\u001b[0m \u001b[38;5;28;01mtry\u001b[39;00m:\n\u001b[1;32m    274\u001b[0m     pa_table \u001b[38;5;241m=\u001b[39m \u001b[38;5;28mself\u001b[39m\u001b[38;5;241m.\u001b[39mapi\u001b[38;5;241m.\u001b[39mparquet\u001b[38;5;241m.\u001b[39mread_table(\n\u001b[1;32m    275\u001b[0m         path_or_handle,\n\u001b[1;32m    276\u001b[0m         columns\u001b[38;5;241m=\u001b[39mcolumns,\n\u001b[0;32m   (...)\u001b[0m\n\u001b[1;32m    279\u001b[0m         \u001b[38;5;241m*\u001b[39m\u001b[38;5;241m*\u001b[39mkwargs,\n\u001b[1;32m    280\u001b[0m     )\n",
      "File \u001b[0;32m~/code/fineweb-modal/venv/lib/python3.11/site-packages/pandas/io/parquet.py:140\u001b[0m, in \u001b[0;36m_get_path_or_handle\u001b[0;34m(path, fs, storage_options, mode, is_dir)\u001b[0m\n\u001b[1;32m    130\u001b[0m handles \u001b[38;5;241m=\u001b[39m \u001b[38;5;28;01mNone\u001b[39;00m\n\u001b[1;32m    131\u001b[0m \u001b[38;5;28;01mif\u001b[39;00m (\n\u001b[1;32m    132\u001b[0m     \u001b[38;5;129;01mnot\u001b[39;00m fs\n\u001b[1;32m    133\u001b[0m     \u001b[38;5;129;01mand\u001b[39;00m \u001b[38;5;129;01mnot\u001b[39;00m is_dir\n\u001b[0;32m   (...)\u001b[0m\n\u001b[1;32m    138\u001b[0m     \u001b[38;5;66;03m# fsspec resources can also point to directories\u001b[39;00m\n\u001b[1;32m    139\u001b[0m     \u001b[38;5;66;03m# this branch is used for example when reading from non-fsspec URLs\u001b[39;00m\n\u001b[0;32m--> 140\u001b[0m     handles \u001b[38;5;241m=\u001b[39m \u001b[43mget_handle\u001b[49m\u001b[43m(\u001b[49m\n\u001b[1;32m    141\u001b[0m \u001b[43m        \u001b[49m\u001b[43mpath_or_handle\u001b[49m\u001b[43m,\u001b[49m\u001b[43m \u001b[49m\u001b[43mmode\u001b[49m\u001b[43m,\u001b[49m\u001b[43m \u001b[49m\u001b[43mis_text\u001b[49m\u001b[38;5;241;43m=\u001b[39;49m\u001b[38;5;28;43;01mFalse\u001b[39;49;00m\u001b[43m,\u001b[49m\u001b[43m \u001b[49m\u001b[43mstorage_options\u001b[49m\u001b[38;5;241;43m=\u001b[39;49m\u001b[43mstorage_options\u001b[49m\n\u001b[1;32m    142\u001b[0m \u001b[43m    \u001b[49m\u001b[43m)\u001b[49m\n\u001b[1;32m    143\u001b[0m     fs \u001b[38;5;241m=\u001b[39m \u001b[38;5;28;01mNone\u001b[39;00m\n\u001b[1;32m    144\u001b[0m     path_or_handle \u001b[38;5;241m=\u001b[39m handles\u001b[38;5;241m.\u001b[39mhandle\n",
      "File \u001b[0;32m~/code/fineweb-modal/venv/lib/python3.11/site-packages/pandas/io/common.py:882\u001b[0m, in \u001b[0;36mget_handle\u001b[0;34m(path_or_buf, mode, encoding, compression, memory_map, is_text, errors, storage_options)\u001b[0m\n\u001b[1;32m    873\u001b[0m         handle \u001b[38;5;241m=\u001b[39m \u001b[38;5;28mopen\u001b[39m(\n\u001b[1;32m    874\u001b[0m             handle,\n\u001b[1;32m    875\u001b[0m             ioargs\u001b[38;5;241m.\u001b[39mmode,\n\u001b[0;32m   (...)\u001b[0m\n\u001b[1;32m    878\u001b[0m             newline\u001b[38;5;241m=\u001b[39m\u001b[38;5;124m\"\u001b[39m\u001b[38;5;124m\"\u001b[39m,\n\u001b[1;32m    879\u001b[0m         )\n\u001b[1;32m    880\u001b[0m     \u001b[38;5;28;01melse\u001b[39;00m:\n\u001b[1;32m    881\u001b[0m         \u001b[38;5;66;03m# Binary mode\u001b[39;00m\n\u001b[0;32m--> 882\u001b[0m         handle \u001b[38;5;241m=\u001b[39m \u001b[38;5;28;43mopen\u001b[39;49m\u001b[43m(\u001b[49m\u001b[43mhandle\u001b[49m\u001b[43m,\u001b[49m\u001b[43m \u001b[49m\u001b[43mioargs\u001b[49m\u001b[38;5;241;43m.\u001b[39;49m\u001b[43mmode\u001b[49m\u001b[43m)\u001b[49m\n\u001b[1;32m    883\u001b[0m     handles\u001b[38;5;241m.\u001b[39mappend(handle)\n\u001b[1;32m    885\u001b[0m \u001b[38;5;66;03m# Convert BytesIO or file objects passed with an encoding\u001b[39;00m\n",
      "\u001b[0;31mFileNotFoundError\u001b[0m: [Errno 2] No such file or directory: './original-data-00000-of-00099.parquet'"
     ]
    }
   ],
   "source": [
    "df = pd.read_parquet(\"./original-data-00000-of-00099.parquet\")"
   ]
  },
  {
   "cell_type": "code",
   "execution_count": 3,
   "metadata": {},
   "outputs": [
    {
     "data": {
      "text/html": [
       "<div>\n",
       "<style scoped>\n",
       "    .dataframe tbody tr th:only-of-type {\n",
       "        vertical-align: middle;\n",
       "    }\n",
       "\n",
       "    .dataframe tbody tr th {\n",
       "        vertical-align: top;\n",
       "    }\n",
       "\n",
       "    .dataframe thead th {\n",
       "        text-align: right;\n",
       "    }\n",
       "</style>\n",
       "<table border=\"1\" class=\"dataframe\">\n",
       "  <thead>\n",
       "    <tr style=\"text-align: right;\">\n",
       "      <th></th>\n",
       "      <th>text</th>\n",
       "      <th>id</th>\n",
       "      <th>dump</th>\n",
       "      <th>url</th>\n",
       "      <th>file_path</th>\n",
       "      <th>language</th>\n",
       "      <th>language_score</th>\n",
       "      <th>token_count</th>\n",
       "      <th>score</th>\n",
       "      <th>int_score</th>\n",
       "    </tr>\n",
       "  </thead>\n",
       "  <tbody>\n",
       "    <tr>\n",
       "      <th>0</th>\n",
       "      <td>The Independent Jane\\nFor all the love, romanc...</td>\n",
       "      <td>&lt;urn:uuid:0d8a309d-25c5-405d-a08a-c11239f0d717&gt;</td>\n",
       "      <td>CC-MAIN-2013-20</td>\n",
       "      <td>http://austenauthors.net/the-independent-jane</td>\n",
       "      <td>s3://commoncrawl/crawl-data/CC-MAIN-2013-20/se...</td>\n",
       "      <td>en</td>\n",
       "      <td>0.974320</td>\n",
       "      <td>845</td>\n",
       "      <td>2.750000</td>\n",
       "      <td>3</td>\n",
       "    </tr>\n",
       "    <tr>\n",
       "      <th>1</th>\n",
       "      <td>Taking Play Seriously\\nBy ROBIN MARANTZ HENIG\\...</td>\n",
       "      <td>&lt;urn:uuid:316c7af5-14e1-4d0b-9576-753e17ef2cc5&gt;</td>\n",
       "      <td>CC-MAIN-2013-20</td>\n",
       "      <td>http://query.nytimes.com/gst/fullpage.html?res...</td>\n",
       "      <td>s3://commoncrawl/crawl-data/CC-MAIN-2013-20/se...</td>\n",
       "      <td>en</td>\n",
       "      <td>0.961459</td>\n",
       "      <td>1055</td>\n",
       "      <td>2.562500</td>\n",
       "      <td>3</td>\n",
       "    </tr>\n",
       "    <tr>\n",
       "      <th>2</th>\n",
       "      <td>How do you get HIV?\\nHIV can be passed on when...</td>\n",
       "      <td>&lt;urn:uuid:a3e140cd-7f25-48c9-a2f0-a7d0b1954e0d&gt;</td>\n",
       "      <td>CC-MAIN-2013-20</td>\n",
       "      <td>http://www.childline.org.uk/Explore/SexRelatio...</td>\n",
       "      <td>s3://commoncrawl/crawl-data/CC-MAIN-2013-20/se...</td>\n",
       "      <td>en</td>\n",
       "      <td>0.966757</td>\n",
       "      <td>136</td>\n",
       "      <td>3.125000</td>\n",
       "      <td>3</td>\n",
       "    </tr>\n",
       "    <tr>\n",
       "      <th>3</th>\n",
       "      <td>CTComms sends on average 2 million emails mont...</td>\n",
       "      <td>&lt;urn:uuid:c337bcd8-6aa1-4f2d-8c48-b916442ebbee&gt;</td>\n",
       "      <td>CC-MAIN-2013-20</td>\n",
       "      <td>http://www.ctt.org/resource_centre/getting_sta...</td>\n",
       "      <td>s3://commoncrawl/crawl-data/CC-MAIN-2013-20/se...</td>\n",
       "      <td>en</td>\n",
       "      <td>0.910602</td>\n",
       "      <td>3479</td>\n",
       "      <td>3.234375</td>\n",
       "      <td>3</td>\n",
       "    </tr>\n",
       "    <tr>\n",
       "      <th>4</th>\n",
       "      <td>Hold the salt: UCLA engineers develop revoluti...</td>\n",
       "      <td>&lt;urn:uuid:c0b175bb-65fb-420e-a881-a80b91d00ecd&gt;</td>\n",
       "      <td>CC-MAIN-2013-20</td>\n",
       "      <td>http://www.environment.ucla.edu/water/news/art...</td>\n",
       "      <td>s3://commoncrawl/crawl-data/CC-MAIN-2013-20/se...</td>\n",
       "      <td>en</td>\n",
       "      <td>0.924981</td>\n",
       "      <td>1115</td>\n",
       "      <td>2.812500</td>\n",
       "      <td>3</td>\n",
       "    </tr>\n",
       "  </tbody>\n",
       "</table>\n",
       "</div>"
      ],
      "text/plain": [
       "                                                text  \\\n",
       "0  The Independent Jane\\nFor all the love, romanc...   \n",
       "1  Taking Play Seriously\\nBy ROBIN MARANTZ HENIG\\...   \n",
       "2  How do you get HIV?\\nHIV can be passed on when...   \n",
       "3  CTComms sends on average 2 million emails mont...   \n",
       "4  Hold the salt: UCLA engineers develop revoluti...   \n",
       "\n",
       "                                                id             dump  \\\n",
       "0  <urn:uuid:0d8a309d-25c5-405d-a08a-c11239f0d717>  CC-MAIN-2013-20   \n",
       "1  <urn:uuid:316c7af5-14e1-4d0b-9576-753e17ef2cc5>  CC-MAIN-2013-20   \n",
       "2  <urn:uuid:a3e140cd-7f25-48c9-a2f0-a7d0b1954e0d>  CC-MAIN-2013-20   \n",
       "3  <urn:uuid:c337bcd8-6aa1-4f2d-8c48-b916442ebbee>  CC-MAIN-2013-20   \n",
       "4  <urn:uuid:c0b175bb-65fb-420e-a881-a80b91d00ecd>  CC-MAIN-2013-20   \n",
       "\n",
       "                                                 url  \\\n",
       "0      http://austenauthors.net/the-independent-jane   \n",
       "1  http://query.nytimes.com/gst/fullpage.html?res...   \n",
       "2  http://www.childline.org.uk/Explore/SexRelatio...   \n",
       "3  http://www.ctt.org/resource_centre/getting_sta...   \n",
       "4  http://www.environment.ucla.edu/water/news/art...   \n",
       "\n",
       "                                           file_path language  language_score  \\\n",
       "0  s3://commoncrawl/crawl-data/CC-MAIN-2013-20/se...       en        0.974320   \n",
       "1  s3://commoncrawl/crawl-data/CC-MAIN-2013-20/se...       en        0.961459   \n",
       "2  s3://commoncrawl/crawl-data/CC-MAIN-2013-20/se...       en        0.966757   \n",
       "3  s3://commoncrawl/crawl-data/CC-MAIN-2013-20/se...       en        0.910602   \n",
       "4  s3://commoncrawl/crawl-data/CC-MAIN-2013-20/se...       en        0.924981   \n",
       "\n",
       "   token_count     score  int_score  \n",
       "0          845  2.750000          3  \n",
       "1         1055  2.562500          3  \n",
       "2          136  3.125000          3  \n",
       "3         3479  3.234375          3  \n",
       "4         1115  2.812500          3  "
      ]
     },
     "execution_count": 3,
     "metadata": {},
     "output_type": "execute_result"
    }
   ],
   "source": [
    "df.head()"
   ]
  },
  {
   "cell_type": "code",
   "execution_count": 9,
   "metadata": {},
   "outputs": [
    {
     "ename": "FileNotFoundError",
     "evalue": "[Errno 2] No such file or directory: './embedded-data-00000-of-00099.parquet'",
     "output_type": "error",
     "traceback": [
      "\u001b[0;31m---------------------------------------------------------------------------\u001b[0m",
      "\u001b[0;31mFileNotFoundError\u001b[0m                         Traceback (most recent call last)",
      "Cell \u001b[0;32mIn[9], line 2\u001b[0m\n\u001b[1;32m      1\u001b[0m \u001b[38;5;66;03m# reading in the fetched file\u001b[39;00m\n\u001b[0;32m----> 2\u001b[0m cdf \u001b[38;5;241m=\u001b[39m \u001b[43mpd\u001b[49m\u001b[38;5;241;43m.\u001b[39;49m\u001b[43mread_parquet\u001b[49m\u001b[43m(\u001b[49m\u001b[38;5;124;43m\"\u001b[39;49m\u001b[38;5;124;43m./embedded-data-00000-of-00099.parquet\u001b[39;49m\u001b[38;5;124;43m\"\u001b[39;49m\u001b[43m)\u001b[49m\n",
      "File \u001b[0;32m~/code/fineweb-modal/venv/lib/python3.11/site-packages/pandas/io/parquet.py:667\u001b[0m, in \u001b[0;36mread_parquet\u001b[0;34m(path, engine, columns, storage_options, use_nullable_dtypes, dtype_backend, filesystem, filters, **kwargs)\u001b[0m\n\u001b[1;32m    664\u001b[0m     use_nullable_dtypes \u001b[38;5;241m=\u001b[39m \u001b[38;5;28;01mFalse\u001b[39;00m\n\u001b[1;32m    665\u001b[0m check_dtype_backend(dtype_backend)\n\u001b[0;32m--> 667\u001b[0m \u001b[38;5;28;01mreturn\u001b[39;00m \u001b[43mimpl\u001b[49m\u001b[38;5;241;43m.\u001b[39;49m\u001b[43mread\u001b[49m\u001b[43m(\u001b[49m\n\u001b[1;32m    668\u001b[0m \u001b[43m    \u001b[49m\u001b[43mpath\u001b[49m\u001b[43m,\u001b[49m\n\u001b[1;32m    669\u001b[0m \u001b[43m    \u001b[49m\u001b[43mcolumns\u001b[49m\u001b[38;5;241;43m=\u001b[39;49m\u001b[43mcolumns\u001b[49m\u001b[43m,\u001b[49m\n\u001b[1;32m    670\u001b[0m \u001b[43m    \u001b[49m\u001b[43mfilters\u001b[49m\u001b[38;5;241;43m=\u001b[39;49m\u001b[43mfilters\u001b[49m\u001b[43m,\u001b[49m\n\u001b[1;32m    671\u001b[0m \u001b[43m    \u001b[49m\u001b[43mstorage_options\u001b[49m\u001b[38;5;241;43m=\u001b[39;49m\u001b[43mstorage_options\u001b[49m\u001b[43m,\u001b[49m\n\u001b[1;32m    672\u001b[0m \u001b[43m    \u001b[49m\u001b[43muse_nullable_dtypes\u001b[49m\u001b[38;5;241;43m=\u001b[39;49m\u001b[43muse_nullable_dtypes\u001b[49m\u001b[43m,\u001b[49m\n\u001b[1;32m    673\u001b[0m \u001b[43m    \u001b[49m\u001b[43mdtype_backend\u001b[49m\u001b[38;5;241;43m=\u001b[39;49m\u001b[43mdtype_backend\u001b[49m\u001b[43m,\u001b[49m\n\u001b[1;32m    674\u001b[0m \u001b[43m    \u001b[49m\u001b[43mfilesystem\u001b[49m\u001b[38;5;241;43m=\u001b[39;49m\u001b[43mfilesystem\u001b[49m\u001b[43m,\u001b[49m\n\u001b[1;32m    675\u001b[0m \u001b[43m    \u001b[49m\u001b[38;5;241;43m*\u001b[39;49m\u001b[38;5;241;43m*\u001b[39;49m\u001b[43mkwargs\u001b[49m\u001b[43m,\u001b[49m\n\u001b[1;32m    676\u001b[0m \u001b[43m\u001b[49m\u001b[43m)\u001b[49m\n",
      "File \u001b[0;32m~/code/fineweb-modal/venv/lib/python3.11/site-packages/pandas/io/parquet.py:267\u001b[0m, in \u001b[0;36mPyArrowImpl.read\u001b[0;34m(self, path, columns, filters, use_nullable_dtypes, dtype_backend, storage_options, filesystem, **kwargs)\u001b[0m\n\u001b[1;32m    264\u001b[0m \u001b[38;5;28;01mif\u001b[39;00m manager \u001b[38;5;241m==\u001b[39m \u001b[38;5;124m\"\u001b[39m\u001b[38;5;124marray\u001b[39m\u001b[38;5;124m\"\u001b[39m:\n\u001b[1;32m    265\u001b[0m     to_pandas_kwargs[\u001b[38;5;124m\"\u001b[39m\u001b[38;5;124msplit_blocks\u001b[39m\u001b[38;5;124m\"\u001b[39m] \u001b[38;5;241m=\u001b[39m \u001b[38;5;28;01mTrue\u001b[39;00m  \u001b[38;5;66;03m# type: ignore[assignment]\u001b[39;00m\n\u001b[0;32m--> 267\u001b[0m path_or_handle, handles, filesystem \u001b[38;5;241m=\u001b[39m \u001b[43m_get_path_or_handle\u001b[49m\u001b[43m(\u001b[49m\n\u001b[1;32m    268\u001b[0m \u001b[43m    \u001b[49m\u001b[43mpath\u001b[49m\u001b[43m,\u001b[49m\n\u001b[1;32m    269\u001b[0m \u001b[43m    \u001b[49m\u001b[43mfilesystem\u001b[49m\u001b[43m,\u001b[49m\n\u001b[1;32m    270\u001b[0m \u001b[43m    \u001b[49m\u001b[43mstorage_options\u001b[49m\u001b[38;5;241;43m=\u001b[39;49m\u001b[43mstorage_options\u001b[49m\u001b[43m,\u001b[49m\n\u001b[1;32m    271\u001b[0m \u001b[43m    \u001b[49m\u001b[43mmode\u001b[49m\u001b[38;5;241;43m=\u001b[39;49m\u001b[38;5;124;43m\"\u001b[39;49m\u001b[38;5;124;43mrb\u001b[39;49m\u001b[38;5;124;43m\"\u001b[39;49m\u001b[43m,\u001b[49m\n\u001b[1;32m    272\u001b[0m \u001b[43m\u001b[49m\u001b[43m)\u001b[49m\n\u001b[1;32m    273\u001b[0m \u001b[38;5;28;01mtry\u001b[39;00m:\n\u001b[1;32m    274\u001b[0m     pa_table \u001b[38;5;241m=\u001b[39m \u001b[38;5;28mself\u001b[39m\u001b[38;5;241m.\u001b[39mapi\u001b[38;5;241m.\u001b[39mparquet\u001b[38;5;241m.\u001b[39mread_table(\n\u001b[1;32m    275\u001b[0m         path_or_handle,\n\u001b[1;32m    276\u001b[0m         columns\u001b[38;5;241m=\u001b[39mcolumns,\n\u001b[0;32m   (...)\u001b[0m\n\u001b[1;32m    279\u001b[0m         \u001b[38;5;241m*\u001b[39m\u001b[38;5;241m*\u001b[39mkwargs,\n\u001b[1;32m    280\u001b[0m     )\n",
      "File \u001b[0;32m~/code/fineweb-modal/venv/lib/python3.11/site-packages/pandas/io/parquet.py:140\u001b[0m, in \u001b[0;36m_get_path_or_handle\u001b[0;34m(path, fs, storage_options, mode, is_dir)\u001b[0m\n\u001b[1;32m    130\u001b[0m handles \u001b[38;5;241m=\u001b[39m \u001b[38;5;28;01mNone\u001b[39;00m\n\u001b[1;32m    131\u001b[0m \u001b[38;5;28;01mif\u001b[39;00m (\n\u001b[1;32m    132\u001b[0m     \u001b[38;5;129;01mnot\u001b[39;00m fs\n\u001b[1;32m    133\u001b[0m     \u001b[38;5;129;01mand\u001b[39;00m \u001b[38;5;129;01mnot\u001b[39;00m is_dir\n\u001b[0;32m   (...)\u001b[0m\n\u001b[1;32m    138\u001b[0m     \u001b[38;5;66;03m# fsspec resources can also point to directories\u001b[39;00m\n\u001b[1;32m    139\u001b[0m     \u001b[38;5;66;03m# this branch is used for example when reading from non-fsspec URLs\u001b[39;00m\n\u001b[0;32m--> 140\u001b[0m     handles \u001b[38;5;241m=\u001b[39m \u001b[43mget_handle\u001b[49m\u001b[43m(\u001b[49m\n\u001b[1;32m    141\u001b[0m \u001b[43m        \u001b[49m\u001b[43mpath_or_handle\u001b[49m\u001b[43m,\u001b[49m\u001b[43m \u001b[49m\u001b[43mmode\u001b[49m\u001b[43m,\u001b[49m\u001b[43m \u001b[49m\u001b[43mis_text\u001b[49m\u001b[38;5;241;43m=\u001b[39;49m\u001b[38;5;28;43;01mFalse\u001b[39;49;00m\u001b[43m,\u001b[49m\u001b[43m \u001b[49m\u001b[43mstorage_options\u001b[49m\u001b[38;5;241;43m=\u001b[39;49m\u001b[43mstorage_options\u001b[49m\n\u001b[1;32m    142\u001b[0m \u001b[43m    \u001b[49m\u001b[43m)\u001b[49m\n\u001b[1;32m    143\u001b[0m     fs \u001b[38;5;241m=\u001b[39m \u001b[38;5;28;01mNone\u001b[39;00m\n\u001b[1;32m    144\u001b[0m     path_or_handle \u001b[38;5;241m=\u001b[39m handles\u001b[38;5;241m.\u001b[39mhandle\n",
      "File \u001b[0;32m~/code/fineweb-modal/venv/lib/python3.11/site-packages/pandas/io/common.py:882\u001b[0m, in \u001b[0;36mget_handle\u001b[0;34m(path_or_buf, mode, encoding, compression, memory_map, is_text, errors, storage_options)\u001b[0m\n\u001b[1;32m    873\u001b[0m         handle \u001b[38;5;241m=\u001b[39m \u001b[38;5;28mopen\u001b[39m(\n\u001b[1;32m    874\u001b[0m             handle,\n\u001b[1;32m    875\u001b[0m             ioargs\u001b[38;5;241m.\u001b[39mmode,\n\u001b[0;32m   (...)\u001b[0m\n\u001b[1;32m    878\u001b[0m             newline\u001b[38;5;241m=\u001b[39m\u001b[38;5;124m\"\u001b[39m\u001b[38;5;124m\"\u001b[39m,\n\u001b[1;32m    879\u001b[0m         )\n\u001b[1;32m    880\u001b[0m     \u001b[38;5;28;01melse\u001b[39;00m:\n\u001b[1;32m    881\u001b[0m         \u001b[38;5;66;03m# Binary mode\u001b[39;00m\n\u001b[0;32m--> 882\u001b[0m         handle \u001b[38;5;241m=\u001b[39m \u001b[38;5;28;43mopen\u001b[39;49m\u001b[43m(\u001b[49m\u001b[43mhandle\u001b[49m\u001b[43m,\u001b[49m\u001b[43m \u001b[49m\u001b[43mioargs\u001b[49m\u001b[38;5;241;43m.\u001b[39;49m\u001b[43mmode\u001b[49m\u001b[43m)\u001b[49m\n\u001b[1;32m    883\u001b[0m     handles\u001b[38;5;241m.\u001b[39mappend(handle)\n\u001b[1;32m    885\u001b[0m \u001b[38;5;66;03m# Convert BytesIO or file objects passed with an encoding\u001b[39;00m\n",
      "\u001b[0;31mFileNotFoundError\u001b[0m: [Errno 2] No such file or directory: './embedded-data-00000-of-00099.parquet'"
     ]
    }
   ],
   "source": [
    "# reading in the fetched file\n",
    "cdf = pd.read_parquet(\"./embedded-data-00000-of-00099.parquet\")\n"
   ]
  },
  {
   "cell_type": "code",
   "execution_count": 4,
   "metadata": {},
   "outputs": [
    {
     "ename": "NameError",
     "evalue": "name 'cdf' is not defined",
     "output_type": "error",
     "traceback": [
      "\u001b[0;31m---------------------------------------------------------------------------\u001b[0m",
      "\u001b[0;31mNameError\u001b[0m                                 Traceback (most recent call last)",
      "Cell \u001b[0;32mIn[4], line 1\u001b[0m\n\u001b[0;32m----> 1\u001b[0m \u001b[43mcdf\u001b[49m\u001b[38;5;241m.\u001b[39mhead()\n",
      "\u001b[0;31mNameError\u001b[0m: name 'cdf' is not defined"
     ]
    }
   ],
   "source": [
    "cdf.head()"
   ]
  },
  {
   "cell_type": "code",
   "execution_count": 5,
   "metadata": {},
   "outputs": [
    {
     "ename": "NameError",
     "evalue": "name 'df' is not defined",
     "output_type": "error",
     "traceback": [
      "\u001b[0;31m---------------------------------------------------------------------------\u001b[0m",
      "\u001b[0;31mNameError\u001b[0m                                 Traceback (most recent call last)",
      "Cell \u001b[0;32mIn[5], line 1\u001b[0m\n\u001b[0;32m----> 1\u001b[0m \u001b[43mdf\u001b[49m[df[\u001b[38;5;124m'\u001b[39m\u001b[38;5;124mid\u001b[39m\u001b[38;5;124m'\u001b[39m] \u001b[38;5;241m==\u001b[39m \u001b[38;5;124m\"\u001b[39m\u001b[38;5;124m<urn:uuid:4c22d5ca-1ffb-4b58-a113-1bf47d6953ee>\u001b[39m\u001b[38;5;124m\"\u001b[39m]\n",
      "\u001b[0;31mNameError\u001b[0m: name 'df' is not defined"
     ]
    }
   ],
   "source": [
    "df[df['id'] == \"<urn:uuid:4c22d5ca-1ffb-4b58-a113-1bf47d6953ee>\"]"
   ]
  },
  {
   "cell_type": "code",
   "execution_count": 6,
   "metadata": {},
   "outputs": [
    {
     "ename": "NameError",
     "evalue": "name 'cdf' is not defined",
     "output_type": "error",
     "traceback": [
      "\u001b[0;31m---------------------------------------------------------------------------\u001b[0m",
      "\u001b[0;31mNameError\u001b[0m                                 Traceback (most recent call last)",
      "Cell \u001b[0;32mIn[6], line 1\u001b[0m\n\u001b[0;32m----> 1\u001b[0m \u001b[43mcdf\u001b[49m[cdf[\u001b[38;5;124m'\u001b[39m\u001b[38;5;124mid\u001b[39m\u001b[38;5;124m'\u001b[39m] \u001b[38;5;241m==\u001b[39m \u001b[38;5;124m\"\u001b[39m\u001b[38;5;124m<urn:uuid:4c22d5ca-1ffb-4b58-a113-1bf47d6953ee>\u001b[39m\u001b[38;5;124m\"\u001b[39m]\n",
      "\u001b[0;31mNameError\u001b[0m: name 'cdf' is not defined"
     ]
    }
   ],
   "source": [
    "cdf[cdf['id'] == \"<urn:uuid:4c22d5ca-1ffb-4b58-a113-1bf47d6953ee>\"]"
   ]
  },
  {
   "cell_type": "code",
   "execution_count": 7,
   "metadata": {},
   "outputs": [
    {
     "ename": "NameError",
     "evalue": "name 'cdf' is not defined",
     "output_type": "error",
     "traceback": [
      "\u001b[0;31m---------------------------------------------------------------------------\u001b[0m",
      "\u001b[0;31mNameError\u001b[0m                                 Traceback (most recent call last)",
      "Cell \u001b[0;32mIn[7], line 1\u001b[0m\n\u001b[0;32m----> 1\u001b[0m \u001b[43mcdf\u001b[49m[cdf[\u001b[38;5;124m'\u001b[39m\u001b[38;5;124mid\u001b[39m\u001b[38;5;124m'\u001b[39m] \u001b[38;5;241m==\u001b[39m \u001b[38;5;124m\"\u001b[39m\u001b[38;5;124m<urn:uuid:4c22d5ca-1ffb-4b58-a113-1bf47d6953ee>\u001b[39m\u001b[38;5;124m\"\u001b[39m][\u001b[38;5;124m\"\u001b[39m\u001b[38;5;124mchunk_text\u001b[39m\u001b[38;5;124m\"\u001b[39m]\n",
      "\u001b[0;31mNameError\u001b[0m: name 'cdf' is not defined"
     ]
    }
   ],
   "source": [
    "cdf[cdf['id'] == \"<urn:uuid:4c22d5ca-1ffb-4b58-a113-1bf47d6953ee>\"][\"chunk_text\"]"
   ]
  },
  {
   "cell_type": "code",
   "execution_count": 8,
   "metadata": {},
   "outputs": [
    {
     "ename": "NameError",
     "evalue": "name 'df' is not defined",
     "output_type": "error",
     "traceback": [
      "\u001b[0;31m---------------------------------------------------------------------------\u001b[0m",
      "\u001b[0;31mNameError\u001b[0m                                 Traceback (most recent call last)",
      "Cell \u001b[0;32mIn[8], line 2\u001b[0m\n\u001b[1;32m      1\u001b[0m \u001b[38;5;66;03m# Get the full text string of the rows and display it\u001b[39;00m\n\u001b[0;32m----> 2\u001b[0m full_text \u001b[38;5;241m=\u001b[39m \u001b[43mdf\u001b[49m[df[\u001b[38;5;124m'\u001b[39m\u001b[38;5;124mid\u001b[39m\u001b[38;5;124m'\u001b[39m] \u001b[38;5;241m==\u001b[39m \u001b[38;5;124m\"\u001b[39m\u001b[38;5;124m<urn:uuid:4c22d5ca-1ffb-4b58-a113-1bf47d6953ee>\u001b[39m\u001b[38;5;124m\"\u001b[39m][\u001b[38;5;124m'\u001b[39m\u001b[38;5;124mtext\u001b[39m\u001b[38;5;124m'\u001b[39m]\u001b[38;5;241m.\u001b[39mvalues[\u001b[38;5;241m0\u001b[39m]\n\u001b[1;32m      3\u001b[0m \u001b[38;5;28mprint\u001b[39m(full_text)\n",
      "\u001b[0;31mNameError\u001b[0m: name 'df' is not defined"
     ]
    }
   ],
   "source": [
    "# Get the full text string of the rows and display it\n",
    "full_text = df[df['id'] == \"<urn:uuid:4c22d5ca-1ffb-4b58-a113-1bf47d6953ee>\"]['text'].values[0]\n",
    "print(full_text)\n"
   ]
  },
  {
   "cell_type": "code",
   "execution_count": 15,
   "metadata": {},
   "outputs": [],
   "source": [
    "cfull_text = cdf[cdf['id'] == \"<urn:uuid:4c22d5ca-1ffb-4b58-a113-1bf47d6953ee>\"][\"chunk_text\"].values[1]"
   ]
  },
  {
   "cell_type": "code",
   "execution_count": 16,
   "metadata": {},
   "outputs": [
    {
     "name": "stdout",
     "output_type": "stream",
     "text": [
      ". \" hurricane force winds extended 125 miles from katrina's center, compared to 60 miles for camille, he said. also, katrina's eye was 32 miles wide even though a storm of its intensity normally has an eye that is 10 miles wide. scientists know much more about surge today than they did in 1969 when camille hit. they can predict with reasonable accuracy what the surge will be. but the unpredictable nature of storms makes it difficult to say far in advance which areas will be flooded and how much higher the wind - whipped waves on top of the surge will be. for example, hurricane ivan last year was predicted to hit west of mobile, alabama. if it had, it would have sent 12 feet of storm surge into the area and 4 feet over the pensacola area. but just hours before landfall, it shifted and hit east of the city. it spared mobile, but sent a 10 - foot surge over the florida panhandle, said stephen baig, a storm surge expert at the national hurricane center in miami. in the case of katrina, estimates have ranged from a 35 - foot surge in waveland to at least 15 feet along the entire mississippi coast, which demolished scores of buildings near the gulf and led to extensive inland flooding. areas were covered in water that never before were known to flood. \" there's a lot of talk about what the surge was and,'we measured it at this,'but nobody knows those real numbers, \" said baig. \" people could well have observed a 30 - foot raised level of water with a 25 - to 28 - foot surge being part of it. \" scientists hope public officials and residents will learn from katrina that storm surge can be dangerous, destructive and unpredictable. gertrude taylor said her husband is one of those people who made the camille comparison and convinced her to ride out katrina in their gulfport home. \" he's from the coast. he said he ain't worried about it. he said we're going to stick it out, \" said taylor. she said she realized they were both crazy for staying when nearby homes were being ripped from foundations. \" i jumped out of the bed and got under it. it seemed like the whole house was rocking. \" [SEP]\n"
     ]
    }
   ],
   "source": [
    "print(cfull_text)"
   ]
  },
  {
   "cell_type": "code",
   "execution_count": 60,
   "metadata": {},
   "outputs": [
    {
     "name": "stderr",
     "output_type": "stream",
     "text": [
      "/Users/enjalot/code/fineweb-modal/venv/lib/python3.11/site-packages/transformers/tokenization_utils_base.py:1601: FutureWarning: `clean_up_tokenization_spaces` was not set. It will be set to `True` by default. This behavior will be depracted in transformers v4.45, and will be then set to `False` by default. For more details check this issue: https://github.com/huggingface/transformers/issues/31884\n",
      "  warnings.warn(\n"
     ]
    }
   ],
   "source": [
    "tokenizer =  AutoTokenizer.from_pretrained(\"bert-base-uncased\")"
   ]
  },
  {
   "cell_type": "code",
   "execution_count": 18,
   "metadata": {},
   "outputs": [],
   "source": [
    "tokens = tokenizer.encode(full_text)"
   ]
  },
  {
   "cell_type": "code",
   "execution_count": 19,
   "metadata": {},
   "outputs": [
    {
     "data": {
      "text/plain": [
       "901"
      ]
     },
     "execution_count": 19,
     "metadata": {},
     "output_type": "execute_result"
    }
   ],
   "source": [
    "len(tokens)"
   ]
  },
  {
   "cell_type": "code",
   "execution_count": 20,
   "metadata": {},
   "outputs": [],
   "source": [
    "# weird chunks are because of the 50 overlap. 901 tokens means one 500 chunk, then start at 450 and get 451 tokens. \n",
    "# but next start_index is 900 so we get one more chunk of 1 tokens"
   ]
  },
  {
   "cell_type": "code",
   "execution_count": 30,
   "metadata": {},
   "outputs": [],
   "source": [
    "###\n",
    "# ---\n",
    "# all-miniLM\n",
    "rdf = pd.read_parquet(\"./redpajama/data-00000-of-00150.parquet\")\n",
    "embeddings = np.memmap(\"./redpajama/data-00000-of-00150.npy\", \n",
    "                      dtype='float32', \n",
    "                      mode='r',  # 'r' for read-only mode\n",
    "                      shape=(rdf.shape[0], 384)) "
   ]
  },
  {
   "cell_type": "code",
   "execution_count": 31,
   "metadata": {},
   "outputs": [
    {
     "data": {
      "text/html": [
       "<div>\n",
       "<style scoped>\n",
       "    .dataframe tbody tr th:only-of-type {\n",
       "        vertical-align: middle;\n",
       "    }\n",
       "\n",
       "    .dataframe tbody tr th {\n",
       "        vertical-align: top;\n",
       "    }\n",
       "\n",
       "    .dataframe thead th {\n",
       "        text-align: right;\n",
       "    }\n",
       "</style>\n",
       "<table border=\"1\" class=\"dataframe\">\n",
       "  <thead>\n",
       "    <tr style=\"text-align: right;\">\n",
       "      <th></th>\n",
       "      <th>chunk_index</th>\n",
       "      <th>chunk_text</th>\n",
       "      <th>chunk_tokens</th>\n",
       "      <th>chunk_token_count</th>\n",
       "      <th>doc_id</th>\n",
       "      <th>meta</th>\n",
       "    </tr>\n",
       "  </thead>\n",
       "  <tbody>\n",
       "    <tr>\n",
       "      <th>0</th>\n",
       "      <td>0</td>\n",
       "      <td>[CLS] about awb kids are kids join the cast &lt; ...</td>\n",
       "      <td>[101, 2055, 22091, 2497, 4268, 2024, 4268, 369...</td>\n",
       "      <td>120</td>\n",
       "      <td>2014-15/0000/en_head.json.gz/0</td>\n",
       "      <td>{\"url\": \"http://0360be4.netsolhost.com/news/ch...</td>\n",
       "    </tr>\n",
       "    <tr>\n",
       "      <th>1</th>\n",
       "      <td>1</td>\n",
       "      <td>and support for people with disabilities. she ...</td>\n",
       "      <td>[1998, 2490, 2005, 2111, 2007, 13597, 1012, 20...</td>\n",
       "      <td>120</td>\n",
       "      <td>2014-15/0000/en_head.json.gz/0</td>\n",
       "      <td>{\"url\": \"http://0360be4.netsolhost.com/news/ch...</td>\n",
       "    </tr>\n",
       "    <tr>\n",
       "      <th>2</th>\n",
       "      <td>2</td>\n",
       "      <td>she takes in her many accomplishments. john ta...</td>\n",
       "      <td>[2016, 3138, 1999, 2014, 2116, 17571, 1012, 21...</td>\n",
       "      <td>118</td>\n",
       "      <td>2014-15/0000/en_head.json.gz/0</td>\n",
       "      <td>{\"url\": \"http://0360be4.netsolhost.com/news/ch...</td>\n",
       "    </tr>\n",
       "    <tr>\n",
       "      <th>3</th>\n",
       "      <td>0</td>\n",
       "      <td>[CLS] read more music news taylor swift promis...</td>\n",
       "      <td>[101, 3191, 2062, 2189, 2739, 4202, 9170, 1065...</td>\n",
       "      <td>120</td>\n",
       "      <td>2014-15/0000/en_head.json.gz/1</td>\n",
       "      <td>{\"url\": \"http://1019ampradio.cbslocal.com/2013...</td>\n",
       "    </tr>\n",
       "    <tr>\n",
       "      <th>4</th>\n",
       "      <td>1</td>\n",
       "      <td>apprenticeship. i want to be around people who...</td>\n",
       "      <td>[20448, 1012, 1045, 2215, 2000, 2022, 2105, 21...</td>\n",
       "      <td>120</td>\n",
       "      <td>2014-15/0000/en_head.json.gz/1</td>\n",
       "      <td>{\"url\": \"http://1019ampradio.cbslocal.com/2013...</td>\n",
       "    </tr>\n",
       "  </tbody>\n",
       "</table>\n",
       "</div>"
      ],
      "text/plain": [
       "   chunk_index                                         chunk_text  \\\n",
       "0            0  [CLS] about awb kids are kids join the cast < ...   \n",
       "1            1  and support for people with disabilities. she ...   \n",
       "2            2  she takes in her many accomplishments. john ta...   \n",
       "3            0  [CLS] read more music news taylor swift promis...   \n",
       "4            1  apprenticeship. i want to be around people who...   \n",
       "\n",
       "                                        chunk_tokens  chunk_token_count  \\\n",
       "0  [101, 2055, 22091, 2497, 4268, 2024, 4268, 369...                120   \n",
       "1  [1998, 2490, 2005, 2111, 2007, 13597, 1012, 20...                120   \n",
       "2  [2016, 3138, 1999, 2014, 2116, 17571, 1012, 21...                118   \n",
       "3  [101, 3191, 2062, 2189, 2739, 4202, 9170, 1065...                120   \n",
       "4  [20448, 1012, 1045, 2215, 2000, 2022, 2105, 21...                120   \n",
       "\n",
       "                           doc_id  \\\n",
       "0  2014-15/0000/en_head.json.gz/0   \n",
       "1  2014-15/0000/en_head.json.gz/0   \n",
       "2  2014-15/0000/en_head.json.gz/0   \n",
       "3  2014-15/0000/en_head.json.gz/1   \n",
       "4  2014-15/0000/en_head.json.gz/1   \n",
       "\n",
       "                                                meta  \n",
       "0  {\"url\": \"http://0360be4.netsolhost.com/news/ch...  \n",
       "1  {\"url\": \"http://0360be4.netsolhost.com/news/ch...  \n",
       "2  {\"url\": \"http://0360be4.netsolhost.com/news/ch...  \n",
       "3  {\"url\": \"http://1019ampradio.cbslocal.com/2013...  \n",
       "4  {\"url\": \"http://1019ampradio.cbslocal.com/2013...  "
      ]
     },
     "execution_count": 31,
     "metadata": {},
     "output_type": "execute_result"
    }
   ],
   "source": [
    "rdf.head()"
   ]
  },
  {
   "cell_type": "code",
   "execution_count": 32,
   "metadata": {},
   "outputs": [
    {
     "data": {
      "text/plain": [
       "(573863, 384)"
      ]
     },
     "execution_count": 32,
     "metadata": {},
     "output_type": "execute_result"
    }
   ],
   "source": [
    "embeddings.shape"
   ]
  },
  {
   "cell_type": "code",
   "execution_count": 33,
   "metadata": {},
   "outputs": [
    {
     "data": {
      "text/plain": [
       "memmap([ 1.53040804e-03,  2.34369095e-02, -3.52175124e-02,\n",
       "         3.58389970e-03,  4.02170159e-02,  7.93844163e-02,\n",
       "         5.91101758e-02, -2.55361479e-02,  2.65857689e-02,\n",
       "        -1.95560772e-02,  1.70425139e-02, -7.23132938e-02,\n",
       "         2.93341149e-02, -9.89542995e-03,  8.87451097e-05,\n",
       "        -3.37535664e-02,  1.34171816e-02, -8.10969546e-02,\n",
       "        -6.17618486e-02, -3.27315703e-02, -7.81138241e-02,\n",
       "         8.45220312e-02, -3.90154775e-03,  5.01055419e-02,\n",
       "        -2.42517460e-02, -1.48051661e-02,  5.54365069e-02,\n",
       "        -1.40428096e-01, -1.78159177e-02, -9.06540155e-02,\n",
       "         1.84235927e-02, -2.82154419e-02, -2.70691458e-02,\n",
       "         2.07299944e-02,  1.66558120e-02,  3.04113571e-02,\n",
       "         3.35049741e-02,  3.90569121e-02, -1.49708956e-01,\n",
       "        -3.46927010e-02, -2.98830937e-03, -3.94712351e-02,\n",
       "        -2.21386943e-02, -3.49136740e-02, -5.43454522e-03,\n",
       "        -7.19265863e-02, -3.39400140e-03, -1.19325213e-01,\n",
       "         1.45151392e-02, -3.30354087e-02,  1.23088656e-03,\n",
       "        -5.83367720e-02,  3.67366970e-02,  1.85755119e-02,\n",
       "         5.05820150e-03,  5.36687262e-02,  2.10441905e-03,\n",
       "         3.22067589e-02,  4.02170159e-02, -9.03916173e-03,\n",
       "        -4.03827466e-02, -5.51741011e-03,  1.67801082e-02,\n",
       "         1.46808689e-02, -3.22620012e-02,  2.28982884e-02,\n",
       "        -1.28923710e-02,  4.66528460e-02,  2.43346095e-02,\n",
       "        -4.43326309e-02, -4.82548960e-02,  5.58991684e-03,\n",
       "         6.64022714e-02,  3.95817198e-02,  1.47830680e-01,\n",
       "        -3.34221087e-02,  1.02862753e-01, -3.06875724e-02,\n",
       "         1.24960020e-01,  6.12853747e-03, -7.08217248e-02,\n",
       "        -7.67879859e-02, -3.56318355e-02, -8.15527048e-03,\n",
       "        -2.79392265e-02, -5.75081259e-02, -3.52727547e-02,\n",
       "        -6.81148097e-02,  3.34738987e-03,  2.67929304e-02,\n",
       "        -3.77863199e-02,  6.36401176e-02,  5.33648878e-02,\n",
       "         1.18289404e-02, -5.45249954e-02, -7.23132938e-02,\n",
       "        -7.59040937e-02, -1.08483750e-02, -6.14303909e-02,\n",
       "         3.79796699e-02, -4.30896617e-02,  6.68994635e-02,\n",
       "         1.14353336e-02,  4.96152602e-03, -1.97770502e-02,\n",
       "        -6.08779564e-02,  9.11512077e-02, -5.48288338e-02,\n",
       "        -4.18466888e-02, -3.82835083e-02,  5.64861260e-02,\n",
       "        -2.53013652e-02,  1.99980214e-02, -4.20124196e-02,\n",
       "         7.10427016e-02, -5.15971072e-02,  2.85330899e-02,\n",
       "        -7.83347934e-02, -4.32622945e-03, -1.21203482e-01,\n",
       "         4.27582040e-02, -4.50922269e-03,  6.93854019e-02,\n",
       "         2.07714271e-02, -2.07438041e-02,  1.62967313e-02,\n",
       "        -3.59356739e-02,  0.00000000e+00,  1.59100294e-02,\n",
       "        -4.85863537e-02,  1.62967313e-02,  3.87254506e-02,\n",
       "        -2.06406563e-04,  9.30294767e-02, -2.98313033e-02,\n",
       "        -3.48860510e-02,  3.30906510e-02, -5.44145070e-02,\n",
       "         1.41836805e-02,  6.76038116e-03, -1.70010813e-02,\n",
       "        -5.95521219e-02, -3.44164856e-02,  3.40021625e-02,\n",
       "        -9.13169384e-02,  1.40524777e-02, -8.25332776e-02,\n",
       "         1.57442987e-01,  7.12636709e-02,  8.79471004e-02,\n",
       "        -2.91131437e-02, -3.39572784e-03, -1.40248565e-02,\n",
       "        -2.89474130e-02,  1.16563059e-01, -1.03719020e-02,\n",
       "         5.83367720e-02,  4.90835421e-02, -2.79806592e-02,\n",
       "         4.17085811e-02,  3.67366970e-02,  8.59721564e-03,\n",
       "         4.68185730e-02,  5.77290989e-02,  1.28164124e-02,\n",
       "         4.47193347e-02,  4.54927385e-02,  5.10446765e-02,\n",
       "         1.57304890e-02, -3.46927010e-02,  7.97158703e-02,\n",
       "        -4.80339229e-02, -7.86662549e-02,  5.61546683e-02,\n",
       "         1.20761536e-01, -2.30640173e-02, -3.34221087e-02,\n",
       "         6.07122295e-02, -2.10200213e-02,  2.81394832e-03,\n",
       "        -4.95807305e-02, -1.67628448e-03, -6.37454214e-04,\n",
       "         1.52056785e-02, -4.96912189e-02, -4.77024652e-02,\n",
       "         6.28667101e-02, -3.89464237e-02, -5.58646396e-03,\n",
       "         5.90411248e-03, -9.86780878e-03,  4.20952849e-02,\n",
       "        -2.17934251e-02, -9.99210589e-03,  5.56850992e-02,\n",
       "        -1.62414871e-02, -2.35473942e-02, -3.29525433e-02,\n",
       "        -5.35306185e-02, -8.11383873e-03,  3.74272391e-02,\n",
       "         1.41698690e-02, -9.73384380e-02, -1.80092696e-02,\n",
       "         1.14353336e-02, -3.68748070e-03, -7.65670165e-02,\n",
       "         1.15458198e-01,  4.49126847e-02, -4.09075581e-02,\n",
       "         1.74015947e-02, -3.98026928e-02,  6.03807680e-02,\n",
       "        -1.16342083e-01, -2.63095535e-02, -4.39459309e-02,\n",
       "        -7.25342631e-02,  2.88369264e-02, -1.45841930e-02,\n",
       "         3.11018974e-02,  8.47430006e-02,  2.28568558e-02,\n",
       "        -3.59425787e-03,  0.00000000e+00,  8.51849467e-02,\n",
       "         1.33826546e-02, -3.58528085e-02, -7.14846402e-02,\n",
       "         1.20098621e-01, -5.94968796e-02,  4.28134464e-02,\n",
       "         3.97198275e-02,  6.81148097e-02, -2.59366613e-02,\n",
       "         4.73986268e-02, -1.22985076e-02, -4.96359766e-02,\n",
       "        -2.86988188e-02,  4.05208543e-02, -7.50754476e-02,\n",
       "         3.22067589e-02, -6.53595570e-03, -1.29303511e-03,\n",
       "        -4.44707414e-03,  2.34921519e-02, -2.20696405e-02,\n",
       "        -1.46283880e-01,  3.20410319e-02,  1.11480691e-01,\n",
       "         2.13238578e-02,  4.71500345e-02,  1.64735094e-01,\n",
       "        -5.84472604e-02, -2.38650441e-02, -3.78415622e-02,\n",
       "        -2.51908787e-02,  1.94041580e-02,  4.78681959e-02,\n",
       "        -9.05987769e-02, -4.41945251e-03,  6.39715716e-02,\n",
       "        -2.98313051e-03, -2.83673611e-02, -9.95481685e-02,\n",
       "         3.75929661e-02, -5.32820225e-02, -1.06011614e-01,\n",
       "         6.83910251e-02, -2.40307730e-02,  8.43010545e-02,\n",
       "         1.86859965e-02, -7.31971813e-03, -3.91950198e-02,\n",
       "         4.66114143e-03, -8.81818868e-03, -1.02061732e-02,\n",
       "         8.03787932e-02,  7.63046090e-03, -6.94682682e-03,\n",
       "        -5.97748221e-05,  1.83131061e-02, -5.75219374e-03,\n",
       "         8.16493854e-02,  7.25342631e-02,  5.45802377e-02,\n",
       "         1.42803555e-02,  1.67939197e-02, -7.30314553e-02,\n",
       "        -3.03008705e-02, -5.72319105e-02,  1.22708855e-02,\n",
       "        -1.02089353e-01, -6.80595711e-02,  5.21357264e-03,\n",
       "        -4.75436402e-03,  2.70967670e-02, -4.94426228e-02,\n",
       "        -5.74528836e-02, -3.94298043e-03,  8.08759779e-02,\n",
       "        -4.43050116e-02, -7.23132938e-02,  1.75310706e-03,\n",
       "         6.94337394e-03, -5.16523495e-02, -4.49126847e-02,\n",
       "         1.89760234e-02,  4.70602652e-03,  8.73394310e-02,\n",
       "         7.49097168e-02, -4.05760966e-02,  2.29673423e-02,\n",
       "         3.12952474e-02,  9.14826691e-02, -7.28657246e-02,\n",
       "        -9.83328186e-03, -1.78297292e-02, -2.00118329e-02,\n",
       "        -3.25658396e-02, -2.69741971e-08, -5.34201302e-02,\n",
       "        -4.43326309e-02, -3.48860510e-02, -9.89404917e-02,\n",
       "        -6.79490808e-03,  9.46867689e-02, -3.05563700e-03,\n",
       "        -8.67317542e-02,  2.79392265e-02,  4.34211195e-02,\n",
       "        -1.94732118e-02, -1.18772788e-02, -3.79106146e-03,\n",
       "        -2.11166963e-02,  9.86090302e-02, -6.01045527e-02,\n",
       "         3.10466532e-02,  1.63243525e-02, -2.90302783e-02,\n",
       "         6.64022714e-02,  6.14303909e-02,  1.79264043e-02,\n",
       "         1.51090035e-02,  4.67495201e-03,  1.27611691e-02,\n",
       "        -2.40583941e-02, -3.34221087e-02,  5.25845774e-03,\n",
       "        -8.50744620e-02, -1.67386755e-02, -9.50182322e-03,\n",
       "         3.52727547e-02, -2.65029036e-02,  4.79234383e-02,\n",
       "         2.39479076e-02, -3.48895066e-03,  1.18358461e-02,\n",
       "         2.51080152e-02, -5.03265150e-02,  7.39153400e-02,\n",
       "        -2.25115870e-03,  5.74528836e-02,  1.09381445e-01,\n",
       "        -3.56663624e-03, -3.81454006e-02,  2.27014837e-03,\n",
       "         2.66824439e-02, -4.43326309e-02,  5.20390533e-02,\n",
       "         1.25471018e-02,  2.22491808e-02, -2.20696405e-02,\n",
       "        -4.38078232e-02,  3.27660958e-03, -8.42458103e-03,\n",
       "         5.19285649e-02,  6.94958866e-02, -3.68471853e-02,\n",
       "        -1.98737253e-02,  7.68432319e-02,  2.81740092e-02,\n",
       "        -4.47745770e-02, -2.15310194e-02,  4.41392809e-02], dtype=float32)"
      ]
     },
     "execution_count": 33,
     "metadata": {},
     "output_type": "execute_result"
    }
   ],
   "source": [
    "embeddings[0]"
   ]
  },
  {
   "cell_type": "code",
   "execution_count": 34,
   "metadata": {},
   "outputs": [
    {
     "data": {
      "text/plain": [
       "array([ 1.53040816e-03,  2.34369114e-02, -3.52175161e-02,  3.58389993e-03,\n",
       "        4.02170196e-02,  7.93844238e-02,  5.91101795e-02, -2.55361497e-02,\n",
       "        2.65857708e-02, -1.95560791e-02,  1.70425158e-02, -7.23133013e-02,\n",
       "        2.93341167e-02, -9.89543088e-03,  8.87451170e-05, -3.37535702e-02,\n",
       "        1.34171825e-02, -8.10969621e-02, -6.17618524e-02, -3.27315740e-02,\n",
       "       -7.81138316e-02,  8.45220387e-02, -3.90154799e-03,  5.01055457e-02,\n",
       "       -2.42517479e-02, -1.48051670e-02,  5.54365106e-02, -1.40428111e-01,\n",
       "       -1.78159196e-02, -9.06540230e-02,  1.84235945e-02, -2.82154437e-02,\n",
       "       -2.70691477e-02,  2.07299963e-02,  1.66558139e-02,  3.04113589e-02,\n",
       "        3.35049778e-02,  3.90569158e-02, -1.49708971e-01, -3.46927047e-02,\n",
       "       -2.98830960e-03, -3.94712389e-02, -2.21386962e-02, -3.49136777e-02,\n",
       "       -5.43454569e-03, -7.19265938e-02, -3.39400163e-03, -1.19325221e-01,\n",
       "        1.45151401e-02, -3.30354124e-02,  1.23088667e-03, -5.83367757e-02,\n",
       "        3.67367007e-02,  1.85755137e-02,  5.05820196e-03,  5.36687300e-02,\n",
       "        2.10441928e-03,  3.22067626e-02,  4.02170196e-02, -9.03916266e-03,\n",
       "       -4.03827503e-02, -5.51741058e-03,  1.67801101e-02,  1.46808699e-02,\n",
       "       -3.22620049e-02,  2.28982903e-02, -1.28923720e-02,  4.66528498e-02,\n",
       "        2.43346114e-02, -4.43326347e-02, -4.82548997e-02,  5.58991730e-03,\n",
       "        6.64022788e-02,  3.95817235e-02,  1.47830695e-01, -3.34221125e-02,\n",
       "        1.02862760e-01, -3.06875743e-02,  1.24960028e-01,  6.12853793e-03,\n",
       "       -7.08217323e-02, -7.67879933e-02, -3.56318392e-02, -8.15527141e-03,\n",
       "       -2.79392283e-02, -5.75081296e-02, -3.52727585e-02, -6.81148171e-02,\n",
       "        3.34739010e-03,  2.67929323e-02, -3.77863236e-02,  6.36401251e-02,\n",
       "        5.33648916e-02,  1.18289413e-02, -5.45249991e-02, -7.23133013e-02,\n",
       "       -7.59041011e-02, -1.08483760e-02, -6.14303946e-02,  3.79796736e-02,\n",
       "       -4.30896655e-02,  6.68994710e-02,  1.14353346e-02,  4.96152649e-03,\n",
       "       -1.97770521e-02, -6.08779602e-02,  9.11512151e-02, -5.48288375e-02,\n",
       "       -4.18466926e-02, -3.82835120e-02,  5.64861298e-02, -2.53013670e-02,\n",
       "        1.99980233e-02, -4.20124233e-02,  7.10427091e-02, -5.15971109e-02,\n",
       "        2.85330918e-02, -7.83348009e-02, -4.32622992e-03, -1.21203490e-01,\n",
       "        4.27582078e-02, -4.50922316e-03,  6.93854094e-02,  2.07714289e-02,\n",
       "       -2.07438059e-02,  1.62967332e-02, -3.59356776e-02,  0.00000000e+00,\n",
       "        1.59100313e-02, -4.85863574e-02,  1.62967332e-02,  3.87254544e-02,\n",
       "       -2.06406577e-04,  9.30294842e-02, -2.98313051e-02, -3.48860547e-02,\n",
       "        3.30906548e-02, -5.44145107e-02,  1.41836815e-02,  6.76038163e-03,\n",
       "       -1.70010831e-02, -5.95521256e-02, -3.44164893e-02,  3.40021662e-02,\n",
       "       -9.13169459e-02,  1.40524786e-02, -8.25332850e-02,  1.57443002e-01,\n",
       "        7.12636784e-02,  8.79471079e-02, -2.91131455e-02, -3.39572807e-03,\n",
       "       -1.40248574e-02, -2.89474148e-02,  1.16563067e-01, -1.03719030e-02,\n",
       "        5.83367757e-02,  4.90835458e-02, -2.79806610e-02,  4.17085849e-02,\n",
       "        3.67367007e-02,  8.59721657e-03,  4.68185768e-02,  5.77291027e-02,\n",
       "        1.28164133e-02,  4.47193384e-02,  4.54927422e-02,  5.10446802e-02,\n",
       "        1.57304909e-02, -3.46927047e-02,  7.97158778e-02, -4.80339266e-02,\n",
       "       -7.86662623e-02,  5.61546721e-02,  1.20761544e-01, -2.30640192e-02,\n",
       "       -3.34221125e-02,  6.07122332e-02, -2.10200232e-02,  2.81394855e-03,\n",
       "       -4.95807342e-02, -1.67628459e-03, -6.37454272e-04,  1.52056795e-02,\n",
       "       -4.96912226e-02, -4.77024689e-02,  6.28667176e-02, -3.89464274e-02,\n",
       "       -5.58646442e-03,  5.90411294e-03, -9.86780971e-03,  4.20952886e-02,\n",
       "       -2.17934269e-02, -9.99210682e-03,  5.56851029e-02, -1.62414890e-02,\n",
       "       -2.35473961e-02, -3.29525471e-02, -5.35306223e-02, -8.11383966e-03,\n",
       "        3.74272428e-02,  1.41698699e-02, -9.73384455e-02, -1.80092715e-02,\n",
       "        1.14353346e-02, -3.68748093e-03, -7.65670240e-02,  1.15458205e-01,\n",
       "        4.49126884e-02, -4.09075618e-02,  1.74015965e-02, -3.98026966e-02,\n",
       "        6.03807718e-02, -1.16342090e-01, -2.63095554e-02, -4.39459346e-02,\n",
       "       -7.25342706e-02,  2.88369283e-02, -1.45841939e-02,  3.11018992e-02,\n",
       "        8.47430080e-02,  2.28568576e-02, -3.59425810e-03,  0.00000000e+00,\n",
       "        8.51849541e-02,  1.33826556e-02, -3.58528122e-02, -7.14846477e-02,\n",
       "        1.20098628e-01, -5.94968833e-02,  4.28134501e-02,  3.97198312e-02,\n",
       "        6.81148171e-02, -2.59366632e-02,  4.73986305e-02, -1.22985085e-02,\n",
       "       -4.96359803e-02, -2.86988206e-02,  4.05208580e-02, -7.50754550e-02,\n",
       "        3.22067626e-02, -6.53595617e-03, -1.29303522e-03, -4.44707461e-03,\n",
       "        2.34921537e-02, -2.20696423e-02, -1.46283895e-01,  3.20410356e-02,\n",
       "        1.11480698e-01,  2.13238597e-02,  4.71500382e-02,  1.64735109e-01,\n",
       "       -5.84472641e-02, -2.38650460e-02, -3.78415659e-02, -2.51908805e-02,\n",
       "        1.94041599e-02,  4.78681996e-02, -9.05987844e-02, -4.41945298e-03,\n",
       "        6.39715791e-02, -2.98313075e-03, -2.83673629e-02, -9.95481759e-02,\n",
       "        3.75929698e-02, -5.32820262e-02, -1.06011622e-01,  6.83910325e-02,\n",
       "       -2.40307748e-02,  8.43010619e-02,  1.86859984e-02, -7.31971860e-03,\n",
       "       -3.91950235e-02,  4.66114189e-03, -8.81818961e-03, -1.02061741e-02,\n",
       "        8.03788006e-02,  7.63046136e-03, -6.94682728e-03, -5.97748258e-05,\n",
       "        1.83131080e-02, -5.75219421e-03,  8.16493928e-02,  7.25342706e-02,\n",
       "        5.45802414e-02,  1.42803565e-02,  1.67939216e-02, -7.30314627e-02,\n",
       "       -3.03008724e-02, -5.72319143e-02,  1.22708865e-02, -1.02089360e-01,\n",
       "       -6.80595785e-02,  5.21357311e-03, -4.75436449e-03,  2.70967688e-02,\n",
       "       -4.94426265e-02, -5.74528873e-02, -3.94298090e-03,  8.08759853e-02,\n",
       "       -4.43050154e-02, -7.23133013e-02,  1.75310718e-03,  6.94337441e-03,\n",
       "       -5.16523533e-02, -4.49126884e-02,  1.89760253e-02,  4.70602699e-03,\n",
       "        8.73394385e-02,  7.49097243e-02, -4.05761003e-02,  2.29673441e-02,\n",
       "        3.12952511e-02,  9.14826766e-02, -7.28657320e-02, -9.83328279e-03,\n",
       "       -1.78297311e-02, -2.00118348e-02, -3.25658433e-02, -2.69741989e-08,\n",
       "       -5.34201339e-02, -4.43326347e-02, -3.48860547e-02, -9.89404991e-02,\n",
       "       -6.79490855e-03,  9.46867764e-02, -3.05563724e-03, -8.67317617e-02,\n",
       "        2.79392283e-02,  4.34211232e-02, -1.94732137e-02, -1.18772797e-02,\n",
       "       -3.79106170e-03, -2.11166982e-02,  9.86090377e-02, -6.01045564e-02,\n",
       "        3.10466550e-02,  1.63243543e-02, -2.90302802e-02,  6.64022788e-02,\n",
       "        6.14303946e-02,  1.79264061e-02,  1.51090045e-02,  4.67495248e-03,\n",
       "        1.27611700e-02, -2.40583960e-02, -3.34221125e-02,  5.25845820e-03,\n",
       "       -8.50744694e-02, -1.67386774e-02, -9.50182416e-03,  3.52727585e-02,\n",
       "       -2.65029054e-02,  4.79234420e-02,  2.39479095e-02, -3.48895090e-03,\n",
       "        1.18358470e-02,  2.51080170e-02, -5.03265187e-02,  7.39153475e-02,\n",
       "       -2.25115893e-03,  5.74528873e-02,  1.09381452e-01, -3.56663647e-03,\n",
       "       -3.81454043e-02,  2.27014860e-03,  2.66824458e-02, -4.43326347e-02,\n",
       "        5.20390570e-02,  1.25471028e-02,  2.22491827e-02, -2.20696423e-02,\n",
       "       -4.38078269e-02,  3.27660982e-03, -8.42458196e-03,  5.19285686e-02,\n",
       "        6.94958940e-02, -3.68471891e-02, -1.98737271e-02,  7.68432394e-02,\n",
       "        2.81740110e-02, -4.47745807e-02, -2.15310212e-02,  4.41392846e-02],\n",
       "      dtype=float32)"
      ]
     },
     "execution_count": 34,
     "metadata": {},
     "output_type": "execute_result"
    }
   ],
   "source": [
    "# Normalize the first embedding vector\n",
    "norm = np.linalg.norm(embeddings[0])\n",
    "normalized_embedding = embeddings[0] / norm\n",
    "normalized_embedding\n"
   ]
  },
  {
   "cell_type": "code",
   "execution_count": 15,
   "metadata": {},
   "outputs": [
    {
     "name": "stderr",
     "output_type": "stream",
     "text": [
      "/Users/enjalot/code/fineweb-modal/venv/lib/python3.11/site-packages/transformers/tokenization_utils_base.py:1601: FutureWarning: `clean_up_tokenization_spaces` was not set. It will be set to `True` by default. This behavior will be depracted in transformers v4.45, and will be then set to `False` by default. For more details check this issue: https://github.com/huggingface/transformers/issues/31884\n",
      "  warnings.warn(\n"
     ]
    }
   ],
   "source": [
    "from sentence_transformers import SentenceTransformer\n",
    "model = SentenceTransformer(\"sentence-transformers/all-MiniLM-L6-v2\")\n"
   ]
  },
  {
   "cell_type": "code",
   "execution_count": 35,
   "metadata": {},
   "outputs": [],
   "source": [
    "embst = model.encode(rdf.iloc[0]['chunk_text'], normalize_embeddings=True)\n",
    "embst1 = model.encode(rdf.iloc[1]['chunk_text'], normalize_embeddings=True)\n",
    "embstS0 = model.encode(rdf.iloc[156876]['chunk_text'], normalize_embeddings=True)"
   ]
  },
  {
   "cell_type": "code",
   "execution_count": 36,
   "metadata": {},
   "outputs": [],
   "source": [
    "rdf[\"original_position\"] = np.arange(len(rdf))"
   ]
  },
  {
   "cell_type": "code",
   "execution_count": 37,
   "metadata": {},
   "outputs": [
    {
     "data": {
      "text/html": [
       "<div>\n",
       "<style scoped>\n",
       "    .dataframe tbody tr th:only-of-type {\n",
       "        vertical-align: middle;\n",
       "    }\n",
       "\n",
       "    .dataframe tbody tr th {\n",
       "        vertical-align: top;\n",
       "    }\n",
       "\n",
       "    .dataframe thead th {\n",
       "        text-align: right;\n",
       "    }\n",
       "</style>\n",
       "<table border=\"1\" class=\"dataframe\">\n",
       "  <thead>\n",
       "    <tr style=\"text-align: right;\">\n",
       "      <th></th>\n",
       "      <th>chunk_index</th>\n",
       "      <th>chunk_text</th>\n",
       "      <th>chunk_tokens</th>\n",
       "      <th>chunk_token_count</th>\n",
       "      <th>doc_id</th>\n",
       "      <th>meta</th>\n",
       "      <th>original_position</th>\n",
       "    </tr>\n",
       "  </thead>\n",
       "  <tbody>\n",
       "    <tr>\n",
       "      <th>0</th>\n",
       "      <td>0</td>\n",
       "      <td>[CLS] about awb kids are kids join the cast &lt; ...</td>\n",
       "      <td>[101, 2055, 22091, 2497, 4268, 2024, 4268, 369...</td>\n",
       "      <td>120</td>\n",
       "      <td>2014-15/0000/en_head.json.gz/0</td>\n",
       "      <td>{\"url\": \"http://0360be4.netsolhost.com/news/ch...</td>\n",
       "      <td>0</td>\n",
       "    </tr>\n",
       "    <tr>\n",
       "      <th>1</th>\n",
       "      <td>1</td>\n",
       "      <td>and support for people with disabilities. she ...</td>\n",
       "      <td>[1998, 2490, 2005, 2111, 2007, 13597, 1012, 20...</td>\n",
       "      <td>120</td>\n",
       "      <td>2014-15/0000/en_head.json.gz/0</td>\n",
       "      <td>{\"url\": \"http://0360be4.netsolhost.com/news/ch...</td>\n",
       "      <td>1</td>\n",
       "    </tr>\n",
       "    <tr>\n",
       "      <th>2</th>\n",
       "      <td>2</td>\n",
       "      <td>she takes in her many accomplishments. john ta...</td>\n",
       "      <td>[2016, 3138, 1999, 2014, 2116, 17571, 1012, 21...</td>\n",
       "      <td>118</td>\n",
       "      <td>2014-15/0000/en_head.json.gz/0</td>\n",
       "      <td>{\"url\": \"http://0360be4.netsolhost.com/news/ch...</td>\n",
       "      <td>2</td>\n",
       "    </tr>\n",
       "    <tr>\n",
       "      <th>3</th>\n",
       "      <td>0</td>\n",
       "      <td>[CLS] read more music news taylor swift promis...</td>\n",
       "      <td>[101, 3191, 2062, 2189, 2739, 4202, 9170, 1065...</td>\n",
       "      <td>120</td>\n",
       "      <td>2014-15/0000/en_head.json.gz/1</td>\n",
       "      <td>{\"url\": \"http://1019ampradio.cbslocal.com/2013...</td>\n",
       "      <td>3</td>\n",
       "    </tr>\n",
       "    <tr>\n",
       "      <th>4</th>\n",
       "      <td>1</td>\n",
       "      <td>apprenticeship. i want to be around people who...</td>\n",
       "      <td>[20448, 1012, 1045, 2215, 2000, 2022, 2105, 21...</td>\n",
       "      <td>120</td>\n",
       "      <td>2014-15/0000/en_head.json.gz/1</td>\n",
       "      <td>{\"url\": \"http://1019ampradio.cbslocal.com/2013...</td>\n",
       "      <td>4</td>\n",
       "    </tr>\n",
       "  </tbody>\n",
       "</table>\n",
       "</div>"
      ],
      "text/plain": [
       "   chunk_index                                         chunk_text  \\\n",
       "0            0  [CLS] about awb kids are kids join the cast < ...   \n",
       "1            1  and support for people with disabilities. she ...   \n",
       "2            2  she takes in her many accomplishments. john ta...   \n",
       "3            0  [CLS] read more music news taylor swift promis...   \n",
       "4            1  apprenticeship. i want to be around people who...   \n",
       "\n",
       "                                        chunk_tokens  chunk_token_count  \\\n",
       "0  [101, 2055, 22091, 2497, 4268, 2024, 4268, 369...                120   \n",
       "1  [1998, 2490, 2005, 2111, 2007, 13597, 1012, 20...                120   \n",
       "2  [2016, 3138, 1999, 2014, 2116, 17571, 1012, 21...                118   \n",
       "3  [101, 3191, 2062, 2189, 2739, 4202, 9170, 1065...                120   \n",
       "4  [20448, 1012, 1045, 2215, 2000, 2022, 2105, 21...                120   \n",
       "\n",
       "                           doc_id  \\\n",
       "0  2014-15/0000/en_head.json.gz/0   \n",
       "1  2014-15/0000/en_head.json.gz/0   \n",
       "2  2014-15/0000/en_head.json.gz/0   \n",
       "3  2014-15/0000/en_head.json.gz/1   \n",
       "4  2014-15/0000/en_head.json.gz/1   \n",
       "\n",
       "                                                meta  original_position  \n",
       "0  {\"url\": \"http://0360be4.netsolhost.com/news/ch...                  0  \n",
       "1  {\"url\": \"http://0360be4.netsolhost.com/news/ch...                  1  \n",
       "2  {\"url\": \"http://0360be4.netsolhost.com/news/ch...                  2  \n",
       "3  {\"url\": \"http://1019ampradio.cbslocal.com/2013...                  3  \n",
       "4  {\"url\": \"http://1019ampradio.cbslocal.com/2013...                  4  "
      ]
     },
     "execution_count": 37,
     "metadata": {},
     "output_type": "execute_result"
    }
   ],
   "source": [
    "rdf.head()"
   ]
  },
  {
   "cell_type": "code",
   "execution_count": 38,
   "metadata": {},
   "outputs": [],
   "source": [
    "sdf = rdf.sort_values(by='chunk_token_count', ascending=True)"
   ]
  },
  {
   "cell_type": "code",
   "execution_count": 39,
   "metadata": {},
   "outputs": [],
   "source": [
    "# sdf = sdf.reset_index(drop=True)"
   ]
  },
  {
   "cell_type": "code",
   "execution_count": 40,
   "metadata": {},
   "outputs": [
    {
     "data": {
      "text/html": [
       "<div>\n",
       "<style scoped>\n",
       "    .dataframe tbody tr th:only-of-type {\n",
       "        vertical-align: middle;\n",
       "    }\n",
       "\n",
       "    .dataframe tbody tr th {\n",
       "        vertical-align: top;\n",
       "    }\n",
       "\n",
       "    .dataframe thead th {\n",
       "        text-align: right;\n",
       "    }\n",
       "</style>\n",
       "<table border=\"1\" class=\"dataframe\">\n",
       "  <thead>\n",
       "    <tr style=\"text-align: right;\">\n",
       "      <th></th>\n",
       "      <th>chunk_index</th>\n",
       "      <th>chunk_text</th>\n",
       "      <th>chunk_tokens</th>\n",
       "      <th>chunk_token_count</th>\n",
       "      <th>doc_id</th>\n",
       "      <th>meta</th>\n",
       "      <th>original_position</th>\n",
       "    </tr>\n",
       "  </thead>\n",
       "  <tbody>\n",
       "    <tr>\n",
       "      <th>156876</th>\n",
       "      <td>0</td>\n",
       "      <td>Terminated.</td>\n",
       "      <td>[101, 12527, 1012, 102]</td>\n",
       "      <td>4</td>\n",
       "      <td>2014-15/0000/en_head.json.gz/12924</td>\n",
       "      <td>{\"url\": \"http://www.daybydaycartoon.com/2011/1...</td>\n",
       "      <td>156876</td>\n",
       "    </tr>\n",
       "    <tr>\n",
       "      <th>211258</th>\n",
       "      <td>0</td>\n",
       "      <td>New Mexico 2006</td>\n",
       "      <td>[101, 2047, 3290, 2294, 102]</td>\n",
       "      <td>5</td>\n",
       "      <td>2014-15/0000/en_head.json.gz/17569</td>\n",
       "      <td>{\"url\": \"http://www.census.gov/epcd/nonemploye...</td>\n",
       "      <td>211258</td>\n",
       "    </tr>\n",
       "    <tr>\n",
       "      <th>370470</th>\n",
       "      <td>0</td>\n",
       "      <td>Mid-Layers</td>\n",
       "      <td>[101, 3054, 1011, 9014, 102]</td>\n",
       "      <td>5</td>\n",
       "      <td>2014-15/0000/en_middle.json.gz/10330</td>\n",
       "      <td>{\"url\": \"http://www.peterglenn.com/sale/backpa...</td>\n",
       "      <td>370470</td>\n",
       "    </tr>\n",
       "    <tr>\n",
       "      <th>348904</th>\n",
       "      <td>0</td>\n",
       "      <td>Third World View</td>\n",
       "      <td>[101, 2353, 2088, 3193, 102]</td>\n",
       "      <td>5</td>\n",
       "      <td>2014-15/0000/en_middle.json.gz/8809</td>\n",
       "      <td>{\"url\": \"http://wortfm.org/?attachment_id=1206...</td>\n",
       "      <td>348904</td>\n",
       "    </tr>\n",
       "    <tr>\n",
       "      <th>547229</th>\n",
       "      <td>0</td>\n",
       "      <td>Beatrix Miller</td>\n",
       "      <td>[101, 3786, 17682, 4679, 102]</td>\n",
       "      <td>5</td>\n",
       "      <td>2014-15/0000/en_middle.json.gz/22254</td>\n",
       "      <td>{\"url\": \"http://www.vogue.co.uk/magazine/archi...</td>\n",
       "      <td>547229</td>\n",
       "    </tr>\n",
       "    <tr>\n",
       "      <th>148794</th>\n",
       "      <td>0</td>\n",
       "      <td>High Recycled Content</td>\n",
       "      <td>[101, 2152, 22207, 4180, 102]</td>\n",
       "      <td>5</td>\n",
       "      <td>2014-15/0000/en_head.json.gz/12697</td>\n",
       "      <td>{\"url\": \"http://www.armstrong.com/commceilings...</td>\n",
       "      <td>148794</td>\n",
       "    </tr>\n",
       "    <tr>\n",
       "      <th>550429</th>\n",
       "      <td>0</td>\n",
       "      <td>Cosmetics, 2012</td>\n",
       "      <td>[101, 25381, 1010, 2262, 102]</td>\n",
       "      <td>5</td>\n",
       "      <td>2014-15/0000/en_middle.json.gz/22546</td>\n",
       "      <td>{\"url\": \"https://www.myfdb.com/campaigns/14059...</td>\n",
       "      <td>550429</td>\n",
       "    </tr>\n",
       "    <tr>\n",
       "      <th>547131</th>\n",
       "      <td>0</td>\n",
       "      <td>New York Arts</td>\n",
       "      <td>[101, 2047, 2259, 2840, 102]</td>\n",
       "      <td>5</td>\n",
       "      <td>2014-15/0000/en_middle.json.gz/22242</td>\n",
       "      <td>{\"url\": \"http://www.villagevoice.com/2009-07-2...</td>\n",
       "      <td>547131</td>\n",
       "    </tr>\n",
       "    <tr>\n",
       "      <th>470908</th>\n",
       "      <td>0</td>\n",
       "      <td>Greendale,</td>\n",
       "      <td>[101, 2665, 5634, 1010, 102]</td>\n",
       "      <td>5</td>\n",
       "      <td>2014-15/0000/en_middle.json.gz/16785</td>\n",
       "      <td>{\"url\": \"http://www.citysearch.com/profile/map...</td>\n",
       "      <td>470908</td>\n",
       "    </tr>\n",
       "    <tr>\n",
       "      <th>412416</th>\n",
       "      <td>0</td>\n",
       "      <td>Patsy and Hedy</td>\n",
       "      <td>[101, 25382, 1998, 2002, 5149, 102]</td>\n",
       "      <td>6</td>\n",
       "      <td>2014-15/0000/en_middle.json.gz/12983</td>\n",
       "      <td>{\"url\": \"http://www.comics.org/issue/97625/\", ...</td>\n",
       "      <td>412416</td>\n",
       "    </tr>\n",
       "  </tbody>\n",
       "</table>\n",
       "</div>"
      ],
      "text/plain": [
       "        chunk_index             chunk_text  \\\n",
       "156876            0            Terminated.   \n",
       "211258            0        New Mexico 2006   \n",
       "370470            0             Mid-Layers   \n",
       "348904            0       Third World View   \n",
       "547229            0         Beatrix Miller   \n",
       "148794            0  High Recycled Content   \n",
       "550429            0        Cosmetics, 2012   \n",
       "547131            0          New York Arts   \n",
       "470908            0             Greendale,   \n",
       "412416            0         Patsy and Hedy   \n",
       "\n",
       "                               chunk_tokens  chunk_token_count  \\\n",
       "156876              [101, 12527, 1012, 102]                  4   \n",
       "211258         [101, 2047, 3290, 2294, 102]                  5   \n",
       "370470         [101, 3054, 1011, 9014, 102]                  5   \n",
       "348904         [101, 2353, 2088, 3193, 102]                  5   \n",
       "547229        [101, 3786, 17682, 4679, 102]                  5   \n",
       "148794        [101, 2152, 22207, 4180, 102]                  5   \n",
       "550429        [101, 25381, 1010, 2262, 102]                  5   \n",
       "547131         [101, 2047, 2259, 2840, 102]                  5   \n",
       "470908         [101, 2665, 5634, 1010, 102]                  5   \n",
       "412416  [101, 25382, 1998, 2002, 5149, 102]                  6   \n",
       "\n",
       "                                      doc_id  \\\n",
       "156876    2014-15/0000/en_head.json.gz/12924   \n",
       "211258    2014-15/0000/en_head.json.gz/17569   \n",
       "370470  2014-15/0000/en_middle.json.gz/10330   \n",
       "348904   2014-15/0000/en_middle.json.gz/8809   \n",
       "547229  2014-15/0000/en_middle.json.gz/22254   \n",
       "148794    2014-15/0000/en_head.json.gz/12697   \n",
       "550429  2014-15/0000/en_middle.json.gz/22546   \n",
       "547131  2014-15/0000/en_middle.json.gz/22242   \n",
       "470908  2014-15/0000/en_middle.json.gz/16785   \n",
       "412416  2014-15/0000/en_middle.json.gz/12983   \n",
       "\n",
       "                                                     meta  original_position  \n",
       "156876  {\"url\": \"http://www.daybydaycartoon.com/2011/1...             156876  \n",
       "211258  {\"url\": \"http://www.census.gov/epcd/nonemploye...             211258  \n",
       "370470  {\"url\": \"http://www.peterglenn.com/sale/backpa...             370470  \n",
       "348904  {\"url\": \"http://wortfm.org/?attachment_id=1206...             348904  \n",
       "547229  {\"url\": \"http://www.vogue.co.uk/magazine/archi...             547229  \n",
       "148794  {\"url\": \"http://www.armstrong.com/commceilings...             148794  \n",
       "550429  {\"url\": \"https://www.myfdb.com/campaigns/14059...             550429  \n",
       "547131  {\"url\": \"http://www.villagevoice.com/2009-07-2...             547131  \n",
       "470908  {\"url\": \"http://www.citysearch.com/profile/map...             470908  \n",
       "412416  {\"url\": \"http://www.comics.org/issue/97625/\", ...             412416  "
      ]
     },
     "execution_count": 40,
     "metadata": {},
     "output_type": "execute_result"
    }
   ],
   "source": [
    "sdf.head(10)"
   ]
  },
  {
   "cell_type": "code",
   "execution_count": 41,
   "metadata": {},
   "outputs": [
    {
     "name": "stdout",
     "output_type": "stream",
     "text": [
      "0 362219 156876\n",
      "1 569232 211258\n",
      "2 28230 370470\n",
      "3 145097 348904\n"
     ]
    }
   ],
   "source": [
    "i = 0 \n",
    "for index, row in sdf.iterrows():\n",
    "    good = row['original_position']\n",
    "    bad = sdf.iloc[index]['original_position']\n",
    "    print(i, bad, good)\n",
    "    i += 1\n",
    "    if i > 3:\n",
    "        break\n"
   ]
  },
  {
   "cell_type": "code",
   "execution_count": 42,
   "metadata": {},
   "outputs": [
    {
     "data": {
      "text/plain": [
       "569232"
      ]
     },
     "execution_count": 42,
     "metadata": {},
     "output_type": "execute_result"
    }
   ],
   "source": [
    "sdf.iloc[211258]['original_position']"
   ]
  },
  {
   "cell_type": "code",
   "execution_count": null,
   "metadata": {},
   "outputs": [],
   "source": []
  },
  {
   "cell_type": "code",
   "execution_count": 43,
   "metadata": {},
   "outputs": [
    {
     "data": {
      "text/plain": [
       "'and support for people with disabilities. she described the process of creating the two non - profits she manages – “ kids are kids, ” which provides disability awareness workshops and awb which provides theater arts opportunities for children, youth and young adults with physical disabilities. christine talked about the importance of both in increasing inclusion for people, especially young people, with physical disabilities. the march “ everyone has a story ” segment featured christine, her mother, and her brother. christine ’ s mother read a letter she wrote about christine ’ s life and the pride she takes in her many accomplishments. john tartaglia,'"
      ]
     },
     "execution_count": 43,
     "metadata": {},
     "output_type": "execute_result"
    }
   ],
   "source": [
    "rdf.iloc[1]['chunk_text']"
   ]
  },
  {
   "cell_type": "code",
   "execution_count": 44,
   "metadata": {},
   "outputs": [
    {
     "data": {
      "text/plain": [
       "'and support for people with disabilities. she described the process of creating the two non - profits she manages – “ kids are kids, ” which provides disability awareness workshops and awb which provides theater arts opportunities for children, youth and young adults with physical disabilities. christine talked about the importance of both in increasing inclusion for people, especially young people, with physical disabilities. the march “ everyone has a story ” segment featured christine, her mother, and her brother. christine ’ s mother read a letter she wrote about christine ’ s life and the pride she takes in her many accomplishments. john tartaglia,'"
      ]
     },
     "execution_count": 44,
     "metadata": {},
     "output_type": "execute_result"
    }
   ],
   "source": [
    "rdf.loc[1]['chunk_text']"
   ]
  },
  {
   "cell_type": "code",
   "execution_count": 45,
   "metadata": {},
   "outputs": [
    {
     "data": {
      "text/plain": [
       "211258"
      ]
     },
     "execution_count": 45,
     "metadata": {},
     "output_type": "execute_result"
    }
   ],
   "source": [
    "sdf.iloc[1]['original_position']"
   ]
  },
  {
   "cell_type": "code",
   "execution_count": 171,
   "metadata": {},
   "outputs": [
    {
     "data": {
      "text/plain": [
       "chunk_index                                                          0\n",
       "chunk_text                                                 Terminated.\n",
       "chunk_tokens                                   [101, 12527, 1012, 102]\n",
       "chunk_token_count                                                    4\n",
       "doc_id                              2014-15/0000/en_head.json.gz/12924\n",
       "meta                 {\"url\": \"http://www.daybydaycartoon.com/2011/1...\n",
       "original_position                                               156876\n",
       "Name: 156876, dtype: object"
      ]
     },
     "execution_count": 171,
     "metadata": {},
     "output_type": "execute_result"
    }
   ],
   "source": [
    "rdf.iloc[156876]"
   ]
  },
  {
   "cell_type": "code",
   "execution_count": 172,
   "metadata": {},
   "outputs": [
    {
     "data": {
      "text/html": [
       "<div>\n",
       "<style scoped>\n",
       "    .dataframe tbody tr th:only-of-type {\n",
       "        vertical-align: middle;\n",
       "    }\n",
       "\n",
       "    .dataframe tbody tr th {\n",
       "        vertical-align: top;\n",
       "    }\n",
       "\n",
       "    .dataframe thead th {\n",
       "        text-align: right;\n",
       "    }\n",
       "</style>\n",
       "<table border=\"1\" class=\"dataframe\">\n",
       "  <thead>\n",
       "    <tr style=\"text-align: right;\">\n",
       "      <th></th>\n",
       "      <th>chunk_index</th>\n",
       "      <th>chunk_text</th>\n",
       "      <th>chunk_tokens</th>\n",
       "      <th>chunk_token_count</th>\n",
       "      <th>doc_id</th>\n",
       "      <th>meta</th>\n",
       "      <th>original_position</th>\n",
       "    </tr>\n",
       "  </thead>\n",
       "  <tbody>\n",
       "    <tr>\n",
       "      <th>0</th>\n",
       "      <td>0</td>\n",
       "      <td>Terminated.</td>\n",
       "      <td>[101, 12527, 1012, 102]</td>\n",
       "      <td>4</td>\n",
       "      <td>2014-15/0000/en_head.json.gz/12924</td>\n",
       "      <td>{\"url\": \"http://www.daybydaycartoon.com/2011/1...</td>\n",
       "      <td>156876</td>\n",
       "    </tr>\n",
       "    <tr>\n",
       "      <th>1</th>\n",
       "      <td>0</td>\n",
       "      <td>New Mexico 2006</td>\n",
       "      <td>[101, 2047, 3290, 2294, 102]</td>\n",
       "      <td>5</td>\n",
       "      <td>2014-15/0000/en_head.json.gz/17569</td>\n",
       "      <td>{\"url\": \"http://www.census.gov/epcd/nonemploye...</td>\n",
       "      <td>211258</td>\n",
       "    </tr>\n",
       "    <tr>\n",
       "      <th>2</th>\n",
       "      <td>0</td>\n",
       "      <td>Mid-Layers</td>\n",
       "      <td>[101, 3054, 1011, 9014, 102]</td>\n",
       "      <td>5</td>\n",
       "      <td>2014-15/0000/en_middle.json.gz/10330</td>\n",
       "      <td>{\"url\": \"http://www.peterglenn.com/sale/backpa...</td>\n",
       "      <td>370470</td>\n",
       "    </tr>\n",
       "    <tr>\n",
       "      <th>3</th>\n",
       "      <td>0</td>\n",
       "      <td>Third World View</td>\n",
       "      <td>[101, 2353, 2088, 3193, 102]</td>\n",
       "      <td>5</td>\n",
       "      <td>2014-15/0000/en_middle.json.gz/8809</td>\n",
       "      <td>{\"url\": \"http://wortfm.org/?attachment_id=1206...</td>\n",
       "      <td>348904</td>\n",
       "    </tr>\n",
       "    <tr>\n",
       "      <th>4</th>\n",
       "      <td>0</td>\n",
       "      <td>Beatrix Miller</td>\n",
       "      <td>[101, 3786, 17682, 4679, 102]</td>\n",
       "      <td>5</td>\n",
       "      <td>2014-15/0000/en_middle.json.gz/22254</td>\n",
       "      <td>{\"url\": \"http://www.vogue.co.uk/magazine/archi...</td>\n",
       "      <td>547229</td>\n",
       "    </tr>\n",
       "  </tbody>\n",
       "</table>\n",
       "</div>"
      ],
      "text/plain": [
       "   chunk_index        chunk_text                   chunk_tokens  \\\n",
       "0            0       Terminated.        [101, 12527, 1012, 102]   \n",
       "1            0   New Mexico 2006   [101, 2047, 3290, 2294, 102]   \n",
       "2            0        Mid-Layers   [101, 3054, 1011, 9014, 102]   \n",
       "3            0  Third World View   [101, 2353, 2088, 3193, 102]   \n",
       "4            0    Beatrix Miller  [101, 3786, 17682, 4679, 102]   \n",
       "\n",
       "   chunk_token_count                                doc_id  \\\n",
       "0                  4    2014-15/0000/en_head.json.gz/12924   \n",
       "1                  5    2014-15/0000/en_head.json.gz/17569   \n",
       "2                  5  2014-15/0000/en_middle.json.gz/10330   \n",
       "3                  5   2014-15/0000/en_middle.json.gz/8809   \n",
       "4                  5  2014-15/0000/en_middle.json.gz/22254   \n",
       "\n",
       "                                                meta  original_position  \n",
       "0  {\"url\": \"http://www.daybydaycartoon.com/2011/1...             156876  \n",
       "1  {\"url\": \"http://www.census.gov/epcd/nonemploye...             211258  \n",
       "2  {\"url\": \"http://www.peterglenn.com/sale/backpa...             370470  \n",
       "3  {\"url\": \"http://wortfm.org/?attachment_id=1206...             348904  \n",
       "4  {\"url\": \"http://www.vogue.co.uk/magazine/archi...             547229  "
      ]
     },
     "execution_count": 172,
     "metadata": {},
     "output_type": "execute_result"
    }
   ],
   "source": [
    "sdf.head()"
   ]
  },
  {
   "cell_type": "code",
   "execution_count": 186,
   "metadata": {},
   "outputs": [
    {
     "data": {
      "text/plain": [
       "390537"
      ]
     },
     "execution_count": 186,
     "metadata": {},
     "output_type": "execute_result"
    }
   ],
   "source": [
    "sdf.index[sdf['original_position'] == 1][0]"
   ]
  },
  {
   "cell_type": "code",
   "execution_count": null,
   "metadata": {},
   "outputs": [],
   "source": [
    "348904"
   ]
  },
  {
   "cell_type": "code",
   "execution_count": 174,
   "metadata": {},
   "outputs": [
    {
     "data": {
      "text/html": [
       "<div>\n",
       "<style scoped>\n",
       "    .dataframe tbody tr th:only-of-type {\n",
       "        vertical-align: middle;\n",
       "    }\n",
       "\n",
       "    .dataframe tbody tr th {\n",
       "        vertical-align: top;\n",
       "    }\n",
       "\n",
       "    .dataframe thead th {\n",
       "        text-align: right;\n",
       "    }\n",
       "</style>\n",
       "<table border=\"1\" class=\"dataframe\">\n",
       "  <thead>\n",
       "    <tr style=\"text-align: right;\">\n",
       "      <th></th>\n",
       "      <th>chunk_index</th>\n",
       "      <th>chunk_text</th>\n",
       "      <th>chunk_tokens</th>\n",
       "      <th>chunk_token_count</th>\n",
       "      <th>doc_id</th>\n",
       "      <th>meta</th>\n",
       "      <th>original_position</th>\n",
       "    </tr>\n",
       "  </thead>\n",
       "  <tbody>\n",
       "    <tr>\n",
       "      <th>390537</th>\n",
       "      <td>1</td>\n",
       "      <td>and support for people with disabilities. she ...</td>\n",
       "      <td>[1998, 2490, 2005, 2111, 2007, 13597, 1012, 20...</td>\n",
       "      <td>120</td>\n",
       "      <td>2014-15/0000/en_head.json.gz/0</td>\n",
       "      <td>{\"url\": \"http://0360be4.netsolhost.com/news/ch...</td>\n",
       "      <td>1</td>\n",
       "    </tr>\n",
       "  </tbody>\n",
       "</table>\n",
       "</div>"
      ],
      "text/plain": [
       "        chunk_index                                         chunk_text  \\\n",
       "390537            1  and support for people with disabilities. she ...   \n",
       "\n",
       "                                             chunk_tokens  chunk_token_count  \\\n",
       "390537  [1998, 2490, 2005, 2111, 2007, 13597, 1012, 20...                120   \n",
       "\n",
       "                                doc_id  \\\n",
       "390537  2014-15/0000/en_head.json.gz/0   \n",
       "\n",
       "                                                     meta  original_position  \n",
       "390537  {\"url\": \"http://0360be4.netsolhost.com/news/ch...                  1  "
      ]
     },
     "execution_count": 174,
     "metadata": {},
     "output_type": "execute_result"
    }
   ],
   "source": [
    "sdf[sdf['original_position'] == 1]"
   ]
  },
  {
   "cell_type": "code",
   "execution_count": 187,
   "metadata": {},
   "outputs": [],
   "source": [
    "emb = embeddings[390537]"
   ]
  },
  {
   "cell_type": "code",
   "execution_count": 188,
   "metadata": {},
   "outputs": [
    {
     "data": {
      "text/plain": [
       "memmap([-4.52683249e-04, -3.97839787e-04, -9.94734373e-03,\n",
       "        -6.73225820e-02, -4.85355556e-02, -3.06979474e-02,\n",
       "         8.24557841e-02,  1.39464196e-02,  1.84417851e-02,\n",
       "        -2.14626696e-02,  1.38744945e-02,  4.01921570e-02,\n",
       "         1.13227006e-05,  7.11202696e-02,  4.45940197e-02,\n",
       "        -1.57517586e-02, -6.52511194e-02,  8.23407024e-02,\n",
       "        -5.11392718e-03, -4.35295179e-02,  1.48167228e-02,\n",
       "         9.51578841e-03, -4.47378717e-02, -1.86000224e-02,\n",
       "         4.88646154e-04,  2.95255566e-03,  7.80826882e-02,\n",
       "        -3.59053798e-02, -2.74325144e-02, -7.83128515e-02,\n",
       "        -5.31388074e-02, -1.17843293e-01,  3.78905311e-02,\n",
       "        -5.68789542e-02, -1.62552390e-02,  1.55935213e-02,\n",
       "        -2.87703350e-02,  3.77610652e-03, -5.57569079e-02,\n",
       "        -6.57114461e-02,  4.19759192e-02, -9.03963894e-02,\n",
       "        -1.89884212e-02,  9.98330638e-02,  3.11870426e-02,\n",
       "         3.60303500e-04, -2.94464380e-02, -5.83462380e-02,\n",
       "         5.97272143e-02,  2.70728860e-02, -6.35824427e-02,\n",
       "         4.75573651e-02,  4.21773121e-02, -1.06795482e-01,\n",
       "        -2.41670813e-02,  2.51740441e-02,  4.51406576e-02,\n",
       "         3.39777656e-02,  8.30887258e-02, -6.82432353e-02,\n",
       "         9.62079987e-02, -4.21485417e-02,  2.69721895e-02,\n",
       "        -1.34285539e-02,  8.13481212e-03, -3.28269526e-02,\n",
       "         3.95016707e-02, -1.23928217e-02, -1.52392872e-03,\n",
       "         5.15276715e-02,  8.39518383e-02,  6.72866218e-03,\n",
       "        -1.54640554e-02, -5.67063317e-02,  4.33281250e-02,\n",
       "         7.89026450e-03, -5.60158417e-02, -7.20607000e-04,\n",
       "        -3.08705699e-02,  8.01973138e-03,  1.46843791e-01,\n",
       "         7.48028699e-03, -5.61021529e-02,  2.85545569e-02,\n",
       "        -3.13884355e-02, -5.01466952e-02, -2.68571079e-02,\n",
       "        -5.30812666e-02,  4.59174551e-02,  6.05327860e-02,\n",
       "         5.90942688e-02,  2.03693975e-02, -6.67471811e-02,\n",
       "        -4.93123531e-02,  3.46682556e-02,  1.34932874e-02,\n",
       "        -2.45410968e-02, -7.09476471e-02, -7.07750255e-03,\n",
       "         6.08204901e-02,  2.96046752e-02,  2.91443486e-02,\n",
       "        -3.94153595e-03,  3.85162863e-03,  7.25012459e-03,\n",
       "         3.47042177e-03, -8.94757453e-03, -3.79480720e-02,\n",
       "        -6.99119121e-02,  9.47263278e-03, -2.09448040e-02,\n",
       "        -4.45041107e-04, -1.62408538e-02,  3.01800817e-02,\n",
       "         9.42228455e-03, -1.79383047e-02,  4.12566587e-02,\n",
       "         4.72408906e-02,  3.13596651e-02, -7.89458007e-02,\n",
       "         6.48483336e-02,  6.76102862e-02,  2.59076860e-02,\n",
       "        -4.91972715e-02, -2.38793790e-02,  6.26042485e-02,\n",
       "         2.80079208e-02,  0.00000000e+00,  1.43204341e-02,\n",
       "         4.63490114e-02,  1.64134763e-02,  5.67926429e-02,\n",
       "        -2.26278678e-02, -9.70711112e-02,  3.96455228e-02,\n",
       "        -6.67471811e-02, -9.47694853e-02, -6.51360378e-02,\n",
       "        -2.22970098e-02,  1.11053493e-02,  6.76102862e-02,\n",
       "         2.18222998e-02, -5.51815033e-02,  3.14747468e-02,\n",
       "         6.16260581e-02,  2.94221623e-04,  6.17986806e-02,\n",
       "         1.82260070e-02, -2.88710315e-02,  5.02330065e-02,\n",
       "        -2.41383109e-02,  1.86431780e-02, -8.71741176e-02,\n",
       "         7.17100594e-03,  4.00770754e-02, -4.59462255e-02,\n",
       "        -5.65624796e-02, -1.43060489e-02, -7.62989298e-02,\n",
       "         2.74576875e-03, -4.50543463e-02,  9.43666976e-03,\n",
       "         7.60687664e-02,  1.91898141e-02, -5.69652617e-02,\n",
       "        -3.50422673e-02, -1.28603401e-02, -1.08003840e-01,\n",
       "        -4.30979617e-02, -5.01466952e-02, -5.86627126e-02,\n",
       "        -2.95759048e-02, -4.77875285e-02,  7.84279332e-02,\n",
       "        -8.24557841e-02,  8.18803757e-02,  3.17624509e-02,\n",
       "        -6.30645752e-02,  6.60566911e-02,  4.80464585e-02,\n",
       "        -2.60946937e-02, -2.83387806e-02, -7.68167945e-03,\n",
       "         5.64473979e-02, -2.10598856e-02, -1.58092994e-02,\n",
       "         5.15276715e-02,  3.26543301e-02,  6.85309395e-02,\n",
       "        -1.83410887e-02, -3.01513113e-02, -1.29826134e-02,\n",
       "        -9.34460461e-02, -6.10506497e-02, -8.03843141e-02,\n",
       "         9.24678594e-02,  3.59629206e-02,  2.75655766e-03,\n",
       "        -4.75285947e-02, -1.63271651e-02, -5.86051717e-02,\n",
       "         5.65912500e-02,  6.01875409e-02, -3.01638996e-04,\n",
       "        -1.99931354e-04,  7.44432444e-03, -4.06524837e-02,\n",
       "         9.68840998e-03,  2.18222998e-02,  1.01559283e-02,\n",
       "         5.05494773e-02, -4.40473817e-02, -6.38701469e-02,\n",
       "         2.95759048e-02,  3.93002778e-02,  3.79193015e-02,\n",
       "        -4.49104942e-02,  5.74543588e-02, -2.00241525e-02,\n",
       "        -5.00316136e-02, -2.59508416e-02,  3.19350734e-02,\n",
       "        -6.24891669e-02,  0.00000000e+00, -2.48575695e-02,\n",
       "        -1.17382966e-02,  3.84371690e-02,  9.01949964e-03,\n",
       "        -2.61666197e-02, -6.22014627e-02, -2.51596589e-02,\n",
       "         7.39397630e-02,  3.67397182e-02,  3.88687216e-02,\n",
       "         4.66942526e-02, -8.24270118e-03,  1.75067484e-02,\n",
       "        -9.39351413e-03, -1.81972366e-02,  9.75314379e-02,\n",
       "        -6.11081906e-02, -5.67351021e-02, -8.86126328e-03,\n",
       "         8.66562501e-02,  9.21801552e-02, -1.34285539e-02,\n",
       "         2.22970098e-02,  7.45727122e-02, -1.12664632e-01,\n",
       "         3.48696448e-02, -1.34717096e-02,  1.02882721e-01,\n",
       "        -5.85188605e-02,  7.99239874e-02,  4.15155925e-02,\n",
       "        -9.60209931e-04,  5.60733825e-02, -4.06812541e-02,\n",
       "         2.72958563e-03,  6.25467077e-02,  3.99044566e-02,\n",
       "         4.06237133e-02, -9.80888610e-04,  1.10132843e-01,\n",
       "        -1.34573244e-02, -4.08898387e-03, -3.30858864e-02,\n",
       "        -6.03502740e-05,  1.41046569e-02,  7.61838481e-02,\n",
       "         1.19109191e-01,  2.41383109e-02, -9.17198285e-02,\n",
       "        -3.05828657e-02, -2.18798406e-02,  8.76344442e-02,\n",
       "        -1.55474886e-01,  5.62460050e-02,  7.60166207e-04,\n",
       "        -2.15489808e-02, -2.22970098e-02, -2.08728779e-02,\n",
       "        -1.69601124e-02,  4.43422794e-03, -7.82553107e-02,\n",
       "        -9.94302779e-02,  3.52724306e-02, -1.12837255e-01,\n",
       "         5.15276715e-02, -3.16114048e-03,  5.37142158e-02,\n",
       "        -7.52631947e-02, -6.97392896e-02, -8.61959234e-02,\n",
       "        -4.88520302e-02,  5.92668913e-02, -2.28436459e-02,\n",
       "         1.06162541e-02,  8.07870999e-02, -1.19324969e-02,\n",
       "        -4.12278920e-02,  1.58812255e-02,  3.82357761e-02,\n",
       "         3.86601384e-03, -4.71833497e-02,  4.94130515e-03,\n",
       "        -6.84158579e-02,  6.14965893e-03,  2.75332108e-02,\n",
       "         2.72419117e-03,  1.11413123e-02, -7.45727122e-02,\n",
       "        -1.08751869e-02,  1.99953821e-02,  1.80677697e-02,\n",
       "        -7.44881982e-04, -5.36854453e-02,  5.88353351e-02,\n",
       "         6.24891669e-02, -2.80960304e-08,  2.50014216e-02,\n",
       "         1.23597361e-01,  6.39420701e-03,  1.53777441e-02,\n",
       "        -9.03963894e-02, -1.66148692e-02, -6.51648082e-03,\n",
       "         1.53489737e-02,  1.66436397e-02,  7.90464971e-03,\n",
       "        -4.46515605e-02, -1.17095262e-02,  2.62960866e-02,\n",
       "        -4.95712869e-02, -1.75930597e-02,  7.64140114e-02,\n",
       "        -7.16956779e-02,  2.83963215e-02, -1.57805290e-02,\n",
       "         6.42153844e-02,  5.28798774e-02,  2.42965482e-02,\n",
       "        -6.03026226e-02,  1.99522283e-02,  3.07267178e-02,\n",
       "         1.73161458e-03, -6.64019361e-02, -8.47286358e-03,\n",
       "         9.62367747e-03, -2.54617464e-02,  1.29121259e-01,\n",
       "        -3.04965544e-02,  5.00603812e-03, -9.75889787e-02,\n",
       "        -7.12353513e-02,  5.44334725e-02,  6.31221160e-02,\n",
       "        -4.35870588e-02,  1.12376928e-01,  6.31508837e-03,\n",
       "        -1.23482279e-01, -2.22394690e-02, -6.12232722e-02,\n",
       "        -7.96938315e-03, -6.22590035e-02, -2.31457353e-02,\n",
       "        -1.21640980e-01,  2.99786888e-02, -1.21640980e-01,\n",
       "        -4.47091013e-02, -1.73485130e-02,  1.00120762e-02,\n",
       "         1.09614981e-02,  9.35611278e-02,  1.33724511e-01,\n",
       "        -3.78329903e-02, -5.04919365e-02, -2.29731128e-02,\n",
       "        -3.18487622e-02,  2.65262481e-02,  2.45267116e-02,\n",
       "        -2.83819363e-02, -2.11749673e-02,  1.07960682e-02], dtype=float32)"
      ]
     },
     "execution_count": 188,
     "metadata": {},
     "output_type": "execute_result"
    }
   ],
   "source": [
    "emb"
   ]
  },
  {
   "cell_type": "code",
   "execution_count": 189,
   "metadata": {},
   "outputs": [
    {
     "data": {
      "text/plain": [
       "array([ 1.84022784e-02,  2.13036556e-02,  4.49987389e-02,  1.21036032e-02,\n",
       "        3.39384377e-02,  1.13584854e-01,  3.90453674e-02,  2.26736497e-02,\n",
       "        3.68181951e-02, -5.98730631e-02,  3.80697660e-02,  3.54915159e-03,\n",
       "        2.54673902e-02, -3.40974666e-02,  4.99734050e-03, -1.17743639e-02,\n",
       "       -3.49157080e-02, -4.09054160e-02,  4.39816527e-02, -3.41169015e-02,\n",
       "       -8.62772912e-02,  3.01656220e-02,  2.53191236e-02,  8.39999840e-02,\n",
       "       -4.86296453e-02,  8.16029981e-02, -3.52350026e-02, -9.84868482e-02,\n",
       "        4.10993397e-03, -3.54244709e-02, -7.96345994e-03, -6.73536509e-02,\n",
       "       -1.22820837e-02,  3.58506553e-02,  3.37732211e-02,  5.99772334e-02,\n",
       "        6.13809228e-02,  3.00174113e-02, -7.72080421e-02,  2.29537189e-02,\n",
       "       -5.34398519e-02, -6.76123798e-02, -1.48260146e-02, -7.10379630e-02,\n",
       "       -8.60220566e-03, -6.43919930e-02,  2.76593734e-02, -7.08175600e-02,\n",
       "       -4.76730801e-02,  2.29088310e-02, -1.88694652e-02, -3.20182666e-02,\n",
       "        3.41766775e-02, -2.92650945e-02,  2.95982733e-02,  6.94585592e-02,\n",
       "        5.51804751e-02, -7.44239390e-02, -4.89278371e-03, -8.58347118e-02,\n",
       "       -2.90400106e-02, -1.10161295e-02, -5.24445213e-02,  1.67080425e-02,\n",
       "        2.66261455e-02, -1.80428140e-02, -3.59246857e-03,  6.24407455e-02,\n",
       "        1.57548692e-02,  1.65562518e-02, -5.05899265e-02,  3.57379355e-02,\n",
       "        1.54425040e-01,  8.26949552e-02,  8.28731284e-02, -4.09679115e-03,\n",
       "        6.11164793e-02, -2.39949189e-02,  8.92388150e-02, -2.50075683e-02,\n",
       "       -1.02108642e-01, -7.45792734e-03, -4.67750914e-02, -2.73688277e-03,\n",
       "       -3.45317870e-02,  1.23386933e-02,  4.60349768e-02, -8.45891424e-03,\n",
       "       -1.54985702e-02,  4.73675900e-04, -7.94671997e-02,  2.82549784e-02,\n",
       "        2.02570856e-02, -4.07259585e-03, -6.84591308e-02,  3.22166784e-03,\n",
       "       -4.37182672e-02, -6.62625208e-02, -6.35476634e-02, -2.21739989e-02,\n",
       "        2.19875425e-02,  6.22010604e-02,  6.76709786e-02,  6.82466552e-02,\n",
       "        2.45227218e-02, -7.06809908e-02,  1.05485348e-02, -2.43905243e-02,\n",
       "       -5.20735756e-02,  2.41049640e-02,  7.78882727e-02, -2.03338563e-02,\n",
       "        3.49707855e-03, -3.34667973e-02, -1.72974169e-02, -2.29881909e-02,\n",
       "       -1.44612323e-02, -9.44786966e-02,  3.05606835e-02, -3.25127617e-02,\n",
       "        1.15465242e-02,  1.63072161e-02,  1.09160701e-02,  6.95347562e-02,\n",
       "       -2.79410128e-02,  2.12415028e-02, -3.43325846e-02, -1.41098003e-33,\n",
       "       -1.92260146e-02,  4.19501681e-03,  5.84718660e-02,  8.97495728e-03,\n",
       "        4.39954102e-02,  4.58693318e-02,  1.90175585e-02, -6.42310232e-02,\n",
       "        2.22876091e-02, -7.56101906e-02,  1.47609820e-03,  5.38486347e-04,\n",
       "        4.41660061e-02, -1.52619937e-02, -7.96692520e-02, -2.04904675e-02,\n",
       "       -4.44507860e-02,  5.42177958e-03, -1.51534583e-02,  8.55427980e-02,\n",
       "        1.12254873e-01,  3.70947048e-02, -5.40951155e-02,  1.39827710e-02,\n",
       "       -1.65410787e-02,  8.07633325e-02,  9.85221863e-02,  5.92930987e-02,\n",
       "        4.21674624e-02,  4.86623123e-02,  2.06828285e-02,  9.38696861e-02,\n",
       "        1.65566392e-02, -9.33767408e-02,  1.13517798e-01, -1.03166122e-02,\n",
       "        1.84894856e-02, -1.49855344e-02,  8.45648497e-02,  5.67920581e-02,\n",
       "       -7.72282705e-02, -5.46271317e-02,  6.95311055e-02, -7.64279291e-02,\n",
       "       -4.25778776e-02,  7.73776621e-02,  1.01498835e-01, -3.66989374e-02,\n",
       "       -4.28955117e-03, -9.53092612e-03, -1.55569119e-02, -2.36450713e-02,\n",
       "       -7.64491111e-02, -6.49764240e-02,  3.59310992e-02, -8.59881099e-03,\n",
       "       -4.53443713e-02, -2.48219576e-02,  4.05470058e-02, -9.48278755e-02,\n",
       "        5.01833856e-02,  5.00473604e-02,  2.22435333e-02, -3.76362875e-02,\n",
       "       -2.65186783e-02, -2.47873869e-02,  3.26492749e-02, -7.50837177e-02,\n",
       "        1.49540575e-02,  3.43874469e-03, -1.31418754e-03,  1.69352926e-02,\n",
       "        5.11653088e-02, -2.10684128e-02, -8.42425004e-02,  2.90689301e-02,\n",
       "       -2.24600881e-02,  4.21185531e-02, -4.33331951e-02,  5.78221716e-02,\n",
       "       -6.44414946e-02, -4.94240150e-02,  5.33542223e-03, -5.76037504e-02,\n",
       "        5.70065081e-02, -5.77588975e-02,  1.55227783e-03,  1.25549454e-02,\n",
       "       -9.04032439e-02, -1.95303727e-02,  2.80095786e-02,  3.50400843e-02,\n",
       "        3.19188386e-02,  5.54577913e-03, -1.00377344e-01, -1.17442006e-33,\n",
       "        6.11876696e-02,  5.54017089e-02,  7.04493746e-02, -4.71412949e-02,\n",
       "        9.76082832e-02, -8.84478912e-02, -2.81738192e-02, -2.35997029e-02,\n",
       "        7.88494870e-02,  2.89007034e-02, -9.51239541e-02, -1.59779820e-03,\n",
       "       -2.28601415e-02, -1.09777907e-02, -1.80655606e-02, -5.14235869e-02,\n",
       "        5.69949821e-02,  3.62830311e-02,  1.81642417e-02,  4.22903802e-03,\n",
       "        2.87287775e-03,  5.60131632e-02, -1.05628245e-01,  6.16886728e-02,\n",
       "        6.39812723e-02, -2.10961457e-02,  4.61209416e-02,  1.30229872e-02,\n",
       "       -6.69061318e-02, -1.04268864e-01,  5.99563308e-02, -9.16023087e-03,\n",
       "       -1.03672519e-02, -5.34546822e-02, -5.46289794e-02, -3.07274126e-02,\n",
       "       -6.04943037e-02,  1.92102175e-02, -5.85838268e-03, -7.15477020e-02,\n",
       "        8.28601643e-02, -6.80647045e-02, -1.53488470e-02,  5.53745329e-02,\n",
       "       -3.84519063e-02,  5.28631732e-02,  6.65793493e-02, -2.24440228e-02,\n",
       "       -1.85978953e-02,  3.02680093e-03, -5.79693355e-02, -9.82520878e-02,\n",
       "        1.23248227e-01,  5.93927363e-03, -3.84376571e-03,  5.93368299e-02,\n",
       "       -3.00532747e-02, -2.88900863e-02,  3.64355668e-02,  4.26520258e-02,\n",
       "        5.63516133e-02,  3.40372063e-02, -4.88139279e-02, -3.45092528e-02,\n",
       "       -1.92703679e-02, -1.15711555e-01, -7.56502002e-02, -1.28169775e-01,\n",
       "       -6.71081319e-02,  4.93961126e-02, -3.10446341e-02,  7.67663820e-03,\n",
       "        1.58079322e-02, -2.84324251e-02,  2.85034324e-03,  4.93136421e-02,\n",
       "       -4.35139425e-02, -6.86716009e-03, -2.82941014e-02,  1.93202570e-02,\n",
       "       -3.28095257e-02, -3.82773913e-02, -8.86624400e-03,  4.51622047e-02,\n",
       "       -1.31130719e-03,  1.79926008e-02,  1.86973065e-02,  3.94928791e-02,\n",
       "        3.36433575e-03,  1.74290892e-02, -1.51435789e-02,  2.08548196e-02,\n",
       "        2.78860778e-02,  1.33467726e-02,  7.42902001e-03, -4.94160162e-08,\n",
       "        3.38139944e-02, -5.20739555e-02, -7.65569955e-02, -1.05101466e-01,\n",
       "       -3.14023010e-02,  6.49160892e-02,  2.67496146e-02, -6.03544153e-02,\n",
       "        2.07406702e-03,  1.07501961e-01, -7.15505481e-02, -6.74925325e-03,\n",
       "       -9.37395543e-03, -4.58001681e-02,  6.38910756e-02, -5.17214164e-02,\n",
       "        4.70254533e-02,  7.22951209e-03, -4.78935614e-02,  4.70452979e-02,\n",
       "        8.76544863e-02,  1.08102215e-02,  2.78970841e-02,  2.91516371e-02,\n",
       "        6.95194723e-03,  3.82493250e-02,  2.98866034e-02, -4.60379645e-02,\n",
       "       -1.53226331e-01, -3.60643566e-02,  1.04379421e-02,  4.07144986e-02,\n",
       "       -5.00483699e-02,  6.95883185e-02,  2.61622034e-02, -9.27591813e-04,\n",
       "       -4.86643240e-03,  8.90766680e-02,  1.95073988e-02,  1.98295712e-03,\n",
       "        8.64855349e-02,  8.27403739e-02,  1.08636573e-01,  1.99596137e-02,\n",
       "       -7.07163066e-02,  1.95839163e-02, -1.25389948e-01, -7.30618834e-02,\n",
       "       -2.05595847e-02,  3.47728580e-02, -4.27804030e-02, -6.59857765e-02,\n",
       "       -2.73945779e-02,  8.92575271e-03, -1.15370471e-02, -1.06019797e-02,\n",
       "        4.53876257e-02, -1.82540249e-02, -4.92835045e-03, -2.17134431e-02,\n",
       "        9.88277793e-02, -3.48451361e-02,  6.06946014e-02,  2.43417583e-02],\n",
       "      dtype=float32)"
      ]
     },
     "execution_count": 189,
     "metadata": {},
     "output_type": "execute_result"
    }
   ],
   "source": [
    "embst1"
   ]
  },
  {
   "cell_type": "code",
   "execution_count": 47,
   "metadata": {},
   "outputs": [
    {
     "ename": "NameError",
     "evalue": "name 'emb' is not defined",
     "output_type": "error",
     "traceback": [
      "\u001b[0;31m---------------------------------------------------------------------------\u001b[0m",
      "\u001b[0;31mNameError\u001b[0m                                 Traceback (most recent call last)",
      "Cell \u001b[0;32mIn[47], line 1\u001b[0m\n\u001b[0;32m----> 1\u001b[0m np\u001b[38;5;241m.\u001b[39mdot(embst1, \u001b[43memb\u001b[49m)\n",
      "\u001b[0;31mNameError\u001b[0m: name 'emb' is not defined"
     ]
    }
   ],
   "source": [
    "np.dot(embst1, emb)"
   ]
  },
  {
   "cell_type": "code",
   "execution_count": 140,
   "metadata": {},
   "outputs": [
    {
     "data": {
      "text/plain": [
       "chunk_index                                                         29\n",
       "chunk_text           in fact warrem jeffs is in a federal prison. y...\n",
       "chunk_tokens         [1999, 2755, 2162, 28578, 5076, 2015, 2003, 19...\n",
       "chunk_token_count                                                  120\n",
       "doc_id                             2014-15/0000/en_middle.json.gz/4964\n",
       "meta                 {\"url\": \"http://world.time.com/2012/09/13/prot...\n",
       "original_position                                               298865\n",
       "Name: 298865, dtype: object"
      ]
     },
     "execution_count": 140,
     "metadata": {},
     "output_type": "execute_result"
    }
   ],
   "source": [
    "rdf.loc[298865]"
   ]
  },
  {
   "cell_type": "code",
   "execution_count": 106,
   "metadata": {},
   "outputs": [
    {
     "data": {
      "text/plain": [
       "'Terminated.'"
      ]
     },
     "execution_count": 106,
     "metadata": {},
     "output_type": "execute_result"
    }
   ],
   "source": [
    "sdf.iloc[0]['chunk_text']"
   ]
  },
  {
   "cell_type": "code",
   "execution_count": 50,
   "metadata": {},
   "outputs": [],
   "source": [
    "embst0 = model.encode(rdf.iloc[1]['chunk_text'], normalize_embeddings=True)"
   ]
  },
  {
   "cell_type": "code",
   "execution_count": 51,
   "metadata": {},
   "outputs": [
    {
     "data": {
      "text/plain": [
       "'and support for people with disabilities. she described the process of creating the two non - profits she manages – “ kids are kids, ” which provides disability awareness workshops and awb which provides theater arts opportunities for children, youth and young adults with physical disabilities. christine talked about the importance of both in increasing inclusion for people, especially young people, with physical disabilities. the march “ everyone has a story ” segment featured christine, her mother, and her brother. christine ’ s mother read a letter she wrote about christine ’ s life and the pride she takes in her many accomplishments. john tartaglia,'"
      ]
     },
     "execution_count": 51,
     "metadata": {},
     "output_type": "execute_result"
    }
   ],
   "source": [
    "rdf.iloc[1]['chunk_text']"
   ]
  },
  {
   "cell_type": "code",
   "execution_count": 52,
   "metadata": {},
   "outputs": [
    {
     "name": "stdout",
     "output_type": "stream",
     "text": [
      "Most similar embedding index: 1\n",
      "Similarity score: 0.9999977946281433\n",
      "\n",
      "Most similar text:\n",
      "New Mexico 2006\n"
     ]
    }
   ],
   "source": [
    "# Calculate cosine similarity between embst and all embeddings\n",
    "similarities = np.dot(embeddings, embst0)\n",
    "\n",
    "# Find index of most similar embedding\n",
    "most_similar_idx = np.argmax(similarities)\n",
    "\n",
    "print(f\"Most similar embedding index: {most_similar_idx}\")\n",
    "print(f\"Similarity score: {similarities[most_similar_idx]}\")\n",
    "\n",
    "# Get the corresponding text\n",
    "print(\"\\nMost similar text:\")\n",
    "print(sdf.iloc[most_similar_idx]['chunk_text'])\n"
   ]
  },
  {
   "cell_type": "code",
   "execution_count": 182,
   "metadata": {},
   "outputs": [
    {
     "data": {
      "text/plain": [
       "'Third World View'"
      ]
     },
     "execution_count": 182,
     "metadata": {},
     "output_type": "execute_result"
    }
   ],
   "source": [
    "rdf.iloc[348904]['chunk_text']"
   ]
  },
  {
   "cell_type": "code",
   "execution_count": 54,
   "metadata": {},
   "outputs": [
    {
     "data": {
      "text/plain": [
       "array([ 1.84022784e-02,  2.13036556e-02,  4.49987389e-02,  1.21036032e-02,\n",
       "        3.39384377e-02,  1.13584854e-01,  3.90453674e-02,  2.26736497e-02,\n",
       "        3.68181951e-02, -5.98730631e-02,  3.80697660e-02,  3.54915159e-03,\n",
       "        2.54673902e-02, -3.40974666e-02,  4.99734050e-03, -1.17743639e-02,\n",
       "       -3.49157080e-02, -4.09054160e-02,  4.39816527e-02, -3.41169015e-02,\n",
       "       -8.62772912e-02,  3.01656220e-02,  2.53191236e-02,  8.39999840e-02,\n",
       "       -4.86296453e-02,  8.16029981e-02, -3.52350026e-02, -9.84868482e-02,\n",
       "        4.10993397e-03, -3.54244709e-02, -7.96345994e-03, -6.73536509e-02,\n",
       "       -1.22820837e-02,  3.58506553e-02,  3.37732211e-02,  5.99772334e-02,\n",
       "        6.13809228e-02,  3.00174113e-02, -7.72080421e-02,  2.29537189e-02,\n",
       "       -5.34398519e-02, -6.76123798e-02, -1.48260146e-02, -7.10379630e-02,\n",
       "       -8.60220566e-03, -6.43919930e-02,  2.76593734e-02, -7.08175600e-02,\n",
       "       -4.76730801e-02,  2.29088310e-02, -1.88694652e-02, -3.20182666e-02,\n",
       "        3.41766775e-02, -2.92650945e-02,  2.95982733e-02,  6.94585592e-02,\n",
       "        5.51804751e-02, -7.44239390e-02, -4.89278371e-03, -8.58347118e-02,\n",
       "       -2.90400106e-02, -1.10161295e-02, -5.24445213e-02,  1.67080425e-02,\n",
       "        2.66261455e-02, -1.80428140e-02, -3.59246857e-03,  6.24407455e-02,\n",
       "        1.57548692e-02,  1.65562518e-02, -5.05899265e-02,  3.57379355e-02,\n",
       "        1.54425040e-01,  8.26949552e-02,  8.28731284e-02, -4.09679115e-03,\n",
       "        6.11164793e-02, -2.39949189e-02,  8.92388150e-02, -2.50075683e-02,\n",
       "       -1.02108642e-01, -7.45792734e-03, -4.67750914e-02, -2.73688277e-03,\n",
       "       -3.45317870e-02,  1.23386933e-02,  4.60349768e-02, -8.45891424e-03,\n",
       "       -1.54985702e-02,  4.73675900e-04, -7.94671997e-02,  2.82549784e-02,\n",
       "        2.02570856e-02, -4.07259585e-03, -6.84591308e-02,  3.22166784e-03,\n",
       "       -4.37182672e-02, -6.62625208e-02, -6.35476634e-02, -2.21739989e-02,\n",
       "        2.19875425e-02,  6.22010604e-02,  6.76709786e-02,  6.82466552e-02,\n",
       "        2.45227218e-02, -7.06809908e-02,  1.05485348e-02, -2.43905243e-02,\n",
       "       -5.20735756e-02,  2.41049640e-02,  7.78882727e-02, -2.03338563e-02,\n",
       "        3.49707855e-03, -3.34667973e-02, -1.72974169e-02, -2.29881909e-02,\n",
       "       -1.44612323e-02, -9.44786966e-02,  3.05606835e-02, -3.25127617e-02,\n",
       "        1.15465242e-02,  1.63072161e-02,  1.09160701e-02,  6.95347562e-02,\n",
       "       -2.79410128e-02,  2.12415028e-02, -3.43325846e-02, -1.41098003e-33,\n",
       "       -1.92260146e-02,  4.19501681e-03,  5.84718660e-02,  8.97495728e-03,\n",
       "        4.39954102e-02,  4.58693318e-02,  1.90175585e-02, -6.42310232e-02,\n",
       "        2.22876091e-02, -7.56101906e-02,  1.47609820e-03,  5.38486347e-04,\n",
       "        4.41660061e-02, -1.52619937e-02, -7.96692520e-02, -2.04904675e-02,\n",
       "       -4.44507860e-02,  5.42177958e-03, -1.51534583e-02,  8.55427980e-02,\n",
       "        1.12254873e-01,  3.70947048e-02, -5.40951155e-02,  1.39827710e-02,\n",
       "       -1.65410787e-02,  8.07633325e-02,  9.85221863e-02,  5.92930987e-02,\n",
       "        4.21674624e-02,  4.86623123e-02,  2.06828285e-02,  9.38696861e-02,\n",
       "        1.65566392e-02, -9.33767408e-02,  1.13517798e-01, -1.03166122e-02,\n",
       "        1.84894856e-02, -1.49855344e-02,  8.45648497e-02,  5.67920581e-02,\n",
       "       -7.72282705e-02, -5.46271317e-02,  6.95311055e-02, -7.64279291e-02,\n",
       "       -4.25778776e-02,  7.73776621e-02,  1.01498835e-01, -3.66989374e-02,\n",
       "       -4.28955117e-03, -9.53092612e-03, -1.55569119e-02, -2.36450713e-02,\n",
       "       -7.64491111e-02, -6.49764240e-02,  3.59310992e-02, -8.59881099e-03,\n",
       "       -4.53443713e-02, -2.48219576e-02,  4.05470058e-02, -9.48278755e-02,\n",
       "        5.01833856e-02,  5.00473604e-02,  2.22435333e-02, -3.76362875e-02,\n",
       "       -2.65186783e-02, -2.47873869e-02,  3.26492749e-02, -7.50837177e-02,\n",
       "        1.49540575e-02,  3.43874469e-03, -1.31418754e-03,  1.69352926e-02,\n",
       "        5.11653088e-02, -2.10684128e-02, -8.42425004e-02,  2.90689301e-02,\n",
       "       -2.24600881e-02,  4.21185531e-02, -4.33331951e-02,  5.78221716e-02,\n",
       "       -6.44414946e-02, -4.94240150e-02,  5.33542223e-03, -5.76037504e-02,\n",
       "        5.70065081e-02, -5.77588975e-02,  1.55227783e-03,  1.25549454e-02,\n",
       "       -9.04032439e-02, -1.95303727e-02,  2.80095786e-02,  3.50400843e-02,\n",
       "        3.19188386e-02,  5.54577913e-03, -1.00377344e-01, -1.17442006e-33,\n",
       "        6.11876696e-02,  5.54017089e-02,  7.04493746e-02, -4.71412949e-02,\n",
       "        9.76082832e-02, -8.84478912e-02, -2.81738192e-02, -2.35997029e-02,\n",
       "        7.88494870e-02,  2.89007034e-02, -9.51239541e-02, -1.59779820e-03,\n",
       "       -2.28601415e-02, -1.09777907e-02, -1.80655606e-02, -5.14235869e-02,\n",
       "        5.69949821e-02,  3.62830311e-02,  1.81642417e-02,  4.22903802e-03,\n",
       "        2.87287775e-03,  5.60131632e-02, -1.05628245e-01,  6.16886728e-02,\n",
       "        6.39812723e-02, -2.10961457e-02,  4.61209416e-02,  1.30229872e-02,\n",
       "       -6.69061318e-02, -1.04268864e-01,  5.99563308e-02, -9.16023087e-03,\n",
       "       -1.03672519e-02, -5.34546822e-02, -5.46289794e-02, -3.07274126e-02,\n",
       "       -6.04943037e-02,  1.92102175e-02, -5.85838268e-03, -7.15477020e-02,\n",
       "        8.28601643e-02, -6.80647045e-02, -1.53488470e-02,  5.53745329e-02,\n",
       "       -3.84519063e-02,  5.28631732e-02,  6.65793493e-02, -2.24440228e-02,\n",
       "       -1.85978953e-02,  3.02680093e-03, -5.79693355e-02, -9.82520878e-02,\n",
       "        1.23248227e-01,  5.93927363e-03, -3.84376571e-03,  5.93368299e-02,\n",
       "       -3.00532747e-02, -2.88900863e-02,  3.64355668e-02,  4.26520258e-02,\n",
       "        5.63516133e-02,  3.40372063e-02, -4.88139279e-02, -3.45092528e-02,\n",
       "       -1.92703679e-02, -1.15711555e-01, -7.56502002e-02, -1.28169775e-01,\n",
       "       -6.71081319e-02,  4.93961126e-02, -3.10446341e-02,  7.67663820e-03,\n",
       "        1.58079322e-02, -2.84324251e-02,  2.85034324e-03,  4.93136421e-02,\n",
       "       -4.35139425e-02, -6.86716009e-03, -2.82941014e-02,  1.93202570e-02,\n",
       "       -3.28095257e-02, -3.82773913e-02, -8.86624400e-03,  4.51622047e-02,\n",
       "       -1.31130719e-03,  1.79926008e-02,  1.86973065e-02,  3.94928791e-02,\n",
       "        3.36433575e-03,  1.74290892e-02, -1.51435789e-02,  2.08548196e-02,\n",
       "        2.78860778e-02,  1.33467726e-02,  7.42902001e-03, -4.94160162e-08,\n",
       "        3.38139944e-02, -5.20739555e-02, -7.65569955e-02, -1.05101466e-01,\n",
       "       -3.14023010e-02,  6.49160892e-02,  2.67496146e-02, -6.03544153e-02,\n",
       "        2.07406702e-03,  1.07501961e-01, -7.15505481e-02, -6.74925325e-03,\n",
       "       -9.37395543e-03, -4.58001681e-02,  6.38910756e-02, -5.17214164e-02,\n",
       "        4.70254533e-02,  7.22951209e-03, -4.78935614e-02,  4.70452979e-02,\n",
       "        8.76544863e-02,  1.08102215e-02,  2.78970841e-02,  2.91516371e-02,\n",
       "        6.95194723e-03,  3.82493250e-02,  2.98866034e-02, -4.60379645e-02,\n",
       "       -1.53226331e-01, -3.60643566e-02,  1.04379421e-02,  4.07144986e-02,\n",
       "       -5.00483699e-02,  6.95883185e-02,  2.61622034e-02, -9.27591813e-04,\n",
       "       -4.86643240e-03,  8.90766680e-02,  1.95073988e-02,  1.98295712e-03,\n",
       "        8.64855349e-02,  8.27403739e-02,  1.08636573e-01,  1.99596137e-02,\n",
       "       -7.07163066e-02,  1.95839163e-02, -1.25389948e-01, -7.30618834e-02,\n",
       "       -2.05595847e-02,  3.47728580e-02, -4.27804030e-02, -6.59857765e-02,\n",
       "       -2.73945779e-02,  8.92575271e-03, -1.15370471e-02, -1.06019797e-02,\n",
       "        4.53876257e-02, -1.82540249e-02, -4.92835045e-03, -2.17134431e-02,\n",
       "        9.88277793e-02, -3.48451361e-02,  6.06946014e-02,  2.43417583e-02],\n",
       "      dtype=float32)"
      ]
     },
     "execution_count": 54,
     "metadata": {},
     "output_type": "execute_result"
    }
   ],
   "source": [
    "embst0"
   ]
  },
  {
   "cell_type": "code",
   "execution_count": 53,
   "metadata": {},
   "outputs": [
    {
     "data": {
      "text/plain": [
       "memmap([ 1.83914974e-02,  2.10425239e-02,  4.51277047e-02,\n",
       "         1.20576527e-02,  3.40717174e-02,  1.13391645e-01,\n",
       "         3.92532721e-02,  2.27295421e-02,  3.70239988e-02,\n",
       "        -6.00397326e-02,  3.79880071e-02,  3.71670933e-03,\n",
       "         2.55311951e-02, -3.40717174e-02,  4.95184679e-03,\n",
       "        -1.19371517e-02, -3.49453539e-02, -4.09402885e-02,\n",
       "         4.40733209e-02, -3.41319703e-02, -8.63993689e-02,\n",
       "         3.02307419e-02,  2.54106931e-02,  8.39290991e-02,\n",
       "        -4.85318638e-02,  8.13985690e-02, -3.51863541e-02,\n",
       "        -9.84494910e-02,  4.03302489e-03, -3.55177335e-02,\n",
       "        -8.10370687e-03, -6.73601776e-02, -1.21630915e-02,\n",
       "         3.58189866e-02,  3.37704644e-02,  5.99192306e-02,\n",
       "         6.14556186e-02,  2.99144275e-02, -7.73617774e-02,\n",
       "         2.30006687e-02, -5.35326637e-02, -6.74806833e-02,\n",
       "        -1.48065872e-02, -7.06739649e-02, -8.72880686e-03,\n",
       "        -6.42874017e-02,  2.75797155e-02, -7.08547160e-02,\n",
       "        -4.76582311e-02,  2.30910461e-02, -1.89036280e-02,\n",
       "        -3.20231989e-02,  3.41620930e-02, -2.92215440e-02,\n",
       "         2.97186133e-02,  6.94086999e-02,  5.50389290e-02,\n",
       "        -7.45300055e-02, -4.70707892e-03, -8.59776139e-02,\n",
       "        -2.90407930e-02, -1.10861119e-02, -5.23276515e-02,\n",
       "         1.67496689e-02,  2.67211441e-02, -1.79094933e-02,\n",
       "        -3.63763049e-03,  6.24196306e-02,  1.57856587e-02,\n",
       "         1.64634790e-02, -5.06406352e-02,  3.57286111e-02,\n",
       "         1.54241562e-01,  8.29048380e-02,  8.27843323e-02,\n",
       "        -4.05185344e-03,  6.10639900e-02, -2.37989910e-02,\n",
       "         8.92311484e-02, -2.48684380e-02, -1.02124780e-01,\n",
       "        -7.44848140e-03, -4.69653495e-02, -2.84684123e-03,\n",
       "        -3.45537253e-02,  1.22609986e-02,  4.61218394e-02,\n",
       "        -8.26186500e-03, -1.55597199e-02,  5.79441374e-04,\n",
       "        -7.94705525e-02,  2.84533501e-02,  2.02442035e-02,\n",
       "        -4.03302489e-03, -6.86254427e-02,  3.30060371e-03,\n",
       "        -4.37118150e-02, -6.63359165e-02, -6.37451410e-02,\n",
       "        -2.19914727e-02,  2.19914727e-02,  6.21183775e-02,\n",
       "         6.78421855e-02,  6.82639405e-02,  2.46726237e-02,\n",
       "        -7.06739649e-02,  1.06342323e-02, -2.42508706e-02,\n",
       "        -5.19962758e-02,  2.38893665e-02,  7.77232870e-02,\n",
       "        -2.02592667e-02,  3.46440985e-03, -3.34390886e-02,\n",
       "        -1.73371118e-02, -2.30458584e-02, -1.44074271e-02,\n",
       "        -9.44126993e-02,  3.06223724e-02, -3.25654522e-02,\n",
       "         1.16283670e-02,  1.64484158e-02,  1.08601721e-02,\n",
       "         6.95894510e-02, -2.78056562e-02,  2.12684646e-02,\n",
       "        -3.42825949e-02,  0.00000000e+00, -1.91446301e-02,\n",
       "         4.20247996e-03,  5.84430881e-02,  8.96980893e-03,\n",
       "         4.38624434e-02,  4.59410883e-02,  1.90542545e-02,\n",
       "        -6.41668960e-02,  2.22475361e-02, -7.54337609e-02,\n",
       "         1.36881846e-03,  5.09305915e-04,  4.42540720e-02,\n",
       "        -1.52283413e-02, -7.97718018e-02, -2.03797687e-02,\n",
       "        -4.44649495e-02,  5.42632025e-03, -1.51831536e-02,\n",
       "         8.53148624e-02,  1.12126380e-01,  3.71143743e-02,\n",
       "        -5.40146716e-02,  1.41212363e-02, -1.66141056e-02,\n",
       "         8.07358176e-02,  9.84494910e-02,  5.92865981e-02,\n",
       "         4.22658026e-02,  4.85318638e-02,  2.04701442e-02,\n",
       "         9.39909518e-02,  1.65689178e-02, -9.33281928e-02,\n",
       "         1.13512143e-01, -1.03179170e-02,  1.84065606e-02,\n",
       "        -1.49421506e-02,  8.45316052e-02,  5.69970757e-02,\n",
       "        -7.72412792e-02, -5.44665493e-02,  6.94086999e-02,\n",
       "        -7.64580220e-02, -4.25369292e-02,  7.71810263e-02,\n",
       "         1.01462021e-01, -3.66624966e-02, -4.42465395e-03,\n",
       "        -9.64009762e-03, -1.55145312e-02, -2.35127993e-02,\n",
       "        -7.64580220e-02, -6.48899078e-02,  3.58491130e-02,\n",
       "        -8.61583650e-03, -4.52482067e-02, -2.47328747e-02,\n",
       "         4.05185334e-02, -9.48344544e-02,  5.02490066e-02,\n",
       "         5.00381291e-02,  2.23529749e-02, -3.75361294e-02,\n",
       "        -2.67060827e-02, -2.46424992e-02,  3.25955786e-02,\n",
       "        -7.51927570e-02,  1.49873383e-02,  3.38156545e-03,\n",
       "        -1.16923836e-03,  1.68249831e-02,  5.10623902e-02,\n",
       "        -2.09521484e-02, -8.44110996e-02,  2.89353542e-02,\n",
       "        -2.25487892e-02,  4.21151742e-02, -4.32900600e-02,\n",
       "         5.80213368e-02, -6.42874017e-02, -4.95259985e-02,\n",
       "         5.41878911e-03, -5.78405820e-02,  5.68765737e-02,\n",
       "        -5.77502064e-02,  1.63335633e-03,  1.24643445e-02,\n",
       "        -9.04964134e-02, -1.94910709e-02,  2.79110949e-02,\n",
       "         3.49754766e-02,  3.18725705e-02,  5.44138299e-03,\n",
       "        -1.00377515e-01,  0.00000000e+00,  6.12748675e-02,\n",
       "         5.54305576e-02,  7.04932138e-02, -4.71762270e-02,\n",
       "         9.75457355e-02, -8.85683969e-02, -2.83629745e-02,\n",
       "        -2.35881135e-02,  7.88077936e-02,  2.89353542e-02,\n",
       "        -9.51959640e-02, -1.44978031e-03, -2.29856074e-02,\n",
       "        -1.10936435e-02, -1.81956831e-02, -5.11828922e-02,\n",
       "         5.72079532e-02,  3.62106152e-02,  1.79848056e-02,\n",
       "         4.18365141e-03,  2.80730170e-03,  5.60631901e-02,\n",
       "        -1.05559066e-01,  6.18773736e-02,  6.38656467e-02,\n",
       "        -2.12835278e-02,  4.62122150e-02,  1.32250087e-02,\n",
       "        -6.71191737e-02, -1.04293801e-01,  6.01903573e-02,\n",
       "        -9.28612519e-03, -1.03856986e-02, -5.35025410e-02,\n",
       "        -5.45870513e-02, -3.08031235e-02, -6.04614839e-02,\n",
       "         1.94006953e-02, -5.76899573e-03, -7.16379732e-02,\n",
       "         8.29048380e-02, -6.81434348e-02, -1.54166240e-02,\n",
       "         5.52799329e-02, -3.84097621e-02,  5.29602841e-02,\n",
       "         6.65769204e-02, -2.23379135e-02, -1.87530015e-02,\n",
       "         3.21022770e-03, -5.80213368e-02, -9.81482416e-02,\n",
       "         1.23332992e-01,  5.68615133e-03, -3.81273380e-03,\n",
       "         5.94071001e-02, -3.01102418e-02, -2.88751032e-02,\n",
       "         3.64516191e-02,  4.26574312e-02,  5.64849451e-02,\n",
       "         3.40114683e-02, -4.86523658e-02, -3.48248519e-02,\n",
       "        -1.92350075e-02, -1.15500413e-01, -7.56747648e-02,\n",
       "        -1.27972290e-01, -6.72999322e-02,  4.94055003e-02,\n",
       "        -3.10290623e-02,  7.53509160e-03,  1.57705974e-02,\n",
       "        -2.84533501e-02,  2.75646523e-03,  4.93753739e-02,\n",
       "        -4.33503129e-02, -6.79325592e-03, -2.83479113e-02,\n",
       "         1.92350075e-02, -3.27763297e-02, -3.83495130e-02,\n",
       "        -8.84177629e-03,  4.51277047e-02, -1.34340022e-03,\n",
       "         1.80149321e-02,  1.87078137e-02,  3.94942723e-02,\n",
       "         3.39662796e-03,  1.75479893e-02, -1.52961230e-02,\n",
       "         2.07262095e-02,  2.80617215e-02,  1.33153843e-02,\n",
       "         7.52379466e-03, -2.94192422e-08,  3.38005908e-02,\n",
       "        -5.20565249e-02, -7.66990259e-02, -1.05016813e-01,\n",
       "        -3.15411948e-02,  6.50104061e-02,  2.67362073e-02,\n",
       "        -6.03108592e-02,  2.16525630e-03,  1.07426837e-01,\n",
       "        -7.15174749e-02, -6.84597529e-03, -9.45934560e-03,\n",
       "        -4.58507128e-02,  6.39258921e-02, -5.17251454e-02,\n",
       "         4.70255986e-02,  7.22630741e-03, -4.78992350e-02,\n",
       "         4.72063497e-02,  8.76043811e-02,  1.06944833e-02,\n",
       "         2.78659053e-02,  2.91914195e-02,  7.21877581e-03,\n",
       "         3.82290110e-02,  2.99897399e-02, -4.60615903e-02,\n",
       "        -1.53157040e-01, -3.61503661e-02,  1.02953222e-02,\n",
       "         4.07595374e-02, -5.01887575e-02,  6.95894510e-02,\n",
       "         2.61337012e-02, -8.27504438e-04, -4.96690953e-03,\n",
       "         8.91106501e-02,  1.96115728e-02,  1.95061346e-03,\n",
       "         8.64596218e-02,  8.27843323e-02,  1.08692095e-01,\n",
       "         1.98073871e-02, -7.10354671e-02,  1.95513219e-02,\n",
       "        -1.25321269e-01, -7.29634836e-02, -2.05002688e-02,\n",
       "         3.47645991e-02, -4.28080559e-02, -6.59744143e-02,\n",
       "        -2.74290890e-02,  9.02252831e-03, -1.13948965e-02,\n",
       "        -1.07321395e-02,  4.53988314e-02, -1.81053076e-02,\n",
       "        -4.77109523e-03, -2.19914727e-02,  9.87507477e-02,\n",
       "        -3.49152274e-02,  6.07326142e-02,  2.42659319e-02], dtype=float32)"
      ]
     },
     "execution_count": 53,
     "metadata": {},
     "output_type": "execute_result"
    }
   ],
   "source": [
    "embeddings[1]"
   ]
  },
  {
   "cell_type": "code",
   "execution_count": 185,
   "metadata": {},
   "outputs": [
    {
     "data": {
      "text/plain": [
       "0.9999986"
      ]
     },
     "execution_count": 185,
     "metadata": {},
     "output_type": "execute_result"
    }
   ],
   "source": [
    "np.dot(embeddings[156876], embst)"
   ]
  },
  {
   "cell_type": "code",
   "execution_count": 58,
   "metadata": {},
   "outputs": [
    {
     "data": {
      "text/plain": [
       "'and support for people with disabilities. she described the process of creating the two non - profits she manages – “ kids are kids, ” which provides disability awareness workshops and awb which provides theater arts opportunities for children, youth and young adults with physical disabilities. christine talked about the importance of both in increasing inclusion for people, especially young people, with physical disabilities. the march “ everyone has a story ” segment featured christine, her mother, and her brother. christine ’ s mother read a letter she wrote about christine ’ s life and the pride she takes in her many accomplishments. john tartaglia,'"
      ]
     },
     "execution_count": 58,
     "metadata": {},
     "output_type": "execute_result"
    }
   ],
   "source": [
    "rdf.iloc[1]['chunk_text']"
   ]
  },
  {
   "cell_type": "code",
   "execution_count": 56,
   "metadata": {},
   "outputs": [
    {
     "data": {
      "text/plain": [
       "'and support for people with disabilities. she described the process of creating the two non - profits she manages – “ kids are kids, ” which provides disability awareness workshops and awb which provides theater arts opportunities for children, youth and young adults with physical disabilities. christine talked about the importance of both in increasing inclusion for people, especially young people, with physical disabilities. the march “ everyone has a story ” segment featured christine, her mother, and her brother. christine ’ s mother read a letter she wrote about christine ’ s life and the pride she takes in her many accomplishments. john tartaglia,'"
      ]
     },
     "execution_count": 56,
     "metadata": {},
     "output_type": "execute_result"
    }
   ],
   "source": [
    "rdf.iloc[most_similar_idx]['chunk_text']"
   ]
  },
  {
   "cell_type": "code",
   "execution_count": 62,
   "metadata": {},
   "outputs": [],
   "source": [
    "model2 = AutoModel.from_pretrained(\"sentence-transformers/all-MiniLM-L6-v2\")"
   ]
  },
  {
   "cell_type": "code",
   "execution_count": 77,
   "metadata": {},
   "outputs": [
    {
     "name": "stdout",
     "output_type": "stream",
     "text": [
      "Number of hidden layers: 1\n",
      "Shape of hidden states from last layer: torch.Size([122, 384])\n"
     ]
    }
   ],
   "source": [
    "# Get the full hidden states for a specific chunk of text\n",
    "text = rdf.iloc[1]['chunk_text']\n",
    "\n",
    "# Tokenize the text\n",
    "inputs = tokenizer(text, return_tensors=\"pt\", padding=True, truncation=True)\n",
    "# Get attention mask from the inputs\n",
    "attention_mask = inputs['attention_mask']\n",
    "\n",
    "# Get the model outputs, setting output_hidden_states=True to get all layers\n",
    "with torch.no_grad():\n",
    "    outputs = model2(**inputs)#, output_hidden_states=True)\n",
    "\n",
    "# Get all hidden states - this will be a tuple with one tensor per layer\n",
    "# hidden_states = outputs.hidden_states\n",
    "\n",
    "print(f\"Number of hidden layers: {len(outputs[0])}\")\n",
    "print(f\"Shape of hidden states from last layer: {outputs[0][-1].shape}\")\n",
    "\n",
    "# The hidden states from each layer will have shape:\n",
    "# (batch_size, sequence_length, hidden_size)\n"
   ]
  },
  {
   "cell_type": "code",
   "execution_count": 69,
   "metadata": {},
   "outputs": [],
   "source": [
    "import torch"
   ]
  },
  {
   "cell_type": "code",
   "execution_count": 70,
   "metadata": {},
   "outputs": [],
   "source": [
    "\n",
    "#Mean Pooling - Take attention mask into account for correct averaging\n",
    "def mean_pooling(model_output, attention_mask):\n",
    "    token_embeddings = model_output[0] #First element of model_output contains all token embeddings\n",
    "    input_mask_expanded = attention_mask.unsqueeze(-1).expand(token_embeddings.size()).float()\n",
    "    return torch.sum(token_embeddings * input_mask_expanded, 1) / torch.clamp(input_mask_expanded.sum(1), min=1e-9)\n"
   ]
  },
  {
   "cell_type": "code",
   "execution_count": 78,
   "metadata": {},
   "outputs": [],
   "source": [
    "emb = mean_pooling(outputs, attention_mask)"
   ]
  },
  {
   "cell_type": "code",
   "execution_count": 79,
   "metadata": {},
   "outputs": [
    {
     "data": {
      "text/plain": [
       "tensor([[ 1.8402e-02,  2.1304e-02,  4.4999e-02,  1.2104e-02,  3.3938e-02,\n",
       "          1.1358e-01,  3.9045e-02,  2.2674e-02,  3.6818e-02, -5.9873e-02,\n",
       "          3.8070e-02,  3.5491e-03,  2.5467e-02, -3.4097e-02,  4.9973e-03,\n",
       "         -1.1774e-02, -3.4916e-02, -4.0905e-02,  4.3982e-02, -3.4117e-02,\n",
       "         -8.6277e-02,  3.0166e-02,  2.5319e-02,  8.4000e-02, -4.8630e-02,\n",
       "          8.1603e-02, -3.5235e-02, -9.8487e-02,  4.1099e-03, -3.5424e-02,\n",
       "         -7.9635e-03, -6.7354e-02, -1.2282e-02,  3.5851e-02,  3.3773e-02,\n",
       "          5.9977e-02,  6.1381e-02,  3.0017e-02, -7.7208e-02,  2.2954e-02,\n",
       "         -5.3440e-02, -6.7612e-02, -1.4826e-02, -7.1038e-02, -8.6022e-03,\n",
       "         -6.4392e-02,  2.7659e-02, -7.0817e-02, -4.7673e-02,  2.2909e-02,\n",
       "         -1.8869e-02, -3.2018e-02,  3.4177e-02, -2.9265e-02,  2.9598e-02,\n",
       "          6.9458e-02,  5.5180e-02, -7.4424e-02, -4.8928e-03, -8.5835e-02,\n",
       "         -2.9040e-02, -1.1016e-02, -5.2444e-02,  1.6708e-02,  2.6626e-02,\n",
       "         -1.8043e-02, -3.5924e-03,  6.2441e-02,  1.5755e-02,  1.6556e-02,\n",
       "         -5.0590e-02,  3.5738e-02,  1.5443e-01,  8.2695e-02,  8.2873e-02,\n",
       "         -4.0968e-03,  6.1116e-02, -2.3995e-02,  8.9239e-02, -2.5008e-02,\n",
       "         -1.0211e-01, -7.4580e-03, -4.6775e-02, -2.7369e-03, -3.4532e-02,\n",
       "          1.2339e-02,  4.6035e-02, -8.4589e-03, -1.5499e-02,  4.7364e-04,\n",
       "         -7.9467e-02,  2.8255e-02,  2.0257e-02, -4.0725e-03, -6.8459e-02,\n",
       "          3.2217e-03, -4.3718e-02, -6.6262e-02, -6.3548e-02, -2.2174e-02,\n",
       "          2.1988e-02,  6.2201e-02,  6.7671e-02,  6.8247e-02,  2.4523e-02,\n",
       "         -7.0681e-02,  1.0549e-02, -2.4391e-02, -5.2074e-02,  2.4105e-02,\n",
       "          7.7888e-02, -2.0334e-02,  3.4971e-03, -3.3467e-02, -1.7297e-02,\n",
       "         -2.2988e-02, -1.4461e-02, -9.4479e-02,  3.0561e-02, -3.2513e-02,\n",
       "          1.1546e-02,  1.6307e-02,  1.0916e-02,  6.9535e-02, -2.7941e-02,\n",
       "          2.1241e-02, -3.4333e-02, -1.4110e-33, -1.9226e-02,  4.1951e-03,\n",
       "          5.8472e-02,  8.9750e-03,  4.3995e-02,  4.5869e-02,  1.9018e-02,\n",
       "         -6.4231e-02,  2.2288e-02, -7.5610e-02,  1.4762e-03,  5.3852e-04,\n",
       "          4.4166e-02, -1.5262e-02, -7.9669e-02, -2.0490e-02, -4.4451e-02,\n",
       "          5.4218e-03, -1.5153e-02,  8.5543e-02,  1.1225e-01,  3.7095e-02,\n",
       "         -5.4095e-02,  1.3983e-02, -1.6541e-02,  8.0763e-02,  9.8522e-02,\n",
       "          5.9293e-02,  4.2167e-02,  4.8662e-02,  2.0683e-02,  9.3870e-02,\n",
       "          1.6557e-02, -9.3377e-02,  1.1352e-01, -1.0317e-02,  1.8489e-02,\n",
       "         -1.4986e-02,  8.4565e-02,  5.6792e-02, -7.7228e-02, -5.4627e-02,\n",
       "          6.9531e-02, -7.6428e-02, -4.2578e-02,  7.7378e-02,  1.0150e-01,\n",
       "         -3.6699e-02, -4.2895e-03, -9.5309e-03, -1.5557e-02, -2.3645e-02,\n",
       "         -7.6449e-02, -6.4976e-02,  3.5931e-02, -8.5989e-03, -4.5344e-02,\n",
       "         -2.4822e-02,  4.0547e-02, -9.4828e-02,  5.0183e-02,  5.0047e-02,\n",
       "          2.2244e-02, -3.7636e-02, -2.6519e-02, -2.4787e-02,  3.2649e-02,\n",
       "         -7.5084e-02,  1.4954e-02,  3.4387e-03, -1.3142e-03,  1.6935e-02,\n",
       "          5.1165e-02, -2.1068e-02, -8.4243e-02,  2.9069e-02, -2.2460e-02,\n",
       "          4.2119e-02, -4.3333e-02,  5.7822e-02, -6.4441e-02, -4.9424e-02,\n",
       "          5.3354e-03, -5.7604e-02,  5.7006e-02, -5.7759e-02,  1.5523e-03,\n",
       "          1.2555e-02, -9.0403e-02, -1.9530e-02,  2.8010e-02,  3.5040e-02,\n",
       "          3.1919e-02,  5.5458e-03, -1.0038e-01, -1.1744e-33,  6.1188e-02,\n",
       "          5.5402e-02,  7.0449e-02, -4.7141e-02,  9.7608e-02, -8.8448e-02,\n",
       "         -2.8174e-02, -2.3600e-02,  7.8850e-02,  2.8901e-02, -9.5124e-02,\n",
       "         -1.5978e-03, -2.2860e-02, -1.0978e-02, -1.8066e-02, -5.1424e-02,\n",
       "          5.6995e-02,  3.6283e-02,  1.8164e-02,  4.2291e-03,  2.8729e-03,\n",
       "          5.6013e-02, -1.0563e-01,  6.1689e-02,  6.3981e-02, -2.1096e-02,\n",
       "          4.6121e-02,  1.3023e-02, -6.6906e-02, -1.0427e-01,  5.9956e-02,\n",
       "         -9.1602e-03, -1.0367e-02, -5.3455e-02, -5.4629e-02, -3.0727e-02,\n",
       "         -6.0494e-02,  1.9210e-02, -5.8584e-03, -7.1548e-02,  8.2860e-02,\n",
       "         -6.8065e-02, -1.5349e-02,  5.5375e-02, -3.8452e-02,  5.2863e-02,\n",
       "          6.6579e-02, -2.2444e-02, -1.8598e-02,  3.0268e-03, -5.7969e-02,\n",
       "         -9.8252e-02,  1.2325e-01,  5.9393e-03, -3.8438e-03,  5.9337e-02,\n",
       "         -3.0053e-02, -2.8890e-02,  3.6436e-02,  4.2652e-02,  5.6352e-02,\n",
       "          3.4037e-02, -4.8814e-02, -3.4509e-02, -1.9270e-02, -1.1571e-01,\n",
       "         -7.5650e-02, -1.2817e-01, -6.7108e-02,  4.9396e-02, -3.1045e-02,\n",
       "          7.6767e-03,  1.5808e-02, -2.8432e-02,  2.8504e-03,  4.9314e-02,\n",
       "         -4.3514e-02, -6.8672e-03, -2.8294e-02,  1.9320e-02, -3.2810e-02,\n",
       "         -3.8277e-02, -8.8663e-03,  4.5162e-02, -1.3113e-03,  1.7993e-02,\n",
       "          1.8697e-02,  3.9493e-02,  3.3643e-03,  1.7429e-02, -1.5143e-02,\n",
       "          2.0855e-02,  2.7886e-02,  1.3347e-02,  7.4290e-03, -4.9416e-08,\n",
       "          3.3814e-02, -5.2074e-02, -7.6557e-02, -1.0510e-01, -3.1402e-02,\n",
       "          6.4916e-02,  2.6750e-02, -6.0354e-02,  2.0741e-03,  1.0750e-01,\n",
       "         -7.1551e-02, -6.7493e-03, -9.3739e-03, -4.5800e-02,  6.3891e-02,\n",
       "         -5.1721e-02,  4.7025e-02,  7.2295e-03, -4.7894e-02,  4.7045e-02,\n",
       "          8.7654e-02,  1.0810e-02,  2.7897e-02,  2.9152e-02,  6.9520e-03,\n",
       "          3.8249e-02,  2.9887e-02, -4.6038e-02, -1.5323e-01, -3.6064e-02,\n",
       "          1.0438e-02,  4.0714e-02, -5.0048e-02,  6.9588e-02,  2.6162e-02,\n",
       "         -9.2756e-04, -4.8663e-03,  8.9077e-02,  1.9507e-02,  1.9830e-03,\n",
       "          8.6486e-02,  8.2740e-02,  1.0864e-01,  1.9960e-02, -7.0716e-02,\n",
       "          1.9584e-02, -1.2539e-01, -7.3062e-02, -2.0560e-02,  3.4773e-02,\n",
       "         -4.2780e-02, -6.5986e-02, -2.7395e-02,  8.9257e-03, -1.1537e-02,\n",
       "         -1.0602e-02,  4.5388e-02, -1.8254e-02, -4.9283e-03, -2.1713e-02,\n",
       "          9.8828e-02, -3.4845e-02,  6.0695e-02,  2.4342e-02]])"
      ]
     },
     "execution_count": 79,
     "metadata": {},
     "output_type": "execute_result"
    }
   ],
   "source": [
    "# Normalize embeddings to unit length\n",
    "emb_norm = emb / emb.norm(dim=1, keepdim=True)\n",
    "emb_norm"
   ]
  },
  {
   "cell_type": "code",
   "execution_count": 75,
   "metadata": {},
   "outputs": [
    {
     "data": {
      "text/plain": [
       "array([ 1.84022784e-02,  2.13036556e-02,  4.49987389e-02,  1.21036032e-02,\n",
       "        3.39384377e-02,  1.13584854e-01,  3.90453674e-02,  2.26736497e-02,\n",
       "        3.68181951e-02, -5.98730631e-02,  3.80697660e-02,  3.54915159e-03,\n",
       "        2.54673902e-02, -3.40974666e-02,  4.99734050e-03, -1.17743639e-02,\n",
       "       -3.49157080e-02, -4.09054160e-02,  4.39816527e-02, -3.41169015e-02,\n",
       "       -8.62772912e-02,  3.01656220e-02,  2.53191236e-02,  8.39999840e-02,\n",
       "       -4.86296453e-02,  8.16029981e-02, -3.52350026e-02, -9.84868482e-02,\n",
       "        4.10993397e-03, -3.54244709e-02, -7.96345994e-03, -6.73536509e-02,\n",
       "       -1.22820837e-02,  3.58506553e-02,  3.37732211e-02,  5.99772334e-02,\n",
       "        6.13809228e-02,  3.00174113e-02, -7.72080421e-02,  2.29537189e-02,\n",
       "       -5.34398519e-02, -6.76123798e-02, -1.48260146e-02, -7.10379630e-02,\n",
       "       -8.60220566e-03, -6.43919930e-02,  2.76593734e-02, -7.08175600e-02,\n",
       "       -4.76730801e-02,  2.29088310e-02, -1.88694652e-02, -3.20182666e-02,\n",
       "        3.41766775e-02, -2.92650945e-02,  2.95982733e-02,  6.94585592e-02,\n",
       "        5.51804751e-02, -7.44239390e-02, -4.89278371e-03, -8.58347118e-02,\n",
       "       -2.90400106e-02, -1.10161295e-02, -5.24445213e-02,  1.67080425e-02,\n",
       "        2.66261455e-02, -1.80428140e-02, -3.59246857e-03,  6.24407455e-02,\n",
       "        1.57548692e-02,  1.65562518e-02, -5.05899265e-02,  3.57379355e-02,\n",
       "        1.54425040e-01,  8.26949552e-02,  8.28731284e-02, -4.09679115e-03,\n",
       "        6.11164793e-02, -2.39949189e-02,  8.92388150e-02, -2.50075683e-02,\n",
       "       -1.02108642e-01, -7.45792734e-03, -4.67750914e-02, -2.73688277e-03,\n",
       "       -3.45317870e-02,  1.23386933e-02,  4.60349768e-02, -8.45891424e-03,\n",
       "       -1.54985702e-02,  4.73675900e-04, -7.94671997e-02,  2.82549784e-02,\n",
       "        2.02570856e-02, -4.07259585e-03, -6.84591308e-02,  3.22166784e-03,\n",
       "       -4.37182672e-02, -6.62625208e-02, -6.35476634e-02, -2.21739989e-02,\n",
       "        2.19875425e-02,  6.22010604e-02,  6.76709786e-02,  6.82466552e-02,\n",
       "        2.45227218e-02, -7.06809908e-02,  1.05485348e-02, -2.43905243e-02,\n",
       "       -5.20735756e-02,  2.41049640e-02,  7.78882727e-02, -2.03338563e-02,\n",
       "        3.49707855e-03, -3.34667973e-02, -1.72974169e-02, -2.29881909e-02,\n",
       "       -1.44612323e-02, -9.44786966e-02,  3.05606835e-02, -3.25127617e-02,\n",
       "        1.15465242e-02,  1.63072161e-02,  1.09160701e-02,  6.95347562e-02,\n",
       "       -2.79410128e-02,  2.12415028e-02, -3.43325846e-02, -1.41098003e-33,\n",
       "       -1.92260146e-02,  4.19501681e-03,  5.84718660e-02,  8.97495728e-03,\n",
       "        4.39954102e-02,  4.58693318e-02,  1.90175585e-02, -6.42310232e-02,\n",
       "        2.22876091e-02, -7.56101906e-02,  1.47609820e-03,  5.38486347e-04,\n",
       "        4.41660061e-02, -1.52619937e-02, -7.96692520e-02, -2.04904675e-02,\n",
       "       -4.44507860e-02,  5.42177958e-03, -1.51534583e-02,  8.55427980e-02,\n",
       "        1.12254873e-01,  3.70947048e-02, -5.40951155e-02,  1.39827710e-02,\n",
       "       -1.65410787e-02,  8.07633325e-02,  9.85221863e-02,  5.92930987e-02,\n",
       "        4.21674624e-02,  4.86623123e-02,  2.06828285e-02,  9.38696861e-02,\n",
       "        1.65566392e-02, -9.33767408e-02,  1.13517798e-01, -1.03166122e-02,\n",
       "        1.84894856e-02, -1.49855344e-02,  8.45648497e-02,  5.67920581e-02,\n",
       "       -7.72282705e-02, -5.46271317e-02,  6.95311055e-02, -7.64279291e-02,\n",
       "       -4.25778776e-02,  7.73776621e-02,  1.01498835e-01, -3.66989374e-02,\n",
       "       -4.28955117e-03, -9.53092612e-03, -1.55569119e-02, -2.36450713e-02,\n",
       "       -7.64491111e-02, -6.49764240e-02,  3.59310992e-02, -8.59881099e-03,\n",
       "       -4.53443713e-02, -2.48219576e-02,  4.05470058e-02, -9.48278755e-02,\n",
       "        5.01833856e-02,  5.00473604e-02,  2.22435333e-02, -3.76362875e-02,\n",
       "       -2.65186783e-02, -2.47873869e-02,  3.26492749e-02, -7.50837177e-02,\n",
       "        1.49540575e-02,  3.43874469e-03, -1.31418754e-03,  1.69352926e-02,\n",
       "        5.11653088e-02, -2.10684128e-02, -8.42425004e-02,  2.90689301e-02,\n",
       "       -2.24600881e-02,  4.21185531e-02, -4.33331951e-02,  5.78221716e-02,\n",
       "       -6.44414946e-02, -4.94240150e-02,  5.33542223e-03, -5.76037504e-02,\n",
       "        5.70065081e-02, -5.77588975e-02,  1.55227783e-03,  1.25549454e-02,\n",
       "       -9.04032439e-02, -1.95303727e-02,  2.80095786e-02,  3.50400843e-02,\n",
       "        3.19188386e-02,  5.54577913e-03, -1.00377344e-01, -1.17442006e-33,\n",
       "        6.11876696e-02,  5.54017089e-02,  7.04493746e-02, -4.71412949e-02,\n",
       "        9.76082832e-02, -8.84478912e-02, -2.81738192e-02, -2.35997029e-02,\n",
       "        7.88494870e-02,  2.89007034e-02, -9.51239541e-02, -1.59779820e-03,\n",
       "       -2.28601415e-02, -1.09777907e-02, -1.80655606e-02, -5.14235869e-02,\n",
       "        5.69949821e-02,  3.62830311e-02,  1.81642417e-02,  4.22903802e-03,\n",
       "        2.87287775e-03,  5.60131632e-02, -1.05628245e-01,  6.16886728e-02,\n",
       "        6.39812723e-02, -2.10961457e-02,  4.61209416e-02,  1.30229872e-02,\n",
       "       -6.69061318e-02, -1.04268864e-01,  5.99563308e-02, -9.16023087e-03,\n",
       "       -1.03672519e-02, -5.34546822e-02, -5.46289794e-02, -3.07274126e-02,\n",
       "       -6.04943037e-02,  1.92102175e-02, -5.85838268e-03, -7.15477020e-02,\n",
       "        8.28601643e-02, -6.80647045e-02, -1.53488470e-02,  5.53745329e-02,\n",
       "       -3.84519063e-02,  5.28631732e-02,  6.65793493e-02, -2.24440228e-02,\n",
       "       -1.85978953e-02,  3.02680093e-03, -5.79693355e-02, -9.82520878e-02,\n",
       "        1.23248227e-01,  5.93927363e-03, -3.84376571e-03,  5.93368299e-02,\n",
       "       -3.00532747e-02, -2.88900863e-02,  3.64355668e-02,  4.26520258e-02,\n",
       "        5.63516133e-02,  3.40372063e-02, -4.88139279e-02, -3.45092528e-02,\n",
       "       -1.92703679e-02, -1.15711555e-01, -7.56502002e-02, -1.28169775e-01,\n",
       "       -6.71081319e-02,  4.93961126e-02, -3.10446341e-02,  7.67663820e-03,\n",
       "        1.58079322e-02, -2.84324251e-02,  2.85034324e-03,  4.93136421e-02,\n",
       "       -4.35139425e-02, -6.86716009e-03, -2.82941014e-02,  1.93202570e-02,\n",
       "       -3.28095257e-02, -3.82773913e-02, -8.86624400e-03,  4.51622047e-02,\n",
       "       -1.31130719e-03,  1.79926008e-02,  1.86973065e-02,  3.94928791e-02,\n",
       "        3.36433575e-03,  1.74290892e-02, -1.51435789e-02,  2.08548196e-02,\n",
       "        2.78860778e-02,  1.33467726e-02,  7.42902001e-03, -4.94160162e-08,\n",
       "        3.38139944e-02, -5.20739555e-02, -7.65569955e-02, -1.05101466e-01,\n",
       "       -3.14023010e-02,  6.49160892e-02,  2.67496146e-02, -6.03544153e-02,\n",
       "        2.07406702e-03,  1.07501961e-01, -7.15505481e-02, -6.74925325e-03,\n",
       "       -9.37395543e-03, -4.58001681e-02,  6.38910756e-02, -5.17214164e-02,\n",
       "        4.70254533e-02,  7.22951209e-03, -4.78935614e-02,  4.70452979e-02,\n",
       "        8.76544863e-02,  1.08102215e-02,  2.78970841e-02,  2.91516371e-02,\n",
       "        6.95194723e-03,  3.82493250e-02,  2.98866034e-02, -4.60379645e-02,\n",
       "       -1.53226331e-01, -3.60643566e-02,  1.04379421e-02,  4.07144986e-02,\n",
       "       -5.00483699e-02,  6.95883185e-02,  2.61622034e-02, -9.27591813e-04,\n",
       "       -4.86643240e-03,  8.90766680e-02,  1.95073988e-02,  1.98295712e-03,\n",
       "        8.64855349e-02,  8.27403739e-02,  1.08636573e-01,  1.99596137e-02,\n",
       "       -7.07163066e-02,  1.95839163e-02, -1.25389948e-01, -7.30618834e-02,\n",
       "       -2.05595847e-02,  3.47728580e-02, -4.27804030e-02, -6.59857765e-02,\n",
       "       -2.73945779e-02,  8.92575271e-03, -1.15370471e-02, -1.06019797e-02,\n",
       "        4.53876257e-02, -1.82540249e-02, -4.92835045e-03, -2.17134431e-02,\n",
       "        9.88277793e-02, -3.48451361e-02,  6.06946014e-02,  2.43417583e-02],\n",
       "      dtype=float32)"
      ]
     },
     "execution_count": 75,
     "metadata": {},
     "output_type": "execute_result"
    }
   ],
   "source": [
    "embst0\n"
   ]
  },
  {
   "cell_type": "code",
   "execution_count": null,
   "metadata": {},
   "outputs": [],
   "source": []
  }
 ],
 "metadata": {
  "kernelspec": {
   "display_name": "modalenv",
   "language": "python",
   "name": "python3"
  },
  "language_info": {
   "codemirror_mode": {
    "name": "ipython",
    "version": 3
   },
   "file_extension": ".py",
   "mimetype": "text/x-python",
   "name": "python",
   "nbconvert_exporter": "python",
   "pygments_lexer": "ipython3",
   "version": "3.11.0"
  }
 },
 "nbformat": 4,
 "nbformat_minor": 2
}

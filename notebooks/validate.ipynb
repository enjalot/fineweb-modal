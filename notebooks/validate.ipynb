{
 "cells": [
  {
   "cell_type": "code",
   "execution_count": 1,
   "metadata": {},
   "outputs": [
    {
     "name": "stderr",
     "output_type": "stream",
     "text": [
      "None of PyTorch, TensorFlow >= 2.0, or Flax have been found. Models won't be available and only tokenizers, configuration and file/data utilities can be used.\n"
     ]
    }
   ],
   "source": [
    "import time\n",
    "# import tqdm\n",
    "from tqdm.notebook import tqdm  # Import the notebook version of tqdm\n",
    "\n",
    "from datasets import load_dataset\n",
    "import pandas as pd\n",
    "import numpy as np\n",
    "import huggingface_hub\n",
    "from huggingface_hub import HfFileSystem\n",
    "hffs = HfFileSystem()\n",
    "from concurrent.futures import ThreadPoolExecutor, as_completed\n",
    "\n",
    "import transformers\n",
    "transformers.logging.set_verbosity_error()\n",
    "from transformers import AutoTokenizer\n"
   ]
  },
  {
   "cell_type": "code",
   "execution_count": 2,
   "metadata": {},
   "outputs": [],
   "source": [
    "df = pd.read_parquet(\"./original-data-00000-of-00099.parquet\")"
   ]
  },
  {
   "cell_type": "code",
   "execution_count": 3,
   "metadata": {},
   "outputs": [
    {
     "data": {
      "text/html": [
       "<div>\n",
       "<style scoped>\n",
       "    .dataframe tbody tr th:only-of-type {\n",
       "        vertical-align: middle;\n",
       "    }\n",
       "\n",
       "    .dataframe tbody tr th {\n",
       "        vertical-align: top;\n",
       "    }\n",
       "\n",
       "    .dataframe thead th {\n",
       "        text-align: right;\n",
       "    }\n",
       "</style>\n",
       "<table border=\"1\" class=\"dataframe\">\n",
       "  <thead>\n",
       "    <tr style=\"text-align: right;\">\n",
       "      <th></th>\n",
       "      <th>text</th>\n",
       "      <th>id</th>\n",
       "      <th>dump</th>\n",
       "      <th>url</th>\n",
       "      <th>file_path</th>\n",
       "      <th>language</th>\n",
       "      <th>language_score</th>\n",
       "      <th>token_count</th>\n",
       "      <th>score</th>\n",
       "      <th>int_score</th>\n",
       "    </tr>\n",
       "  </thead>\n",
       "  <tbody>\n",
       "    <tr>\n",
       "      <th>0</th>\n",
       "      <td>The Independent Jane\\nFor all the love, romanc...</td>\n",
       "      <td>&lt;urn:uuid:0d8a309d-25c5-405d-a08a-c11239f0d717&gt;</td>\n",
       "      <td>CC-MAIN-2013-20</td>\n",
       "      <td>http://austenauthors.net/the-independent-jane</td>\n",
       "      <td>s3://commoncrawl/crawl-data/CC-MAIN-2013-20/se...</td>\n",
       "      <td>en</td>\n",
       "      <td>0.974320</td>\n",
       "      <td>845</td>\n",
       "      <td>2.750000</td>\n",
       "      <td>3</td>\n",
       "    </tr>\n",
       "    <tr>\n",
       "      <th>1</th>\n",
       "      <td>Taking Play Seriously\\nBy ROBIN MARANTZ HENIG\\...</td>\n",
       "      <td>&lt;urn:uuid:316c7af5-14e1-4d0b-9576-753e17ef2cc5&gt;</td>\n",
       "      <td>CC-MAIN-2013-20</td>\n",
       "      <td>http://query.nytimes.com/gst/fullpage.html?res...</td>\n",
       "      <td>s3://commoncrawl/crawl-data/CC-MAIN-2013-20/se...</td>\n",
       "      <td>en</td>\n",
       "      <td>0.961459</td>\n",
       "      <td>1055</td>\n",
       "      <td>2.562500</td>\n",
       "      <td>3</td>\n",
       "    </tr>\n",
       "    <tr>\n",
       "      <th>2</th>\n",
       "      <td>How do you get HIV?\\nHIV can be passed on when...</td>\n",
       "      <td>&lt;urn:uuid:a3e140cd-7f25-48c9-a2f0-a7d0b1954e0d&gt;</td>\n",
       "      <td>CC-MAIN-2013-20</td>\n",
       "      <td>http://www.childline.org.uk/Explore/SexRelatio...</td>\n",
       "      <td>s3://commoncrawl/crawl-data/CC-MAIN-2013-20/se...</td>\n",
       "      <td>en</td>\n",
       "      <td>0.966757</td>\n",
       "      <td>136</td>\n",
       "      <td>3.125000</td>\n",
       "      <td>3</td>\n",
       "    </tr>\n",
       "    <tr>\n",
       "      <th>3</th>\n",
       "      <td>CTComms sends on average 2 million emails mont...</td>\n",
       "      <td>&lt;urn:uuid:c337bcd8-6aa1-4f2d-8c48-b916442ebbee&gt;</td>\n",
       "      <td>CC-MAIN-2013-20</td>\n",
       "      <td>http://www.ctt.org/resource_centre/getting_sta...</td>\n",
       "      <td>s3://commoncrawl/crawl-data/CC-MAIN-2013-20/se...</td>\n",
       "      <td>en</td>\n",
       "      <td>0.910602</td>\n",
       "      <td>3479</td>\n",
       "      <td>3.234375</td>\n",
       "      <td>3</td>\n",
       "    </tr>\n",
       "    <tr>\n",
       "      <th>4</th>\n",
       "      <td>Hold the salt: UCLA engineers develop revoluti...</td>\n",
       "      <td>&lt;urn:uuid:c0b175bb-65fb-420e-a881-a80b91d00ecd&gt;</td>\n",
       "      <td>CC-MAIN-2013-20</td>\n",
       "      <td>http://www.environment.ucla.edu/water/news/art...</td>\n",
       "      <td>s3://commoncrawl/crawl-data/CC-MAIN-2013-20/se...</td>\n",
       "      <td>en</td>\n",
       "      <td>0.924981</td>\n",
       "      <td>1115</td>\n",
       "      <td>2.812500</td>\n",
       "      <td>3</td>\n",
       "    </tr>\n",
       "  </tbody>\n",
       "</table>\n",
       "</div>"
      ],
      "text/plain": [
       "                                                text  \\\n",
       "0  The Independent Jane\\nFor all the love, romanc...   \n",
       "1  Taking Play Seriously\\nBy ROBIN MARANTZ HENIG\\...   \n",
       "2  How do you get HIV?\\nHIV can be passed on when...   \n",
       "3  CTComms sends on average 2 million emails mont...   \n",
       "4  Hold the salt: UCLA engineers develop revoluti...   \n",
       "\n",
       "                                                id             dump  \\\n",
       "0  <urn:uuid:0d8a309d-25c5-405d-a08a-c11239f0d717>  CC-MAIN-2013-20   \n",
       "1  <urn:uuid:316c7af5-14e1-4d0b-9576-753e17ef2cc5>  CC-MAIN-2013-20   \n",
       "2  <urn:uuid:a3e140cd-7f25-48c9-a2f0-a7d0b1954e0d>  CC-MAIN-2013-20   \n",
       "3  <urn:uuid:c337bcd8-6aa1-4f2d-8c48-b916442ebbee>  CC-MAIN-2013-20   \n",
       "4  <urn:uuid:c0b175bb-65fb-420e-a881-a80b91d00ecd>  CC-MAIN-2013-20   \n",
       "\n",
       "                                                 url  \\\n",
       "0      http://austenauthors.net/the-independent-jane   \n",
       "1  http://query.nytimes.com/gst/fullpage.html?res...   \n",
       "2  http://www.childline.org.uk/Explore/SexRelatio...   \n",
       "3  http://www.ctt.org/resource_centre/getting_sta...   \n",
       "4  http://www.environment.ucla.edu/water/news/art...   \n",
       "\n",
       "                                           file_path language  language_score  \\\n",
       "0  s3://commoncrawl/crawl-data/CC-MAIN-2013-20/se...       en        0.974320   \n",
       "1  s3://commoncrawl/crawl-data/CC-MAIN-2013-20/se...       en        0.961459   \n",
       "2  s3://commoncrawl/crawl-data/CC-MAIN-2013-20/se...       en        0.966757   \n",
       "3  s3://commoncrawl/crawl-data/CC-MAIN-2013-20/se...       en        0.910602   \n",
       "4  s3://commoncrawl/crawl-data/CC-MAIN-2013-20/se...       en        0.924981   \n",
       "\n",
       "   token_count     score  int_score  \n",
       "0          845  2.750000          3  \n",
       "1         1055  2.562500          3  \n",
       "2          136  3.125000          3  \n",
       "3         3479  3.234375          3  \n",
       "4         1115  2.812500          3  "
      ]
     },
     "execution_count": 3,
     "metadata": {},
     "output_type": "execute_result"
    }
   ],
   "source": [
    "df.head()"
   ]
  },
  {
   "cell_type": "code",
   "execution_count": 4,
   "metadata": {},
   "outputs": [],
   "source": [
    "# reading in the fetched file\n",
    "cdf = pd.read_parquet(\"./embedded-data-00000-of-00099.parquet\")\n"
   ]
  },
  {
   "cell_type": "code",
   "execution_count": 5,
   "metadata": {},
   "outputs": [
    {
     "data": {
      "text/html": [
       "<div>\n",
       "<style scoped>\n",
       "    .dataframe tbody tr th:only-of-type {\n",
       "        vertical-align: middle;\n",
       "    }\n",
       "\n",
       "    .dataframe tbody tr th {\n",
       "        vertical-align: top;\n",
       "    }\n",
       "\n",
       "    .dataframe thead th {\n",
       "        text-align: right;\n",
       "    }\n",
       "</style>\n",
       "<table border=\"1\" class=\"dataframe\">\n",
       "  <thead>\n",
       "    <tr style=\"text-align: right;\">\n",
       "      <th></th>\n",
       "      <th>chunk_index</th>\n",
       "      <th>chunk_text</th>\n",
       "      <th>chunk_tokens</th>\n",
       "      <th>chunk_token_count</th>\n",
       "      <th>id</th>\n",
       "      <th>url</th>\n",
       "      <th>score</th>\n",
       "      <th>dump</th>\n",
       "      <th>embedding</th>\n",
       "    </tr>\n",
       "  </thead>\n",
       "  <tbody>\n",
       "    <tr>\n",
       "      <th>168141</th>\n",
       "      <td>2</td>\n",
       "      <td>[SEP]</td>\n",
       "      <td>[102]</td>\n",
       "      <td>1</td>\n",
       "      <td>&lt;urn:uuid:4c22d5ca-1ffb-4b58-a113-1bf47d6953ee&gt;</td>\n",
       "      <td>https://www.wired.com/2005/10/mapping-katrinas...</td>\n",
       "      <td>3.531250</td>\n",
       "      <td>CC-MAIN-2020-05</td>\n",
       "      <td>[0.048728548, 0.06860847, -0.22434144, -0.0079...</td>\n",
       "    </tr>\n",
       "    <tr>\n",
       "      <th>22349</th>\n",
       "      <td>2</td>\n",
       "      <td>[SEP]</td>\n",
       "      <td>[102]</td>\n",
       "      <td>1</td>\n",
       "      <td>&lt;urn:uuid:974d6c7a-e045-4fff-ab94-d56b3ad96a0d&gt;</td>\n",
       "      <td>https://preferhome.com/blog/elder-care-for-par...</td>\n",
       "      <td>2.671875</td>\n",
       "      <td>CC-MAIN-2017-26</td>\n",
       "      <td>[0.048728548, 0.06860847, -0.22434144, -0.0079...</td>\n",
       "    </tr>\n",
       "    <tr>\n",
       "      <th>172425</th>\n",
       "      <td>4</td>\n",
       "      <td>[SEP]</td>\n",
       "      <td>[102]</td>\n",
       "      <td>1</td>\n",
       "      <td>&lt;urn:uuid:23827efd-395d-49fb-bf12-157f7c867ae2&gt;</td>\n",
       "      <td>http://artemaya.com/artist_life_bp.html</td>\n",
       "      <td>3.437500</td>\n",
       "      <td>CC-MAIN-2020-05</td>\n",
       "      <td>[0.04872725, 0.06852399, -0.22433548, -0.00797...</td>\n",
       "    </tr>\n",
       "    <tr>\n",
       "      <th>104574</th>\n",
       "      <td>2</td>\n",
       "      <td>[SEP]</td>\n",
       "      <td>[102]</td>\n",
       "      <td>1</td>\n",
       "      <td>&lt;urn:uuid:760669a8-a183-46d1-b23c-3cf1c86074e4&gt;</td>\n",
       "      <td>https://byjus.com/chemistry/daltons-atomic-the...</td>\n",
       "      <td>4.281250</td>\n",
       "      <td>CC-MAIN-2020-05</td>\n",
       "      <td>[0.04872725, 0.06852399, -0.22433548, -0.00797...</td>\n",
       "    </tr>\n",
       "    <tr>\n",
       "      <th>49273</th>\n",
       "      <td>2</td>\n",
       "      <td>[SEP]</td>\n",
       "      <td>[102]</td>\n",
       "      <td>1</td>\n",
       "      <td>&lt;urn:uuid:56a693bc-9678-4760-8d10-91a46ae8b655&gt;</td>\n",
       "      <td>http://www.youthinkgreen.org/en/unifying-globa...</td>\n",
       "      <td>2.640625</td>\n",
       "      <td>CC-MAIN-2020-05</td>\n",
       "      <td>[0.04872725, 0.06852399, -0.22433548, -0.00797...</td>\n",
       "    </tr>\n",
       "  </tbody>\n",
       "</table>\n",
       "</div>"
      ],
      "text/plain": [
       "        chunk_index chunk_text chunk_tokens  chunk_token_count  \\\n",
       "168141            2      [SEP]        [102]                  1   \n",
       "22349             2      [SEP]        [102]                  1   \n",
       "172425            4      [SEP]        [102]                  1   \n",
       "104574            2      [SEP]        [102]                  1   \n",
       "49273             2      [SEP]        [102]                  1   \n",
       "\n",
       "                                                     id  \\\n",
       "168141  <urn:uuid:4c22d5ca-1ffb-4b58-a113-1bf47d6953ee>   \n",
       "22349   <urn:uuid:974d6c7a-e045-4fff-ab94-d56b3ad96a0d>   \n",
       "172425  <urn:uuid:23827efd-395d-49fb-bf12-157f7c867ae2>   \n",
       "104574  <urn:uuid:760669a8-a183-46d1-b23c-3cf1c86074e4>   \n",
       "49273   <urn:uuid:56a693bc-9678-4760-8d10-91a46ae8b655>   \n",
       "\n",
       "                                                      url     score  \\\n",
       "168141  https://www.wired.com/2005/10/mapping-katrinas...  3.531250   \n",
       "22349   https://preferhome.com/blog/elder-care-for-par...  2.671875   \n",
       "172425            http://artemaya.com/artist_life_bp.html  3.437500   \n",
       "104574  https://byjus.com/chemistry/daltons-atomic-the...  4.281250   \n",
       "49273   http://www.youthinkgreen.org/en/unifying-globa...  2.640625   \n",
       "\n",
       "                   dump                                          embedding  \n",
       "168141  CC-MAIN-2020-05  [0.048728548, 0.06860847, -0.22434144, -0.0079...  \n",
       "22349   CC-MAIN-2017-26  [0.048728548, 0.06860847, -0.22434144, -0.0079...  \n",
       "172425  CC-MAIN-2020-05  [0.04872725, 0.06852399, -0.22433548, -0.00797...  \n",
       "104574  CC-MAIN-2020-05  [0.04872725, 0.06852399, -0.22433548, -0.00797...  \n",
       "49273   CC-MAIN-2020-05  [0.04872725, 0.06852399, -0.22433548, -0.00797...  "
      ]
     },
     "execution_count": 5,
     "metadata": {},
     "output_type": "execute_result"
    }
   ],
   "source": [
    "cdf.head()"
   ]
  },
  {
   "cell_type": "code",
   "execution_count": 6,
   "metadata": {},
   "outputs": [
    {
     "data": {
      "text/html": [
       "<div>\n",
       "<style scoped>\n",
       "    .dataframe tbody tr th:only-of-type {\n",
       "        vertical-align: middle;\n",
       "    }\n",
       "\n",
       "    .dataframe tbody tr th {\n",
       "        vertical-align: top;\n",
       "    }\n",
       "\n",
       "    .dataframe thead th {\n",
       "        text-align: right;\n",
       "    }\n",
       "</style>\n",
       "<table border=\"1\" class=\"dataframe\">\n",
       "  <thead>\n",
       "    <tr style=\"text-align: right;\">\n",
       "      <th></th>\n",
       "      <th>text</th>\n",
       "      <th>id</th>\n",
       "      <th>dump</th>\n",
       "      <th>url</th>\n",
       "      <th>file_path</th>\n",
       "      <th>language</th>\n",
       "      <th>language_score</th>\n",
       "      <th>token_count</th>\n",
       "      <th>score</th>\n",
       "      <th>int_score</th>\n",
       "    </tr>\n",
       "  </thead>\n",
       "  <tbody>\n",
       "    <tr>\n",
       "      <th>61706</th>\n",
       "      <td>GULFPORT, Mississippi – As a backhoe scoops up...</td>\n",
       "      <td>&lt;urn:uuid:4c22d5ca-1ffb-4b58-a113-1bf47d6953ee&gt;</td>\n",
       "      <td>CC-MAIN-2020-05</td>\n",
       "      <td>https://www.wired.com/2005/10/mapping-katrinas...</td>\n",
       "      <td>s3://commoncrawl/crawl-data/CC-MAIN-2020-05/se...</td>\n",
       "      <td>en</td>\n",
       "      <td>0.976334</td>\n",
       "      <td>909</td>\n",
       "      <td>3.53125</td>\n",
       "      <td>4</td>\n",
       "    </tr>\n",
       "  </tbody>\n",
       "</table>\n",
       "</div>"
      ],
      "text/plain": [
       "                                                    text  \\\n",
       "61706  GULFPORT, Mississippi – As a backhoe scoops up...   \n",
       "\n",
       "                                                    id             dump  \\\n",
       "61706  <urn:uuid:4c22d5ca-1ffb-4b58-a113-1bf47d6953ee>  CC-MAIN-2020-05   \n",
       "\n",
       "                                                     url  \\\n",
       "61706  https://www.wired.com/2005/10/mapping-katrinas...   \n",
       "\n",
       "                                               file_path language  \\\n",
       "61706  s3://commoncrawl/crawl-data/CC-MAIN-2020-05/se...       en   \n",
       "\n",
       "       language_score  token_count    score  int_score  \n",
       "61706        0.976334          909  3.53125          4  "
      ]
     },
     "execution_count": 6,
     "metadata": {},
     "output_type": "execute_result"
    }
   ],
   "source": [
    "df[df['id'] == \"<urn:uuid:4c22d5ca-1ffb-4b58-a113-1bf47d6953ee>\"]"
   ]
  },
  {
   "cell_type": "code",
   "execution_count": 7,
   "metadata": {},
   "outputs": [
    {
     "data": {
      "text/html": [
       "<div>\n",
       "<style scoped>\n",
       "    .dataframe tbody tr th:only-of-type {\n",
       "        vertical-align: middle;\n",
       "    }\n",
       "\n",
       "    .dataframe tbody tr th {\n",
       "        vertical-align: top;\n",
       "    }\n",
       "\n",
       "    .dataframe thead th {\n",
       "        text-align: right;\n",
       "    }\n",
       "</style>\n",
       "<table border=\"1\" class=\"dataframe\">\n",
       "  <thead>\n",
       "    <tr style=\"text-align: right;\">\n",
       "      <th></th>\n",
       "      <th>chunk_index</th>\n",
       "      <th>chunk_text</th>\n",
       "      <th>chunk_tokens</th>\n",
       "      <th>chunk_token_count</th>\n",
       "      <th>id</th>\n",
       "      <th>url</th>\n",
       "      <th>score</th>\n",
       "      <th>dump</th>\n",
       "      <th>embedding</th>\n",
       "    </tr>\n",
       "  </thead>\n",
       "  <tbody>\n",
       "    <tr>\n",
       "      <th>168141</th>\n",
       "      <td>2</td>\n",
       "      <td>[SEP]</td>\n",
       "      <td>[102]</td>\n",
       "      <td>1</td>\n",
       "      <td>&lt;urn:uuid:4c22d5ca-1ffb-4b58-a113-1bf47d6953ee&gt;</td>\n",
       "      <td>https://www.wired.com/2005/10/mapping-katrinas...</td>\n",
       "      <td>3.53125</td>\n",
       "      <td>CC-MAIN-2020-05</td>\n",
       "      <td>[0.048728548, 0.06860847, -0.22434144, -0.0079...</td>\n",
       "    </tr>\n",
       "    <tr>\n",
       "      <th>168140</th>\n",
       "      <td>1</td>\n",
       "      <td>. \" hurricane force winds extended 125 miles f...</td>\n",
       "      <td>[1012, 1000, 7064, 2486, 7266, 3668, 8732, 266...</td>\n",
       "      <td>451</td>\n",
       "      <td>&lt;urn:uuid:4c22d5ca-1ffb-4b58-a113-1bf47d6953ee&gt;</td>\n",
       "      <td>https://www.wired.com/2005/10/mapping-katrinas...</td>\n",
       "      <td>3.53125</td>\n",
       "      <td>CC-MAIN-2020-05</td>\n",
       "      <td>[0.054695774, 0.05058043, -0.22701378, -0.0780...</td>\n",
       "    </tr>\n",
       "    <tr>\n",
       "      <th>168139</th>\n",
       "      <td>0</td>\n",
       "      <td>[CLS] gulfport, mississippi – as a backhoe sco...</td>\n",
       "      <td>[101, 6084, 6442, 1010, 5900, 1516, 2004, 1037...</td>\n",
       "      <td>500</td>\n",
       "      <td>&lt;urn:uuid:4c22d5ca-1ffb-4b58-a113-1bf47d6953ee&gt;</td>\n",
       "      <td>https://www.wired.com/2005/10/mapping-katrinas...</td>\n",
       "      <td>3.53125</td>\n",
       "      <td>CC-MAIN-2020-05</td>\n",
       "      <td>[0.059140284, 0.03848576, -0.2385424, -0.07934...</td>\n",
       "    </tr>\n",
       "  </tbody>\n",
       "</table>\n",
       "</div>"
      ],
      "text/plain": [
       "        chunk_index                                         chunk_text  \\\n",
       "168141            2                                              [SEP]   \n",
       "168140            1  . \" hurricane force winds extended 125 miles f...   \n",
       "168139            0  [CLS] gulfport, mississippi – as a backhoe sco...   \n",
       "\n",
       "                                             chunk_tokens  chunk_token_count  \\\n",
       "168141                                              [102]                  1   \n",
       "168140  [1012, 1000, 7064, 2486, 7266, 3668, 8732, 266...                451   \n",
       "168139  [101, 6084, 6442, 1010, 5900, 1516, 2004, 1037...                500   \n",
       "\n",
       "                                                     id  \\\n",
       "168141  <urn:uuid:4c22d5ca-1ffb-4b58-a113-1bf47d6953ee>   \n",
       "168140  <urn:uuid:4c22d5ca-1ffb-4b58-a113-1bf47d6953ee>   \n",
       "168139  <urn:uuid:4c22d5ca-1ffb-4b58-a113-1bf47d6953ee>   \n",
       "\n",
       "                                                      url    score  \\\n",
       "168141  https://www.wired.com/2005/10/mapping-katrinas...  3.53125   \n",
       "168140  https://www.wired.com/2005/10/mapping-katrinas...  3.53125   \n",
       "168139  https://www.wired.com/2005/10/mapping-katrinas...  3.53125   \n",
       "\n",
       "                   dump                                          embedding  \n",
       "168141  CC-MAIN-2020-05  [0.048728548, 0.06860847, -0.22434144, -0.0079...  \n",
       "168140  CC-MAIN-2020-05  [0.054695774, 0.05058043, -0.22701378, -0.0780...  \n",
       "168139  CC-MAIN-2020-05  [0.059140284, 0.03848576, -0.2385424, -0.07934...  "
      ]
     },
     "execution_count": 7,
     "metadata": {},
     "output_type": "execute_result"
    }
   ],
   "source": [
    "cdf[cdf['id'] == \"<urn:uuid:4c22d5ca-1ffb-4b58-a113-1bf47d6953ee>\"]"
   ]
  },
  {
   "cell_type": "code",
   "execution_count": 11,
   "metadata": {},
   "outputs": [
    {
     "data": {
      "text/plain": [
       "168141                                                [SEP]\n",
       "168140    . \" hurricane force winds extended 125 miles f...\n",
       "168139    [CLS] gulfport, mississippi – as a backhoe sco...\n",
       "Name: chunk_text, dtype: object"
      ]
     },
     "execution_count": 11,
     "metadata": {},
     "output_type": "execute_result"
    }
   ],
   "source": [
    "cdf[cdf['id'] == \"<urn:uuid:4c22d5ca-1ffb-4b58-a113-1bf47d6953ee>\"][\"chunk_text\"]"
   ]
  },
  {
   "cell_type": "code",
   "execution_count": 12,
   "metadata": {},
   "outputs": [
    {
     "name": "stdout",
     "output_type": "stream",
     "text": [
      "GULFPORT, Mississippi – As a backhoe scoops up a massive pile of torn-up drywall, furniture and soggy carpets in front of the home, Gary Bryan and two other surveyors examine the spot.\n",
      "They're one of several crews hired by the government to painstakingly map flood levels from Louisiana to Florida. Across 90,000 square miles, crews are tracking down hundreds of markings posted by earlier teams right after the storm. They record their location and elevation.\n",
      "Their goal is to create an atlas. Emergency planners want to learn not only what happened during Katrina, but to prepare for what might happen with future storms. How high might the water surge next time?\n",
      "The house where the crew found one of the markers is a whole half-mile from the Gulf of Mexico. But it's near Bernard Bayou, which rose when the hurricane roared onto land Aug. 29.\n",
      "\"I'm from Florida. We had three eyes come pretty close to us and we didn't even get teased compared to this,\" Bryan said, comparing Katrina's wrath to the hurricanes that smashed last year through his home state.\n",
      "Surge is the water a hurricane pushes up as it approaches shore. A number of factors contribute to its size: wind strength, air pressure, the size of a storm's eye, the distance hurricane force winds extend from the center, the speed at which it comes ashore and the angle at which it hits.\n",
      "So a Category 4 hurricane, if it's especially slow and large, can have a much larger surge than a stronger Category 5 storm. The Gulf Coast is more vulnerable to a high surge than the Atlantic coast because of its shallow continental shelf. Waters rise more easily when there's less of it to push.\n",
      "A mistake many people made in deciding to ride out Hurricane Katrina, a Category 4 storm, was thinking it wouldn't be as bad as Hurricane Camille, a Category 5 storm that struck the same area 36 years ago.\n",
      "\"This storm was much larger than Camille,\" said Pat Fitzpatrick, a research professor at Mississippi State University's GeoResources Institute. \"What people need to realize is they need to pay attention to the size of the storm and not just the intensity.\"\n",
      "Hurricane force winds extended 125 miles from Katrina's center, compared to 60 miles for Camille, he said. Also, Katrina's eye was 32 miles wide even though a storm of its intensity normally has an eye that is 10 miles wide.\n",
      "Scientists know much more about surge today than they did in 1969 when Camille hit. They can predict with reasonable accuracy what the surge will be. But the unpredictable nature of storms makes it difficult to say far in advance which areas will be flooded and how much higher the wind-whipped waves on top of the surge will be.\n",
      "For example, Hurricane Ivan last year was predicted to hit west of Mobile, Alabama. If it had, it would have sent 12 feet of storm surge into the area and 4 feet over the Pensacola area.\n",
      "But just hours before landfall, it shifted and hit east of the city. It spared Mobile, but sent a 10-foot surge over the Florida Panhandle, said Stephen Baig, a storm surge expert at the National Hurricane Center in Miami.\n",
      "In the case of Katrina, estimates have ranged from a 35-foot surge in Waveland to at least 15 feet along the entire Mississippi coast, which demolished scores of buildings near the Gulf and led to extensive inland flooding. Areas were covered in water that never before were known to flood.\n",
      "\"There's a lot of talk about what the surge was and, 'We measured it at this,' but nobody knows those real numbers,\" said Baig. \"People could well have observed a 30-foot raised level of water with a 25- to 28-foot surge being part of it.\"\n",
      "Scientists hope public officials and residents will learn from Katrina that storm surge can be dangerous, destructive and unpredictable.\n",
      "Gertrude Taylor said her husband is one of those people who made the Camille comparison and convinced her to ride out Katrina in their Gulfport home.\n",
      "\"He's from the coast. He said he ain't worried about it. He said we're going to stick it out,\" said Taylor.\n",
      "She said she realized they were both crazy for staying when nearby homes were being ripped from foundations.\n",
      "\"I jumped out of the bed and got under it. It seemed like the whole house was rocking.\"\n"
     ]
    }
   ],
   "source": [
    "# Get the full text string of the rows and display it\n",
    "full_text = df[df['id'] == \"<urn:uuid:4c22d5ca-1ffb-4b58-a113-1bf47d6953ee>\"]['text'].values[0]\n",
    "print(full_text)\n"
   ]
  },
  {
   "cell_type": "code",
   "execution_count": 15,
   "metadata": {},
   "outputs": [],
   "source": [
    "cfull_text = cdf[cdf['id'] == \"<urn:uuid:4c22d5ca-1ffb-4b58-a113-1bf47d6953ee>\"][\"chunk_text\"].values[1]"
   ]
  },
  {
   "cell_type": "code",
   "execution_count": 16,
   "metadata": {},
   "outputs": [
    {
     "name": "stdout",
     "output_type": "stream",
     "text": [
      ". \" hurricane force winds extended 125 miles from katrina's center, compared to 60 miles for camille, he said. also, katrina's eye was 32 miles wide even though a storm of its intensity normally has an eye that is 10 miles wide. scientists know much more about surge today than they did in 1969 when camille hit. they can predict with reasonable accuracy what the surge will be. but the unpredictable nature of storms makes it difficult to say far in advance which areas will be flooded and how much higher the wind - whipped waves on top of the surge will be. for example, hurricane ivan last year was predicted to hit west of mobile, alabama. if it had, it would have sent 12 feet of storm surge into the area and 4 feet over the pensacola area. but just hours before landfall, it shifted and hit east of the city. it spared mobile, but sent a 10 - foot surge over the florida panhandle, said stephen baig, a storm surge expert at the national hurricane center in miami. in the case of katrina, estimates have ranged from a 35 - foot surge in waveland to at least 15 feet along the entire mississippi coast, which demolished scores of buildings near the gulf and led to extensive inland flooding. areas were covered in water that never before were known to flood. \" there's a lot of talk about what the surge was and,'we measured it at this,'but nobody knows those real numbers, \" said baig. \" people could well have observed a 30 - foot raised level of water with a 25 - to 28 - foot surge being part of it. \" scientists hope public officials and residents will learn from katrina that storm surge can be dangerous, destructive and unpredictable. gertrude taylor said her husband is one of those people who made the camille comparison and convinced her to ride out katrina in their gulfport home. \" he's from the coast. he said he ain't worried about it. he said we're going to stick it out, \" said taylor. she said she realized they were both crazy for staying when nearby homes were being ripped from foundations. \" i jumped out of the bed and got under it. it seemed like the whole house was rocking. \" [SEP]\n"
     ]
    }
   ],
   "source": [
    "print(cfull_text)"
   ]
  },
  {
   "cell_type": "code",
   "execution_count": 17,
   "metadata": {},
   "outputs": [],
   "source": [
    "tokenizer =  AutoTokenizer.from_pretrained(\"bert-base-uncased\")"
   ]
  },
  {
   "cell_type": "code",
   "execution_count": 18,
   "metadata": {},
   "outputs": [],
   "source": [
    "tokens = tokenizer.encode(full_text)"
   ]
  },
  {
   "cell_type": "code",
   "execution_count": 19,
   "metadata": {},
   "outputs": [
    {
     "data": {
      "text/plain": [
       "901"
      ]
     },
     "execution_count": 19,
     "metadata": {},
     "output_type": "execute_result"
    }
   ],
   "source": [
    "len(tokens)"
   ]
  },
  {
   "cell_type": "code",
   "execution_count": 20,
   "metadata": {},
   "outputs": [],
   "source": [
    "# weird chunks are because of the 50 overlap. 901 tokens means one 500 chunk, then start at 450 and get 451 tokens. \n",
    "# but next start_index is 900 so we get one more chunk of 1 tokens"
   ]
  },
  {
   "cell_type": "code",
   "execution_count": null,
   "metadata": {},
   "outputs": [],
   "source": []
  }
 ],
 "metadata": {
  "kernelspec": {
   "display_name": "modalenv",
   "language": "python",
   "name": "python3"
  },
  "language_info": {
   "codemirror_mode": {
    "name": "ipython",
    "version": 3
   },
   "file_extension": ".py",
   "mimetype": "text/x-python",
   "name": "python",
   "nbconvert_exporter": "python",
   "pygments_lexer": "ipython3",
   "version": "3.11.6"
  }
 },
 "nbformat": 4,
 "nbformat_minor": 2
}
